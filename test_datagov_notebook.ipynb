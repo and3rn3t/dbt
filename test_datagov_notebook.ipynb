{
 "cells": [
  {
   "cell_type": "markdown",
   "id": "19c141e2",
   "metadata": {},
   "source": [
    "# Testing data.gov API Access\n",
    "\n",
    "Let's explore how to fetch data from data.gov using the Socrata API."
   ]
  },
  {
   "cell_type": "code",
   "execution_count": 1,
   "id": "baa45d1b",
   "metadata": {},
   "outputs": [
    {
     "name": "stdout",
     "output_type": "stream",
     "text": [
      "✓ Libraries imported successfully\n"
     ]
    }
   ],
   "source": [
    "# Install sodapy if needed\n",
    "# !pip install sodapy\n",
    "\n",
    "from sodapy import Socrata\n",
    "import pandas as pd\n",
    "import os\n",
    "from pathlib import Path\n",
    "\n",
    "print(\"✓ Libraries imported successfully\")"
   ]
  },
  {
   "cell_type": "markdown",
   "id": "1555021c",
   "metadata": {},
   "source": [
    "## Available Data Sources\n",
    "\n",
    "Data.gov uses the Socrata Open Data API. Different datasets are hosted on different domains:\n",
    "\n",
    "- **data.cityofnewyork.us** - NYC Open Data\n",
    "- **data.seattle.gov** - Seattle Open Data\n",
    "- **data.cityofchicago.org** - Chicago Data Portal\n",
    "- **chronicdata.cdc.gov** - CDC Data\n",
    "\n",
    "Popular datasets:\n",
    "- NYC 311 Service Requests: `fhrw-4uyv` (NYC)\n",
    "- COVID-19 Case Surveillance: `vbim-akqf` (CDC)\n",
    "- Chicago Crimes: `ijzp-q8t2` (Chicago)"
   ]
  },
  {
   "cell_type": "code",
   "execution_count": 2,
   "id": "1a876d2b",
   "metadata": {},
   "outputs": [
    {
     "name": "stderr",
     "output_type": "stream",
     "text": [
      "WARNING:root:Requests made without an app_token will be subject to strict throttling limits.\n"
     ]
    },
    {
     "name": "stdout",
     "output_type": "stream",
     "text": [
      "Testing with dataset: fhrw-4uyv\n",
      "Domain: data.cityofnewyork.us\n",
      "✓ Connected to Socrata API\n",
      "❌ Error: HTTPSConnectionPool(host='data.cityofnewyork.us', port=443): Read timed out. (read timeout=10)\n"
     ]
    }
   ],
   "source": [
    "# Test with NYC 311 Service Requests (smaller sample)\n",
    "dataset_id = \"fhrw-4uyv\"\n",
    "domain = \"data.cityofnewyork.us\"\n",
    "\n",
    "print(f\"Testing with dataset: {dataset_id}\")\n",
    "print(f\"Domain: {domain}\")\n",
    "\n",
    "try:\n",
    "    client = Socrata(domain, None)\n",
    "    print(\"✓ Connected to Socrata API\")\n",
    "    \n",
    "    # Fetch just 10 records to test\n",
    "    results = client.get(dataset_id, limit=10)\n",
    "    df = pd.DataFrame.from_records(results)\n",
    "    \n",
    "    print(f\"\\n✓ Successfully fetched {len(df)} records!\")\n",
    "    print(f\"Columns: {list(df.columns)}\")\n",
    "    \n",
    "except Exception as e:\n",
    "    print(f\"❌ Error: {e}\")"
   ]
  },
  {
   "cell_type": "code",
   "execution_count": null,
   "id": "afa4f028",
   "metadata": {},
   "outputs": [],
   "source": [
    "# Display the data\n",
    "if 'df' in locals() and not df.empty:\n",
    "    display(df.head())\n",
    "    print(f\"\\nShape: {df.shape}\")\n",
    "    print(f\"\\nData types:\\n{df.dtypes}\")\n",
    "else:\n",
    "    print(\"No data loaded yet\")"
   ]
  },
  {
   "cell_type": "markdown",
   "id": "d42ecd32",
   "metadata": {},
   "source": [
    "## Try Different Datasets\n",
    "\n",
    "Let's try fetching from different sources:"
   ]
  },
  {
   "cell_type": "code",
   "execution_count": 3,
   "id": "da6cb710",
   "metadata": {},
   "outputs": [],
   "source": [
    "# Chicago Crime Data\n",
    "def test_dataset(domain, dataset_id, name, limit=10):\n",
    "    \"\"\"\n",
    "    Test fetching a dataset from Socrata\n",
    "    \"\"\"\n",
    "    print(f\"\\n{'='*60}\")\n",
    "    print(f\"Testing: {name}\")\n",
    "    print(f\"Dataset ID: {dataset_id}\")\n",
    "    print(f\"Domain: {domain}\")\n",
    "    print(f\"{'='*60}\")\n",
    "    \n",
    "    try:\n",
    "        client = Socrata(domain, None)\n",
    "        results = client.get(dataset_id, limit=limit)\n",
    "        df = pd.DataFrame.from_records(results)\n",
    "        \n",
    "        print(f\"✓ Success! Fetched {len(df)} records\")\n",
    "        print(f\"Columns ({len(df.columns)}): {', '.join(df.columns[:5].tolist())}...\")\n",
    "        return df\n",
    "        \n",
    "    except Exception as e:\n",
    "        print(f\"❌ Failed: {e}\")\n",
    "        return None"
   ]
  },
  {
   "cell_type": "code",
   "execution_count": 4,
   "id": "6d649847",
   "metadata": {},
   "outputs": [
    {
     "name": "stderr",
     "output_type": "stream",
     "text": [
      "WARNING:root:Requests made without an app_token will be subject to strict throttling limits.\n"
     ]
    },
    {
     "name": "stdout",
     "output_type": "stream",
     "text": [
      "\n",
      "============================================================\n",
      "Testing: NYC 311 Service Requests\n",
      "Dataset ID: fhrw-4uyv\n",
      "Domain: data.cityofnewyork.us\n",
      "============================================================\n"
     ]
    },
    {
     "name": "stderr",
     "output_type": "stream",
     "text": [
      "WARNING:root:Requests made without an app_token will be subject to strict throttling limits.\n"
     ]
    },
    {
     "name": "stdout",
     "output_type": "stream",
     "text": [
      "❌ Failed: HTTPSConnectionPool(host='data.cityofnewyork.us', port=443): Read timed out. (read timeout=10)\n",
      "\n",
      "============================================================\n",
      "Testing: Chicago Crimes\n",
      "Dataset ID: ijzp-q8t2\n",
      "Domain: data.cityofchicago.org\n",
      "============================================================\n"
     ]
    },
    {
     "name": "stderr",
     "output_type": "stream",
     "text": [
      "WARNING:root:Requests made without an app_token will be subject to strict throttling limits.\n"
     ]
    },
    {
     "name": "stdout",
     "output_type": "stream",
     "text": [
      "❌ Failed: HTTPSConnectionPool(host='data.cityofchicago.org', port=443): Read timed out. (read timeout=10)\n",
      "\n",
      "============================================================\n",
      "Testing: Seattle Police Reports\n",
      "Dataset ID: kzjm-xkqj\n",
      "Domain: data.seattle.gov\n",
      "============================================================\n"
     ]
    },
    {
     "name": "stderr",
     "output_type": "stream",
     "text": [
      "WARNING:root:Requests made without an app_token will be subject to strict throttling limits.\n"
     ]
    },
    {
     "name": "stdout",
     "output_type": "stream",
     "text": [
      "✓ Success! Fetched 5 records\n",
      "Columns (10): address, type, datetime, latitude, longitude...\n",
      "\n",
      "============================================================\n",
      "Testing: CDC COVID-19 Data\n",
      "Dataset ID: vbim-akqf\n",
      "Domain: chronicdata.cdc.gov\n",
      "============================================================\n",
      "✓ Success! Fetched 5 records\n",
      "Columns (12): cdc_case_earliest_dt, cdc_report_dt, pos_spec_dt, onset_dt, current_status...\n"
     ]
    }
   ],
   "source": [
    "# Test multiple datasets\n",
    "datasets = [\n",
    "    (\"data.cityofnewyork.us\", \"fhrw-4uyv\", \"NYC 311 Service Requests\"),\n",
    "    (\"data.cityofchicago.org\", \"ijzp-q8t2\", \"Chicago Crimes\"),\n",
    "    (\"data.seattle.gov\", \"kzjm-xkqj\", \"Seattle Police Reports\"),\n",
    "    (\"chronicdata.cdc.gov\", \"vbim-akqf\", \"CDC COVID-19 Data\"),\n",
    "]\n",
    "\n",
    "results = {}\n",
    "for domain, dataset_id, name in datasets:\n",
    "    df = test_dataset(domain, dataset_id, name, limit=5)\n",
    "    if df is not None:\n",
    "        results[name] = df"
   ]
  },
  {
   "cell_type": "code",
   "execution_count": 5,
   "id": "5799d0f6",
   "metadata": {},
   "outputs": [
    {
     "name": "stdout",
     "output_type": "stream",
     "text": [
      "\n",
      "\n",
      "============================================================\n",
      "SUMMARY\n",
      "============================================================\n",
      "\n",
      "Successfully loaded 2 datasets:\n",
      "\n",
      "  ✓ Seattle Police Reports\n",
      "  ✓ CDC COVID-19 Data\n"
     ]
    }
   ],
   "source": [
    "# Show which datasets worked\n",
    "print(f\"\\n\\n{'='*60}\")\n",
    "print(\"SUMMARY\")\n",
    "print(f\"{'='*60}\\n\")\n",
    "print(f\"Successfully loaded {len(results)} datasets:\\n\")\n",
    "for name in results.keys():\n",
    "    print(f\"  ✓ {name}\")"
   ]
  },
  {
   "cell_type": "markdown",
   "id": "aa38f5b9",
   "metadata": {},
   "source": [
    "## Fetch a Larger Dataset\n",
    "\n",
    "Now let's fetch more data from a working dataset:"
   ]
  },
  {
   "cell_type": "code",
   "execution_count": 6,
   "id": "432c4c25",
   "metadata": {},
   "outputs": [
    {
     "name": "stderr",
     "output_type": "stream",
     "text": [
      "WARNING:root:Requests made without an app_token will be subject to strict throttling limits.\n"
     ]
    },
    {
     "name": "stdout",
     "output_type": "stream",
     "text": [
      "Fetching 1000 records from Seattle Police Reports...\n",
      "\n",
      "✓ Fetched 1,000 records\n",
      "✓ Columns: 12\n",
      "✓ Memory usage: 0.83 MB\n"
     ]
    }
   ],
   "source": [
    "# Pick the first working dataset and fetch more records\n",
    "if results:\n",
    "    # Use Seattle Police Reports (working dataset)\n",
    "    domain = \"data.seattle.gov\"\n",
    "    dataset_id = \"kzjm-xkqj\"\n",
    "    limit = 1000\n",
    "    \n",
    "    print(f\"Fetching {limit} records from Seattle Police Reports...\")\n",
    "    \n",
    "    client = Socrata(domain, None)\n",
    "    results_large = client.get(dataset_id, limit=limit)\n",
    "    df_large = pd.DataFrame.from_records(results_large)\n",
    "    \n",
    "    print(f\"\\n✓ Fetched {len(df_large):,} records\")\n",
    "    print(f\"✓ Columns: {len(df_large.columns)}\")\n",
    "    print(f\"✓ Memory usage: {df_large.memory_usage(deep=True).sum() / 1024**2:.2f} MB\")\n",
    "else:\n",
    "    print(\"No datasets loaded successfully\")"
   ]
  },
  {
   "cell_type": "code",
   "execution_count": 7,
   "id": "c809d09e",
   "metadata": {},
   "outputs": [
    {
     "name": "stdout",
     "output_type": "stream",
     "text": [
      "First few rows:\n"
     ]
    },
    {
     "data": {
      "text/html": [
       "<div>\n",
       "<style scoped>\n",
       "    .dataframe tbody tr th:only-of-type {\n",
       "        vertical-align: middle;\n",
       "    }\n",
       "\n",
       "    .dataframe tbody tr th {\n",
       "        vertical-align: top;\n",
       "    }\n",
       "\n",
       "    .dataframe thead th {\n",
       "        text-align: right;\n",
       "    }\n",
       "</style>\n",
       "<table border=\"1\" class=\"dataframe\">\n",
       "  <thead>\n",
       "    <tr style=\"text-align: right;\">\n",
       "      <th></th>\n",
       "      <th>address</th>\n",
       "      <th>type</th>\n",
       "      <th>datetime</th>\n",
       "      <th>latitude</th>\n",
       "      <th>longitude</th>\n",
       "      <th>report_location</th>\n",
       "      <th>incident_number</th>\n",
       "      <th>:@computed_region_ru88_fbhk</th>\n",
       "      <th>:@computed_region_kuhn_3gp2</th>\n",
       "      <th>:@computed_region_q256_3sug</th>\n",
       "      <th>:@computed_region_2day_rhn5</th>\n",
       "      <th>:@computed_region_cyqu_gs94</th>\n",
       "    </tr>\n",
       "  </thead>\n",
       "  <tbody>\n",
       "    <tr>\n",
       "      <th>0</th>\n",
       "      <td>2300 Elliott Ave</td>\n",
       "      <td>Auto Fire Alarm</td>\n",
       "      <td>2025-10-05T10:12:00.000</td>\n",
       "      <td>47.612046</td>\n",
       "      <td>-122.348232</td>\n",
       "      <td>{'type': 'Point', 'coordinates': [-122.348232,...</td>\n",
       "      <td>F250138091</td>\n",
       "      <td>5</td>\n",
       "      <td>9</td>\n",
       "      <td>19576</td>\n",
       "      <td>NaN</td>\n",
       "      <td>NaN</td>\n",
       "    </tr>\n",
       "    <tr>\n",
       "      <th>1</th>\n",
       "      <td>715 9th Ave</td>\n",
       "      <td>Aid Response</td>\n",
       "      <td>2025-10-05T10:09:00.000</td>\n",
       "      <td>47.606371</td>\n",
       "      <td>-122.325496</td>\n",
       "      <td>{'type': 'Point', 'coordinates': [-122.325496,...</td>\n",
       "      <td>F250138089</td>\n",
       "      <td>19</td>\n",
       "      <td>12</td>\n",
       "      <td>18379</td>\n",
       "      <td>NaN</td>\n",
       "      <td>NaN</td>\n",
       "    </tr>\n",
       "    <tr>\n",
       "      <th>2</th>\n",
       "      <td>Madison St / Minor Ave</td>\n",
       "      <td>Aid Response</td>\n",
       "      <td>2025-10-05T10:08:00.000</td>\n",
       "      <td>47.609802</td>\n",
       "      <td>-122.324029</td>\n",
       "      <td>{'type': 'Point', 'coordinates': [-122.324029,...</td>\n",
       "      <td>F250138090</td>\n",
       "      <td>19</td>\n",
       "      <td>12</td>\n",
       "      <td>18379</td>\n",
       "      <td>NaN</td>\n",
       "      <td>NaN</td>\n",
       "    </tr>\n",
       "    <tr>\n",
       "      <th>3</th>\n",
       "      <td>430 Minor Ave N</td>\n",
       "      <td>Automatic Medical Alarm</td>\n",
       "      <td>2025-10-05T10:08:00.000</td>\n",
       "      <td>47.622312</td>\n",
       "      <td>-122.332995</td>\n",
       "      <td>{'type': 'Point', 'coordinates': [-122.332995,...</td>\n",
       "      <td>F250138088</td>\n",
       "      <td>56</td>\n",
       "      <td>10</td>\n",
       "      <td>18390</td>\n",
       "      <td>NaN</td>\n",
       "      <td>NaN</td>\n",
       "    </tr>\n",
       "    <tr>\n",
       "      <th>4</th>\n",
       "      <td>7501 56th Ave Ne</td>\n",
       "      <td>Aid Response</td>\n",
       "      <td>2025-10-05T10:05:00.000</td>\n",
       "      <td>47.683193</td>\n",
       "      <td>-122.268012</td>\n",
       "      <td>{'type': 'Point', 'coordinates': [-122.268012,...</td>\n",
       "      <td>F250138087</td>\n",
       "      <td>55</td>\n",
       "      <td>48</td>\n",
       "      <td>18792</td>\n",
       "      <td>NaN</td>\n",
       "      <td>NaN</td>\n",
       "    </tr>\n",
       "  </tbody>\n",
       "</table>\n",
       "</div>"
      ],
      "text/plain": [
       "                  address                     type                 datetime  \\\n",
       "0        2300 Elliott Ave          Auto Fire Alarm  2025-10-05T10:12:00.000   \n",
       "1             715 9th Ave             Aid Response  2025-10-05T10:09:00.000   \n",
       "2  Madison St / Minor Ave             Aid Response  2025-10-05T10:08:00.000   \n",
       "3         430 Minor Ave N  Automatic Medical Alarm  2025-10-05T10:08:00.000   \n",
       "4        7501 56th Ave Ne             Aid Response  2025-10-05T10:05:00.000   \n",
       "\n",
       "    latitude    longitude                                    report_location  \\\n",
       "0  47.612046  -122.348232  {'type': 'Point', 'coordinates': [-122.348232,...   \n",
       "1  47.606371  -122.325496  {'type': 'Point', 'coordinates': [-122.325496,...   \n",
       "2  47.609802  -122.324029  {'type': 'Point', 'coordinates': [-122.324029,...   \n",
       "3  47.622312  -122.332995  {'type': 'Point', 'coordinates': [-122.332995,...   \n",
       "4  47.683193  -122.268012  {'type': 'Point', 'coordinates': [-122.268012,...   \n",
       "\n",
       "  incident_number :@computed_region_ru88_fbhk :@computed_region_kuhn_3gp2  \\\n",
       "0      F250138091                           5                           9   \n",
       "1      F250138089                          19                          12   \n",
       "2      F250138090                          19                          12   \n",
       "3      F250138088                          56                          10   \n",
       "4      F250138087                          55                          48   \n",
       "\n",
       "  :@computed_region_q256_3sug :@computed_region_2day_rhn5  \\\n",
       "0                       19576                         NaN   \n",
       "1                       18379                         NaN   \n",
       "2                       18379                         NaN   \n",
       "3                       18390                         NaN   \n",
       "4                       18792                         NaN   \n",
       "\n",
       "  :@computed_region_cyqu_gs94  \n",
       "0                         NaN  \n",
       "1                         NaN  \n",
       "2                         NaN  \n",
       "3                         NaN  \n",
       "4                         NaN  "
      ]
     },
     "metadata": {},
     "output_type": "display_data"
    },
    {
     "name": "stdout",
     "output_type": "stream",
     "text": [
      "\n",
      "Data info:\n",
      "<class 'pandas.core.frame.DataFrame'>\n",
      "RangeIndex: 1000 entries, 0 to 999\n",
      "Data columns (total 12 columns):\n",
      " #   Column                       Non-Null Count  Dtype \n",
      "---  ------                       --------------  ----- \n",
      " 0   address                      1000 non-null   object\n",
      " 1   type                         1000 non-null   object\n",
      " 2   datetime                     1000 non-null   object\n",
      " 3   latitude                     999 non-null    object\n",
      " 4   longitude                    999 non-null    object\n",
      " 5   report_location              1000 non-null   object\n",
      " 6   incident_number              1000 non-null   object\n",
      " 7   :@computed_region_ru88_fbhk  998 non-null    object\n",
      " 8   :@computed_region_kuhn_3gp2  998 non-null    object\n",
      " 9   :@computed_region_q256_3sug  1000 non-null   object\n",
      " 10  :@computed_region_2day_rhn5  81 non-null     object\n",
      " 11  :@computed_region_cyqu_gs94  74 non-null     object\n",
      "dtypes: object(12)\n",
      "memory usage: 93.9+ KB\n"
     ]
    }
   ],
   "source": [
    "# Explore the data\n",
    "if 'df_large' in locals():\n",
    "    print(\"First few rows:\")\n",
    "    display(df_large.head())\n",
    "    \n",
    "    print(\"\\nData info:\")\n",
    "    df_large.info()"
   ]
  },
  {
   "cell_type": "markdown",
   "id": "7b380de7",
   "metadata": {},
   "source": [
    "## Save to Data Lake"
   ]
  },
  {
   "cell_type": "code",
   "execution_count": 8,
   "id": "35b9db62",
   "metadata": {},
   "outputs": [
    {
     "name": "stdout",
     "output_type": "stream",
     "text": [
      "\n",
      "============================================================\n",
      "✓ Data Saved Successfully!\n",
      "============================================================\n",
      "File: data/raw/nyc_311_20251005_121831.csv\n",
      "Records: 1,000\n",
      "Size: 0.16 MB\n",
      "\n",
      "Next steps:\n",
      "1. Create a dbt staging model\n",
      "2. Run data quality checks\n",
      "3. Build analytics models\n"
     ]
    }
   ],
   "source": [
    "# Save the data\n",
    "if 'df_large' in locals() and not df_large.empty:\n",
    "    # Create data directories\n",
    "    Path('data/raw').mkdir(parents=True, exist_ok=True)\n",
    "    \n",
    "    # Save to CSV\n",
    "    from datetime import datetime\n",
    "    timestamp = datetime.now().strftime(\"%Y%m%d_%H%M%S\")\n",
    "    output_file = f\"data/raw/nyc_311_{timestamp}.csv\"\n",
    "    \n",
    "    df_large.to_csv(output_file, index=False)\n",
    "    \n",
    "    file_size_mb = os.path.getsize(output_file) / (1024**2)\n",
    "    \n",
    "    print(f\"\\n{'='*60}\")\n",
    "    print(\"✓ Data Saved Successfully!\")\n",
    "    print(f\"{'='*60}\")\n",
    "    print(f\"File: {output_file}\")\n",
    "    print(f\"Records: {len(df_large):,}\")\n",
    "    print(f\"Size: {file_size_mb:.2f} MB\")\n",
    "    print(f\"\\nNext steps:\")\n",
    "    print(\"1. Create a dbt staging model\")\n",
    "    print(\"2. Run data quality checks\")\n",
    "    print(\"3. Build analytics models\")"
   ]
  },
  {
   "cell_type": "markdown",
   "id": "a72b2a2b",
   "metadata": {},
   "source": [
    "## Data Analysis Preview"
   ]
  },
  {
   "cell_type": "code",
   "execution_count": 9,
   "id": "ef0027a3",
   "metadata": {},
   "outputs": [
    {
     "name": "stdout",
     "output_type": "stream",
     "text": [
      "\n",
      "Missing Data:\n"
     ]
    },
    {
     "data": {
      "text/html": [
       "<div>\n",
       "<style scoped>\n",
       "    .dataframe tbody tr th:only-of-type {\n",
       "        vertical-align: middle;\n",
       "    }\n",
       "\n",
       "    .dataframe tbody tr th {\n",
       "        vertical-align: top;\n",
       "    }\n",
       "\n",
       "    .dataframe thead th {\n",
       "        text-align: right;\n",
       "    }\n",
       "</style>\n",
       "<table border=\"1\" class=\"dataframe\">\n",
       "  <thead>\n",
       "    <tr style=\"text-align: right;\">\n",
       "      <th></th>\n",
       "      <th>Count</th>\n",
       "      <th>Percentage</th>\n",
       "    </tr>\n",
       "  </thead>\n",
       "  <tbody>\n",
       "    <tr>\n",
       "      <th>:@computed_region_cyqu_gs94</th>\n",
       "      <td>926</td>\n",
       "      <td>92.6</td>\n",
       "    </tr>\n",
       "    <tr>\n",
       "      <th>:@computed_region_2day_rhn5</th>\n",
       "      <td>919</td>\n",
       "      <td>91.9</td>\n",
       "    </tr>\n",
       "    <tr>\n",
       "      <th>:@computed_region_ru88_fbhk</th>\n",
       "      <td>2</td>\n",
       "      <td>0.2</td>\n",
       "    </tr>\n",
       "    <tr>\n",
       "      <th>:@computed_region_kuhn_3gp2</th>\n",
       "      <td>2</td>\n",
       "      <td>0.2</td>\n",
       "    </tr>\n",
       "    <tr>\n",
       "      <th>latitude</th>\n",
       "      <td>1</td>\n",
       "      <td>0.1</td>\n",
       "    </tr>\n",
       "    <tr>\n",
       "      <th>longitude</th>\n",
       "      <td>1</td>\n",
       "      <td>0.1</td>\n",
       "    </tr>\n",
       "  </tbody>\n",
       "</table>\n",
       "</div>"
      ],
      "text/plain": [
       "                             Count  Percentage\n",
       ":@computed_region_cyqu_gs94    926        92.6\n",
       ":@computed_region_2day_rhn5    919        91.9\n",
       ":@computed_region_ru88_fbhk      2         0.2\n",
       ":@computed_region_kuhn_3gp2      2         0.2\n",
       "latitude                         1         0.1\n",
       "longitude                        1         0.1"
      ]
     },
     "metadata": {},
     "output_type": "display_data"
    }
   ],
   "source": [
    "# Quick analysis\n",
    "if 'df_large' in locals() and not df_large.empty:\n",
    "    import matplotlib.pyplot as plt\n",
    "    import seaborn as sns\n",
    "    \n",
    "    # Set style\n",
    "    sns.set_style('whitegrid')\n",
    "    plt.rcParams['figure.figsize'] = (12, 6)\n",
    "    \n",
    "    # Example: If there's a category column\n",
    "    if 'complaint_type' in df_large.columns:\n",
    "        print(\"\\nTop 10 Complaint Types:\")\n",
    "        top_complaints = df_large['complaint_type'].value_counts().head(10)\n",
    "        print(top_complaints)\n",
    "        \n",
    "        # Visualization\n",
    "        plt.figure(figsize=(12, 6))\n",
    "        top_complaints.plot(kind='barh', color='steelblue')\n",
    "        plt.title('Top 10 NYC 311 Complaint Types', fontsize=16, fontweight='bold')\n",
    "        plt.xlabel('Number of Complaints', fontsize=12)\n",
    "        plt.ylabel('Complaint Type', fontsize=12)\n",
    "        plt.tight_layout()\n",
    "        plt.show()\n",
    "    \n",
    "    # Missing data analysis\n",
    "    print(\"\\nMissing Data:\")\n",
    "    missing = df_large.isnull().sum()\n",
    "    missing_pct = (missing / len(df_large) * 100).round(2)\n",
    "    missing_df = pd.DataFrame({'Count': missing, 'Percentage': missing_pct})\n",
    "    missing_df = missing_df[missing_df['Count'] > 0].sort_values('Count', ascending=False)\n",
    "    display(missing_df)"
   ]
  },
  {
   "cell_type": "markdown",
   "id": "aea1007f",
   "metadata": {},
   "source": [
    "## Summary\n",
    "\n",
    "This notebook demonstrates:\n",
    "1. ✅ Connecting to data.gov via Socrata API\n",
    "2. ✅ Testing different datasets\n",
    "3. ✅ Fetching larger datasets\n",
    "4. ✅ Saving to data lake\n",
    "5. ✅ Basic data analysis\n",
    "\n",
    "**Next Steps:**\n",
    "- Create dbt staging models for the fetched data\n",
    "- Build data quality tests\n",
    "- Create analytics/mart models\n",
    "- Set up automated data refreshes"
   ]
  }
 ],
 "metadata": {
  "kernelspec": {
   "display_name": "Python 3",
   "language": "python",
   "name": "python3"
  },
  "language_info": {
   "codemirror_mode": {
    "name": "ipython",
    "version": 3
   },
   "file_extension": ".py",
   "mimetype": "text/x-python",
   "name": "python",
   "nbconvert_exporter": "python",
   "pygments_lexer": "ipython3",
   "version": "3.11.9"
  }
 },
 "nbformat": 4,
 "nbformat_minor": 5
}
