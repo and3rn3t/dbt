{
 "cells": [
  {
   "cell_type": "markdown",
   "id": "e0e525c2",
   "metadata": {},
   "source": [
    "# Seattle Police Reports - Data Cleaning Pipeline\n",
    "\n",
    "This notebook demonstrates a complete data cleaning workflow:\n",
    "1. Load raw data\n",
    "2. Explore and understand the data\n",
    "3. Clean and transform\n",
    "4. Validate quality\n",
    "5. Save cleaned data"
   ]
  },
  {
   "cell_type": "markdown",
   "id": "2674a51c",
   "metadata": {},
   "source": [
    "## 1. Setup and Load Data"
   ]
  },
  {
   "cell_type": "code",
   "execution_count": 1,
   "id": "75a670ed",
   "metadata": {},
   "outputs": [
    {
     "name": "stdout",
     "output_type": "stream",
     "text": [
      "✓ Libraries imported\n"
     ]
    }
   ],
   "source": [
    "import pandas as pd\n",
    "import numpy as np\n",
    "import matplotlib.pyplot as plt\n",
    "import seaborn as sns\n",
    "from pathlib import Path\n",
    "import json\n",
    "from datetime import datetime\n",
    "\n",
    "# Set display options\n",
    "pd.set_option('display.max_columns', None)\n",
    "pd.set_option('display.max_rows', 100)\n",
    "pd.set_option('display.width', None)\n",
    "\n",
    "# Plotting style\n",
    "sns.set_style('whitegrid')\n",
    "plt.rcParams['figure.figsize'] = (14, 6)\n",
    "\n",
    "print(\"✓ Libraries imported\")"
   ]
  },
  {
   "cell_type": "code",
   "execution_count": 2,
   "id": "edb57fcc",
   "metadata": {},
   "outputs": [
    {
     "name": "stdout",
     "output_type": "stream",
     "text": [
      "Loading: data\\raw\\kzjm-xkqj_20251005_123701.csv\n",
      "✓ Loaded 5,000 records\n"
     ]
    }
   ],
   "source": [
    "# Find the most recent data file\n",
    "data_dir = Path('data/raw')\n",
    "data_files = sorted(data_dir.glob('kzjm-xkqj*.csv'))\n",
    "\n",
    "if data_files:\n",
    "    latest_file = data_files[-1]\n",
    "    print(f\"Loading: {latest_file}\")\n",
    "    df_raw = pd.read_csv(latest_file)\n",
    "    print(f\"✓ Loaded {len(df_raw):,} records\")\n",
    "else:\n",
    "    print(\"❌ No data files found. Run fetch_data_gov_v2.py first!\")"
   ]
  },
  {
   "cell_type": "markdown",
   "id": "db6d4070",
   "metadata": {},
   "source": [
    "## 2. Initial Data Exploration"
   ]
  },
  {
   "cell_type": "code",
   "execution_count": 3,
   "id": "1f41474a",
   "metadata": {},
   "outputs": [
    {
     "name": "stdout",
     "output_type": "stream",
     "text": [
      "Dataset Shape: (5000, 12)\n",
      "\n",
      "Column Names:\n",
      "['address', 'type', 'datetime', 'latitude', 'longitude', 'report_location', 'incident_number', ':@computed_region_ru88_fbhk', ':@computed_region_kuhn_3gp2', ':@computed_region_q256_3sug', ':@computed_region_2day_rhn5', ':@computed_region_cyqu_gs94']\n",
      "\n",
      "First few rows:\n"
     ]
    },
    {
     "data": {
      "text/html": [
       "<div>\n",
       "<style scoped>\n",
       "    .dataframe tbody tr th:only-of-type {\n",
       "        vertical-align: middle;\n",
       "    }\n",
       "\n",
       "    .dataframe tbody tr th {\n",
       "        vertical-align: top;\n",
       "    }\n",
       "\n",
       "    .dataframe thead th {\n",
       "        text-align: right;\n",
       "    }\n",
       "</style>\n",
       "<table border=\"1\" class=\"dataframe\">\n",
       "  <thead>\n",
       "    <tr style=\"text-align: right;\">\n",
       "      <th></th>\n",
       "      <th>address</th>\n",
       "      <th>type</th>\n",
       "      <th>datetime</th>\n",
       "      <th>latitude</th>\n",
       "      <th>longitude</th>\n",
       "      <th>report_location</th>\n",
       "      <th>incident_number</th>\n",
       "      <th>:@computed_region_ru88_fbhk</th>\n",
       "      <th>:@computed_region_kuhn_3gp2</th>\n",
       "      <th>:@computed_region_q256_3sug</th>\n",
       "      <th>:@computed_region_2day_rhn5</th>\n",
       "      <th>:@computed_region_cyqu_gs94</th>\n",
       "    </tr>\n",
       "  </thead>\n",
       "  <tbody>\n",
       "    <tr>\n",
       "      <th>0</th>\n",
       "      <td>100 Melrose Ave E</td>\n",
       "      <td>Aid Response</td>\n",
       "      <td>2025-10-05T10:20:00.000</td>\n",
       "      <td>47.618497</td>\n",
       "      <td>-122.327854</td>\n",
       "      <td>{'type': 'Point', 'coordinates': [-122.327854,...</td>\n",
       "      <td>F250138095</td>\n",
       "      <td>8.0</td>\n",
       "      <td>5.0</td>\n",
       "      <td>19578</td>\n",
       "      <td>NaN</td>\n",
       "      <td>NaN</td>\n",
       "    </tr>\n",
       "    <tr>\n",
       "      <th>1</th>\n",
       "      <td>6110 24th Ave Nw</td>\n",
       "      <td>Aid Response</td>\n",
       "      <td>2025-10-05T10:16:00.000</td>\n",
       "      <td>47.673170</td>\n",
       "      <td>-122.387587</td>\n",
       "      <td>{'type': 'Point', 'coordinates': [-122.387587,...</td>\n",
       "      <td>F250138094</td>\n",
       "      <td>4.0</td>\n",
       "      <td>1.0</td>\n",
       "      <td>18386</td>\n",
       "      <td>NaN</td>\n",
       "      <td>NaN</td>\n",
       "    </tr>\n",
       "    <tr>\n",
       "      <th>2</th>\n",
       "      <td>2300 Elliott Ave</td>\n",
       "      <td>Auto Fire Alarm</td>\n",
       "      <td>2025-10-05T10:12:00.000</td>\n",
       "      <td>47.612046</td>\n",
       "      <td>-122.348232</td>\n",
       "      <td>{'type': 'Point', 'coordinates': [-122.348232,...</td>\n",
       "      <td>F250138091</td>\n",
       "      <td>5.0</td>\n",
       "      <td>9.0</td>\n",
       "      <td>19576</td>\n",
       "      <td>NaN</td>\n",
       "      <td>NaN</td>\n",
       "    </tr>\n",
       "    <tr>\n",
       "      <th>3</th>\n",
       "      <td>715 9th Ave</td>\n",
       "      <td>Medic Response</td>\n",
       "      <td>2025-10-05T10:09:00.000</td>\n",
       "      <td>47.606371</td>\n",
       "      <td>-122.325496</td>\n",
       "      <td>{'type': 'Point', 'coordinates': [-122.325496,...</td>\n",
       "      <td>F250138089</td>\n",
       "      <td>19.0</td>\n",
       "      <td>12.0</td>\n",
       "      <td>18379</td>\n",
       "      <td>NaN</td>\n",
       "      <td>NaN</td>\n",
       "    </tr>\n",
       "    <tr>\n",
       "      <th>4</th>\n",
       "      <td>430 Minor Ave N</td>\n",
       "      <td>Automatic Medical Alarm</td>\n",
       "      <td>2025-10-05T10:08:00.000</td>\n",
       "      <td>47.622312</td>\n",
       "      <td>-122.332995</td>\n",
       "      <td>{'type': 'Point', 'coordinates': [-122.332995,...</td>\n",
       "      <td>F250138088</td>\n",
       "      <td>56.0</td>\n",
       "      <td>10.0</td>\n",
       "      <td>18390</td>\n",
       "      <td>NaN</td>\n",
       "      <td>NaN</td>\n",
       "    </tr>\n",
       "  </tbody>\n",
       "</table>\n",
       "</div>"
      ],
      "text/plain": [
       "             address                     type                 datetime  \\\n",
       "0  100 Melrose Ave E             Aid Response  2025-10-05T10:20:00.000   \n",
       "1   6110 24th Ave Nw             Aid Response  2025-10-05T10:16:00.000   \n",
       "2   2300 Elliott Ave          Auto Fire Alarm  2025-10-05T10:12:00.000   \n",
       "3        715 9th Ave           Medic Response  2025-10-05T10:09:00.000   \n",
       "4    430 Minor Ave N  Automatic Medical Alarm  2025-10-05T10:08:00.000   \n",
       "\n",
       "    latitude   longitude                                    report_location  \\\n",
       "0  47.618497 -122.327854  {'type': 'Point', 'coordinates': [-122.327854,...   \n",
       "1  47.673170 -122.387587  {'type': 'Point', 'coordinates': [-122.387587,...   \n",
       "2  47.612046 -122.348232  {'type': 'Point', 'coordinates': [-122.348232,...   \n",
       "3  47.606371 -122.325496  {'type': 'Point', 'coordinates': [-122.325496,...   \n",
       "4  47.622312 -122.332995  {'type': 'Point', 'coordinates': [-122.332995,...   \n",
       "\n",
       "  incident_number  :@computed_region_ru88_fbhk  :@computed_region_kuhn_3gp2  \\\n",
       "0      F250138095                          8.0                          5.0   \n",
       "1      F250138094                          4.0                          1.0   \n",
       "2      F250138091                          5.0                          9.0   \n",
       "3      F250138089                         19.0                         12.0   \n",
       "4      F250138088                         56.0                         10.0   \n",
       "\n",
       "   :@computed_region_q256_3sug  :@computed_region_2day_rhn5  \\\n",
       "0                        19578                          NaN   \n",
       "1                        18386                          NaN   \n",
       "2                        19576                          NaN   \n",
       "3                        18379                          NaN   \n",
       "4                        18390                          NaN   \n",
       "\n",
       "   :@computed_region_cyqu_gs94  \n",
       "0                          NaN  \n",
       "1                          NaN  \n",
       "2                          NaN  \n",
       "3                          NaN  \n",
       "4                          NaN  "
      ]
     },
     "execution_count": 3,
     "metadata": {},
     "output_type": "execute_result"
    }
   ],
   "source": [
    "# Basic info\n",
    "print(\"Dataset Shape:\", df_raw.shape)\n",
    "print(\"\\nColumn Names:\")\n",
    "print(df_raw.columns.tolist())\n",
    "print(\"\\nFirst few rows:\")\n",
    "df_raw.head()"
   ]
  },
  {
   "cell_type": "code",
   "execution_count": 4,
   "id": "ae6b65ee",
   "metadata": {},
   "outputs": [
    {
     "name": "stdout",
     "output_type": "stream",
     "text": [
      "Data Types and Missing Values:\n",
      "============================================================\n"
     ]
    },
    {
     "data": {
      "text/html": [
       "<div>\n",
       "<style scoped>\n",
       "    .dataframe tbody tr th:only-of-type {\n",
       "        vertical-align: middle;\n",
       "    }\n",
       "\n",
       "    .dataframe tbody tr th {\n",
       "        vertical-align: top;\n",
       "    }\n",
       "\n",
       "    .dataframe thead th {\n",
       "        text-align: right;\n",
       "    }\n",
       "</style>\n",
       "<table border=\"1\" class=\"dataframe\">\n",
       "  <thead>\n",
       "    <tr style=\"text-align: right;\">\n",
       "      <th></th>\n",
       "      <th>Column</th>\n",
       "      <th>Type</th>\n",
       "      <th>Non-Null</th>\n",
       "      <th>Null</th>\n",
       "      <th>Null %</th>\n",
       "    </tr>\n",
       "  </thead>\n",
       "  <tbody>\n",
       "    <tr>\n",
       "      <th>0</th>\n",
       "      <td>address</td>\n",
       "      <td>object</td>\n",
       "      <td>5000</td>\n",
       "      <td>0</td>\n",
       "      <td>0.00</td>\n",
       "    </tr>\n",
       "    <tr>\n",
       "      <th>1</th>\n",
       "      <td>type</td>\n",
       "      <td>object</td>\n",
       "      <td>5000</td>\n",
       "      <td>0</td>\n",
       "      <td>0.00</td>\n",
       "    </tr>\n",
       "    <tr>\n",
       "      <th>2</th>\n",
       "      <td>datetime</td>\n",
       "      <td>object</td>\n",
       "      <td>5000</td>\n",
       "      <td>0</td>\n",
       "      <td>0.00</td>\n",
       "    </tr>\n",
       "    <tr>\n",
       "      <th>3</th>\n",
       "      <td>latitude</td>\n",
       "      <td>float64</td>\n",
       "      <td>4999</td>\n",
       "      <td>1</td>\n",
       "      <td>0.02</td>\n",
       "    </tr>\n",
       "    <tr>\n",
       "      <th>4</th>\n",
       "      <td>longitude</td>\n",
       "      <td>float64</td>\n",
       "      <td>4999</td>\n",
       "      <td>1</td>\n",
       "      <td>0.02</td>\n",
       "    </tr>\n",
       "    <tr>\n",
       "      <th>5</th>\n",
       "      <td>report_location</td>\n",
       "      <td>object</td>\n",
       "      <td>5000</td>\n",
       "      <td>0</td>\n",
       "      <td>0.00</td>\n",
       "    </tr>\n",
       "    <tr>\n",
       "      <th>6</th>\n",
       "      <td>incident_number</td>\n",
       "      <td>object</td>\n",
       "      <td>5000</td>\n",
       "      <td>0</td>\n",
       "      <td>0.00</td>\n",
       "    </tr>\n",
       "    <tr>\n",
       "      <th>7</th>\n",
       "      <td>:@computed_region_ru88_fbhk</td>\n",
       "      <td>float64</td>\n",
       "      <td>4996</td>\n",
       "      <td>4</td>\n",
       "      <td>0.08</td>\n",
       "    </tr>\n",
       "    <tr>\n",
       "      <th>8</th>\n",
       "      <td>:@computed_region_kuhn_3gp2</td>\n",
       "      <td>float64</td>\n",
       "      <td>4996</td>\n",
       "      <td>4</td>\n",
       "      <td>0.08</td>\n",
       "    </tr>\n",
       "    <tr>\n",
       "      <th>9</th>\n",
       "      <td>:@computed_region_q256_3sug</td>\n",
       "      <td>int64</td>\n",
       "      <td>5000</td>\n",
       "      <td>0</td>\n",
       "      <td>0.00</td>\n",
       "    </tr>\n",
       "    <tr>\n",
       "      <th>10</th>\n",
       "      <td>:@computed_region_2day_rhn5</td>\n",
       "      <td>float64</td>\n",
       "      <td>402</td>\n",
       "      <td>4598</td>\n",
       "      <td>91.96</td>\n",
       "    </tr>\n",
       "    <tr>\n",
       "      <th>11</th>\n",
       "      <td>:@computed_region_cyqu_gs94</td>\n",
       "      <td>float64</td>\n",
       "      <td>369</td>\n",
       "      <td>4631</td>\n",
       "      <td>92.62</td>\n",
       "    </tr>\n",
       "  </tbody>\n",
       "</table>\n",
       "</div>"
      ],
      "text/plain": [
       "                         Column     Type  Non-Null  Null  Null %\n",
       "0                       address   object      5000     0    0.00\n",
       "1                          type   object      5000     0    0.00\n",
       "2                      datetime   object      5000     0    0.00\n",
       "3                      latitude  float64      4999     1    0.02\n",
       "4                     longitude  float64      4999     1    0.02\n",
       "5               report_location   object      5000     0    0.00\n",
       "6               incident_number   object      5000     0    0.00\n",
       "7   :@computed_region_ru88_fbhk  float64      4996     4    0.08\n",
       "8   :@computed_region_kuhn_3gp2  float64      4996     4    0.08\n",
       "9   :@computed_region_q256_3sug    int64      5000     0    0.00\n",
       "10  :@computed_region_2day_rhn5  float64       402  4598   91.96\n",
       "11  :@computed_region_cyqu_gs94  float64       369  4631   92.62"
      ]
     },
     "metadata": {},
     "output_type": "display_data"
    }
   ],
   "source": [
    "# Data types and missing values\n",
    "print(\"Data Types and Missing Values:\")\n",
    "print(\"=\"*60)\n",
    "\n",
    "info_df = pd.DataFrame({\n",
    "    'Column': df_raw.columns,\n",
    "    'Type': df_raw.dtypes.values,\n",
    "    'Non-Null': df_raw.count().values,\n",
    "    'Null': df_raw.isnull().sum().values,\n",
    "    'Null %': (df_raw.isnull().sum() / len(df_raw) * 100).round(2).values\n",
    "})\n",
    "\n",
    "display(info_df)"
   ]
  },
  {
   "cell_type": "code",
   "execution_count": null,
   "id": "d3ccc183",
   "metadata": {},
   "outputs": [],
   "source": [
    "# Unique values for categorical columns\n",
    "print(\"Unique Values:\")\n",
    "print(\"=\"*60)\n",
    "for col in ['type', 'address', 'incident_number']:\n",
    "    if col in df_raw.columns:\n",
    "        print(f\"\\n{col}: {df_raw[col].nunique():,} unique values\")\n",
    "        if col == 'type':\n",
    "            print(\"\\nTop 10 incident types:\")\n",
    "            print(df_raw[col].value_counts().head(10))"
   ]
  },
  {
   "cell_type": "markdown",
   "id": "6dfcd207",
   "metadata": {},
   "source": [
    "## 3. Data Cleaning Steps"
   ]
  },
  {
   "cell_type": "code",
   "execution_count": 5,
   "id": "e45915fb",
   "metadata": {},
   "outputs": [
    {
     "name": "stdout",
     "output_type": "stream",
     "text": [
      "Starting cleaning process...\n",
      "Initial records: 5,000\n"
     ]
    }
   ],
   "source": [
    "# Start with a copy\n",
    "df_clean = df_raw.copy()\n",
    "\n",
    "print(\"Starting cleaning process...\")\n",
    "print(f\"Initial records: {len(df_clean):,}\")"
   ]
  },
  {
   "cell_type": "markdown",
   "id": "09daaf13",
   "metadata": {},
   "source": [
    "### 3.1 Clean Column Names"
   ]
  },
  {
   "cell_type": "code",
   "execution_count": 6,
   "id": "4b61c78b",
   "metadata": {},
   "outputs": [
    {
     "name": "stdout",
     "output_type": "stream",
     "text": [
      "✓ Cleaned column names:\n",
      "['address', 'type', 'datetime', 'latitude', 'longitude', 'report_location', 'incident_number', 'region_ru88_fbhk', 'region_kuhn_3gp2', 'region_q256_3sug', 'region_2day_rhn5', 'region_cyqu_gs94']\n"
     ]
    }
   ],
   "source": [
    "# Remove special characters from column names\n",
    "df_clean.columns = df_clean.columns.str.replace(':@', '', regex=False)\n",
    "df_clean.columns = df_clean.columns.str.replace('computed_region_', 'region_', regex=False)\n",
    "\n",
    "print(\"✓ Cleaned column names:\")\n",
    "print(df_clean.columns.tolist())"
   ]
  },
  {
   "cell_type": "markdown",
   "id": "1e98ff63",
   "metadata": {},
   "source": [
    "### 3.2 Parse Datetime"
   ]
  },
  {
   "cell_type": "code",
   "execution_count": 7,
   "id": "99dd3bfb",
   "metadata": {},
   "outputs": [
    {
     "name": "stdout",
     "output_type": "stream",
     "text": [
      "✓ Parsed datetime columns\n",
      "Date range: 2025-09-19 to 2025-10-05\n"
     ]
    }
   ],
   "source": [
    "# Convert datetime string to datetime object\n",
    "df_clean['datetime'] = pd.to_datetime(df_clean['datetime'], errors='coerce')\n",
    "\n",
    "# Extract date and time components\n",
    "df_clean['date'] = df_clean['datetime'].dt.date\n",
    "df_clean['time'] = df_clean['datetime'].dt.time\n",
    "df_clean['hour'] = df_clean['datetime'].dt.hour\n",
    "df_clean['day_of_week'] = df_clean['datetime'].dt.day_name()\n",
    "df_clean['month'] = df_clean['datetime'].dt.month\n",
    "df_clean['year'] = df_clean['datetime'].dt.year\n",
    "\n",
    "print(\"✓ Parsed datetime columns\")\n",
    "print(f\"Date range: {df_clean['date'].min()} to {df_clean['date'].max()}\")"
   ]
  },
  {
   "cell_type": "markdown",
   "id": "c24f373e",
   "metadata": {},
   "source": [
    "### 3.3 Clean Geographic Data"
   ]
  },
  {
   "cell_type": "code",
   "execution_count": 8,
   "id": "a6fcc261",
   "metadata": {},
   "outputs": [
    {
     "name": "stdout",
     "output_type": "stream",
     "text": [
      "✓ Cleaned geographic data\n",
      "Records with coordinates: 4,999 (100.0%)\n"
     ]
    }
   ],
   "source": [
    "# Convert latitude and longitude to numeric\n",
    "df_clean['latitude'] = pd.to_numeric(df_clean['latitude'], errors='coerce')\n",
    "df_clean['longitude'] = pd.to_numeric(df_clean['longitude'], errors='coerce')\n",
    "\n",
    "# Create a flag for valid coordinates\n",
    "df_clean['has_coordinates'] = (\n",
    "    df_clean['latitude'].notna() & \n",
    "    df_clean['longitude'].notna()\n",
    ")\n",
    "\n",
    "print(\"✓ Cleaned geographic data\")\n",
    "print(f\"Records with coordinates: {df_clean['has_coordinates'].sum():,} ({df_clean['has_coordinates'].sum()/len(df_clean)*100:.1f}%)\")"
   ]
  },
  {
   "cell_type": "markdown",
   "id": "1681cedf",
   "metadata": {},
   "source": [
    "### 3.4 Clean Text Fields"
   ]
  },
  {
   "cell_type": "code",
   "execution_count": 9,
   "id": "e6dc7297",
   "metadata": {},
   "outputs": [
    {
     "name": "stdout",
     "output_type": "stream",
     "text": [
      "✓ Cleaned text fields\n"
     ]
    }
   ],
   "source": [
    "# Clean address field\n",
    "df_clean['address_clean'] = (\n",
    "    df_clean['address']\n",
    "    .str.strip()\n",
    "    .str.upper()\n",
    "    .str.replace(r'\\s+', ' ', regex=True)\n",
    ")\n",
    "\n",
    "# Clean incident type\n",
    "df_clean['incident_type'] = (\n",
    "    df_clean['type']\n",
    "    .str.strip()\n",
    "    .str.title()\n",
    ")\n",
    "\n",
    "print(\"✓ Cleaned text fields\")"
   ]
  },
  {
   "cell_type": "markdown",
   "id": "cc4d4847",
   "metadata": {},
   "source": [
    "### 3.5 Handle Missing Values"
   ]
  },
  {
   "cell_type": "code",
   "execution_count": 10,
   "id": "27f95b77",
   "metadata": {},
   "outputs": [
    {
     "name": "stdout",
     "output_type": "stream",
     "text": [
      "✓ Dropped 5 region columns\n",
      "Remaining columns: 16\n"
     ]
    }
   ],
   "source": [
    "# Drop computed region columns (mostly missing and not needed)\n",
    "region_cols = [col for col in df_clean.columns if col.startswith('region_')]\n",
    "df_clean = df_clean.drop(columns=region_cols)\n",
    "\n",
    "print(f\"✓ Dropped {len(region_cols)} region columns\")\n",
    "print(f\"Remaining columns: {len(df_clean.columns)}\")"
   ]
  },
  {
   "cell_type": "markdown",
   "id": "506eb894",
   "metadata": {},
   "source": [
    "### 3.6 Create Category Groups"
   ]
  },
  {
   "cell_type": "code",
   "execution_count": 11,
   "id": "01f77d2b",
   "metadata": {},
   "outputs": [
    {
     "name": "stdout",
     "output_type": "stream",
     "text": [
      "✓ Created incident categories:\n",
      "incident_category\n",
      "Medical         3485\n",
      "Fire/Alarm       696\n",
      "Other            501\n",
      "Vehicle          126\n",
      "Rescue           106\n",
      "Service Call      86\n",
      "Name: count, dtype: int64\n"
     ]
    }
   ],
   "source": [
    "# Create high-level incident categories\n",
    "def categorize_incident(incident_type):\n",
    "    incident_type = str(incident_type).lower()\n",
    "    \n",
    "    if 'fire' in incident_type or 'alarm' in incident_type:\n",
    "        return 'Fire/Alarm'\n",
    "    elif 'aid' in incident_type or 'medic' in incident_type or 'medical' in incident_type:\n",
    "        return 'Medical'\n",
    "    elif 'assist' in incident_type or 'service' in incident_type:\n",
    "        return 'Service Call'\n",
    "    elif 'rescue' in incident_type:\n",
    "        return 'Rescue'\n",
    "    elif 'motor' in incident_type or 'vehicle' in incident_type:\n",
    "        return 'Vehicle'\n",
    "    else:\n",
    "        return 'Other'\n",
    "\n",
    "df_clean['incident_category'] = df_clean['incident_type'].apply(categorize_incident)\n",
    "\n",
    "print(\"✓ Created incident categories:\")\n",
    "print(df_clean['incident_category'].value_counts())"
   ]
  },
  {
   "cell_type": "markdown",
   "id": "8e431b79",
   "metadata": {},
   "source": [
    "### 3.7 Add Data Quality Flags"
   ]
  },
  {
   "cell_type": "code",
   "execution_count": 12,
   "id": "09fa368a",
   "metadata": {},
   "outputs": [
    {
     "name": "stdout",
     "output_type": "stream",
     "text": [
      "✓ Added quality flags\n",
      "High quality records: 5,000 (100.0%)\n"
     ]
    }
   ],
   "source": [
    "# Create quality score\n",
    "df_clean['quality_score'] = 0\n",
    "df_clean.loc[df_clean['incident_number'].notna(), 'quality_score'] += 25\n",
    "df_clean.loc[df_clean['datetime'].notna(), 'quality_score'] += 25\n",
    "df_clean.loc[df_clean['has_coordinates'], 'quality_score'] += 25\n",
    "df_clean.loc[df_clean['address'].notna(), 'quality_score'] += 25\n",
    "\n",
    "# Flag for high quality records\n",
    "df_clean['is_high_quality'] = df_clean['quality_score'] >= 75\n",
    "\n",
    "print(\"✓ Added quality flags\")\n",
    "print(f\"High quality records: {df_clean['is_high_quality'].sum():,} ({df_clean['is_high_quality'].sum()/len(df_clean)*100:.1f}%)\")"
   ]
  },
  {
   "cell_type": "markdown",
   "id": "e973ce56",
   "metadata": {},
   "source": [
    "## 4. Data Validation and Quality Checks"
   ]
  },
  {
   "cell_type": "code",
   "execution_count": 13,
   "id": "1626d5d9",
   "metadata": {},
   "outputs": [
    {
     "name": "stdout",
     "output_type": "stream",
     "text": [
      "Data Quality Report\n",
      "============================================================\n",
      "\n",
      "Total records: 5,000\n",
      "Records removed: 0\n",
      "\n",
      "Quality Score Distribution:\n",
      "quality_score\n",
      "75        1\n",
      "100    4999\n",
      "Name: count, dtype: int64\n",
      "\n",
      "Missing Values After Cleaning:\n",
      "incident_number    0\n",
      "datetime           0\n",
      "latitude           1\n",
      "longitude          1\n",
      "address_clean      0\n",
      "dtype: int64\n"
     ]
    }
   ],
   "source": [
    "print(\"Data Quality Report\")\n",
    "print(\"=\"*60)\n",
    "print(f\"\\nTotal records: {len(df_clean):,}\")\n",
    "print(f\"Records removed: {len(df_raw) - len(df_clean):,}\")\n",
    "print(f\"\\nQuality Score Distribution:\")\n",
    "print(df_clean['quality_score'].value_counts().sort_index())\n",
    "\n",
    "print(f\"\\nMissing Values After Cleaning:\")\n",
    "missing = df_clean[['incident_number', 'datetime', 'latitude', 'longitude', 'address_clean']].isnull().sum()\n",
    "print(missing)"
   ]
  },
  {
   "cell_type": "code",
   "execution_count": 14,
   "id": "b850aeb9",
   "metadata": {},
   "outputs": [
    {
     "name": "stdout",
     "output_type": "stream",
     "text": [
      "\n",
      "Duplicate incident numbers: 0\n"
     ]
    }
   ],
   "source": [
    "# Check for duplicates\n",
    "duplicates = df_clean.duplicated(subset=['incident_number']).sum()\n",
    "print(f\"\\nDuplicate incident numbers: {duplicates}\")\n",
    "\n",
    "if duplicates > 0:\n",
    "    print(\"Removing duplicates...\")\n",
    "    df_clean = df_clean.drop_duplicates(subset=['incident_number'], keep='first')\n",
    "    print(f\"✓ Removed {duplicates} duplicates\")"
   ]
  },
  {
   "cell_type": "markdown",
   "id": "a8522685",
   "metadata": {},
   "source": [
    "## 5. Exploratory Data Analysis"
   ]
  },
  {
   "cell_type": "code",
   "execution_count": 15,
   "id": "9a5ec8ee",
   "metadata": {},
   "outputs": [
    {
     "data": {
      "image/png": "[encoded data removed]",
      "text/plain": [
       "<Figure size 1600x600 with 2 Axes>"
      ]
     },
     "metadata": {},
     "output_type": "display_data"
    }
   ],
   "source": [
    "# Incident distribution by category\n",
    "fig, axes = plt.subplots(1, 2, figsize=(16, 6))\n",
    "\n",
    "# By category\n",
    "df_clean['incident_category'].value_counts().plot(kind='barh', ax=axes[0], color='steelblue')\n",
    "axes[0].set_title('Incidents by Category', fontsize=14, fontweight='bold')\n",
    "axes[0].set_xlabel('Count')\n",
    "\n",
    "# By hour of day\n",
    "df_clean['hour'].value_counts().sort_index().plot(kind='bar', ax=axes[1], color='coral')\n",
    "axes[1].set_title('Incidents by Hour of Day', fontsize=14, fontweight='bold')\n",
    "axes[1].set_xlabel('Hour')\n",
    "axes[1].set_ylabel('Count')\n",
    "axes[1].set_xticklabels(axes[1].get_xticklabels(), rotation=0)\n",
    "\n",
    "plt.tight_layout()\n",
    "plt.show()"
   ]
  },
  {
   "cell_type": "code",
   "execution_count": 16,
   "id": "01b3f0e3",
   "metadata": {},
   "outputs": [
    {
     "data": {
      "image/png": "[encoded data removed]",
      "text/plain": [
       "<Figure size 1400x800 with 1 Axes>"
      ]
     },
     "metadata": {},
     "output_type": "display_data"
    }
   ],
   "source": [
    "# Top 15 specific incident types\n",
    "plt.figure(figsize=(14, 8))\n",
    "df_clean['incident_type'].value_counts().head(15).plot(kind='barh', color='teal')\n",
    "plt.title('Top 15 Incident Types', fontsize=16, fontweight='bold')\n",
    "plt.xlabel('Count', fontsize=12)\n",
    "plt.ylabel('Incident Type', fontsize=12)\n",
    "plt.tight_layout()\n",
    "plt.show()"
   ]
  },
  {
   "cell_type": "code",
   "execution_count": 17,
   "id": "cb7e743b",
   "metadata": {},
   "outputs": [
    {
     "data": {
      "image/png": "[encoded data removed]",
      "text/plain": [
       "<Figure size 1200x600 with 1 Axes>"
      ]
     },
     "metadata": {},
     "output_type": "display_data"
    }
   ],
   "source": [
    "# Day of week analysis\n",
    "day_order = ['Monday', 'Tuesday', 'Wednesday', 'Thursday', 'Friday', 'Saturday', 'Sunday']\n",
    "day_counts = df_clean['day_of_week'].value_counts()\n",
    "day_counts = day_counts.reindex(day_order)\n",
    "\n",
    "plt.figure(figsize=(12, 6))\n",
    "day_counts.plot(kind='bar', color='darkgreen')\n",
    "plt.title('Incidents by Day of Week', fontsize=16, fontweight='bold')\n",
    "plt.xlabel('Day', fontsize=12)\n",
    "plt.ylabel('Count', fontsize=12)\n",
    "plt.xticks(rotation=45)\n",
    "plt.tight_layout()\n",
    "plt.show()"
   ]
  },
  {
   "cell_type": "code",
   "execution_count": null,
   "id": "c966c15a",
   "metadata": {},
   "outputs": [],
   "source": [
    "# Geographic distribution (if coordinates available)\n",
    "if df_clean['has_coordinates'].sum() > 100:\n",
    "    fig, ax = plt.subplots(figsize=(12, 10))\n",
    "    \n",
    "    # Sample if too many points\n",
    "    sample_size = min(2000, df_clean['has_coordinates'].sum())\n",
    "    df_map = df_clean[df_clean['has_coordinates']].sample(n=sample_size, random_state=42)\n",
    "    \n",
    "    scatter = ax.scatter(\n",
    "        df_map['longitude'], \n",
    "        df_map['latitude'], \n",
    "        c=df_map['hour'],\n",
    "        cmap='viridis',\n",
    "        alpha=0.4,\n",
    "        s=10\n",
    "    )\n",
    "    \n",
    "    plt.colorbar(scatter, label='Hour of Day')\n",
    "    ax.set_xlabel('Longitude', fontsize=12)\n",
    "    ax.set_ylabel('Latitude', fontsize=12)\n",
    "    ax.set_title(f'Geographic Distribution of Incidents (n={sample_size:,})', fontsize=16, fontweight='bold')\n",
    "    plt.tight_layout()\n",
    "    plt.show()\n",
    "else:\n",
    "    print(\"Not enough coordinate data for mapping\")"
   ]
  },
  {
   "cell_type": "markdown",
   "id": "ef21f71b",
   "metadata": {},
   "source": [
    "## 6. Final Cleaned Dataset"
   ]
  },
  {
   "cell_type": "code",
   "execution_count": 18,
   "id": "c32d4ede",
   "metadata": {},
   "outputs": [
    {
     "name": "stdout",
     "output_type": "stream",
     "text": [
      "Final Dataset Summary:\n",
      "============================================================\n",
      "Records: 5,000\n",
      "Columns: 16\n",
      "\n",
      "Sample:\n"
     ]
    },
    {
     "data": {
      "text/html": [
       "<div>\n",
       "<style scoped>\n",
       "    .dataframe tbody tr th:only-of-type {\n",
       "        vertical-align: middle;\n",
       "    }\n",
       "\n",
       "    .dataframe tbody tr th {\n",
       "        vertical-align: top;\n",
       "    }\n",
       "\n",
       "    .dataframe thead th {\n",
       "        text-align: right;\n",
       "    }\n",
       "</style>\n",
       "<table border=\"1\" class=\"dataframe\">\n",
       "  <thead>\n",
       "    <tr style=\"text-align: right;\">\n",
       "      <th></th>\n",
       "      <th>incident_number</th>\n",
       "      <th>datetime</th>\n",
       "      <th>date</th>\n",
       "      <th>time</th>\n",
       "      <th>hour</th>\n",
       "      <th>day_of_week</th>\n",
       "      <th>month</th>\n",
       "      <th>year</th>\n",
       "      <th>incident_type</th>\n",
       "      <th>incident_category</th>\n",
       "      <th>address_clean</th>\n",
       "      <th>latitude</th>\n",
       "      <th>longitude</th>\n",
       "      <th>has_coordinates</th>\n",
       "      <th>quality_score</th>\n",
       "      <th>is_high_quality</th>\n",
       "    </tr>\n",
       "  </thead>\n",
       "  <tbody>\n",
       "    <tr>\n",
       "      <th>0</th>\n",
       "      <td>F250138095</td>\n",
       "      <td>2025-10-05 10:20:00</td>\n",
       "      <td>2025-10-05</td>\n",
       "      <td>10:20:00</td>\n",
       "      <td>10</td>\n",
       "      <td>Sunday</td>\n",
       "      <td>10</td>\n",
       "      <td>2025</td>\n",
       "      <td>Aid Response</td>\n",
       "      <td>Medical</td>\n",
       "      <td>100 MELROSE AVE E</td>\n",
       "      <td>47.618497</td>\n",
       "      <td>-122.327854</td>\n",
       "      <td>True</td>\n",
       "      <td>100</td>\n",
       "      <td>True</td>\n",
       "    </tr>\n",
       "    <tr>\n",
       "      <th>1</th>\n",
       "      <td>F250138094</td>\n",
       "      <td>2025-10-05 10:16:00</td>\n",
       "      <td>2025-10-05</td>\n",
       "      <td>10:16:00</td>\n",
       "      <td>10</td>\n",
       "      <td>Sunday</td>\n",
       "      <td>10</td>\n",
       "      <td>2025</td>\n",
       "      <td>Aid Response</td>\n",
       "      <td>Medical</td>\n",
       "      <td>6110 24TH AVE NW</td>\n",
       "      <td>47.673170</td>\n",
       "      <td>-122.387587</td>\n",
       "      <td>True</td>\n",
       "      <td>100</td>\n",
       "      <td>True</td>\n",
       "    </tr>\n",
       "    <tr>\n",
       "      <th>2</th>\n",
       "      <td>F250138091</td>\n",
       "      <td>2025-10-05 10:12:00</td>\n",
       "      <td>2025-10-05</td>\n",
       "      <td>10:12:00</td>\n",
       "      <td>10</td>\n",
       "      <td>Sunday</td>\n",
       "      <td>10</td>\n",
       "      <td>2025</td>\n",
       "      <td>Auto Fire Alarm</td>\n",
       "      <td>Fire/Alarm</td>\n",
       "      <td>2300 ELLIOTT AVE</td>\n",
       "      <td>47.612046</td>\n",
       "      <td>-122.348232</td>\n",
       "      <td>True</td>\n",
       "      <td>100</td>\n",
       "      <td>True</td>\n",
       "    </tr>\n",
       "    <tr>\n",
       "      <th>3</th>\n",
       "      <td>F250138089</td>\n",
       "      <td>2025-10-05 10:09:00</td>\n",
       "      <td>2025-10-05</td>\n",
       "      <td>10:09:00</td>\n",
       "      <td>10</td>\n",
       "      <td>Sunday</td>\n",
       "      <td>10</td>\n",
       "      <td>2025</td>\n",
       "      <td>Medic Response</td>\n",
       "      <td>Medical</td>\n",
       "      <td>715 9TH AVE</td>\n",
       "      <td>47.606371</td>\n",
       "      <td>-122.325496</td>\n",
       "      <td>True</td>\n",
       "      <td>100</td>\n",
       "      <td>True</td>\n",
       "    </tr>\n",
       "    <tr>\n",
       "      <th>4</th>\n",
       "      <td>F250138088</td>\n",
       "      <td>2025-10-05 10:08:00</td>\n",
       "      <td>2025-10-05</td>\n",
       "      <td>10:08:00</td>\n",
       "      <td>10</td>\n",
       "      <td>Sunday</td>\n",
       "      <td>10</td>\n",
       "      <td>2025</td>\n",
       "      <td>Automatic Medical Alarm</td>\n",
       "      <td>Fire/Alarm</td>\n",
       "      <td>430 MINOR AVE N</td>\n",
       "      <td>47.622312</td>\n",
       "      <td>-122.332995</td>\n",
       "      <td>True</td>\n",
       "      <td>100</td>\n",
       "      <td>True</td>\n",
       "    </tr>\n",
       "    <tr>\n",
       "      <th>5</th>\n",
       "      <td>F250138090</td>\n",
       "      <td>2025-10-05 10:08:00</td>\n",
       "      <td>2025-10-05</td>\n",
       "      <td>10:08:00</td>\n",
       "      <td>10</td>\n",
       "      <td>Sunday</td>\n",
       "      <td>10</td>\n",
       "      <td>2025</td>\n",
       "      <td>Medic Response</td>\n",
       "      <td>Medical</td>\n",
       "      <td>MADISON ST / MINOR AVE</td>\n",
       "      <td>47.609802</td>\n",
       "      <td>-122.324029</td>\n",
       "      <td>True</td>\n",
       "      <td>100</td>\n",
       "      <td>True</td>\n",
       "    </tr>\n",
       "    <tr>\n",
       "      <th>6</th>\n",
       "      <td>F250138087</td>\n",
       "      <td>2025-10-05 10:05:00</td>\n",
       "      <td>2025-10-05</td>\n",
       "      <td>10:05:00</td>\n",
       "      <td>10</td>\n",
       "      <td>Sunday</td>\n",
       "      <td>10</td>\n",
       "      <td>2025</td>\n",
       "      <td>Aid Response</td>\n",
       "      <td>Medical</td>\n",
       "      <td>7501 56TH AVE NE</td>\n",
       "      <td>47.683193</td>\n",
       "      <td>-122.268012</td>\n",
       "      <td>True</td>\n",
       "      <td>100</td>\n",
       "      <td>True</td>\n",
       "    </tr>\n",
       "    <tr>\n",
       "      <th>7</th>\n",
       "      <td>F250138086</td>\n",
       "      <td>2025-10-05 10:02:00</td>\n",
       "      <td>2025-10-05</td>\n",
       "      <td>10:02:00</td>\n",
       "      <td>10</td>\n",
       "      <td>Sunday</td>\n",
       "      <td>10</td>\n",
       "      <td>2025</td>\n",
       "      <td>Aid Response</td>\n",
       "      <td>Medical</td>\n",
       "      <td>113 23RD AVE S</td>\n",
       "      <td>47.601601</td>\n",
       "      <td>-122.302284</td>\n",
       "      <td>True</td>\n",
       "      <td>100</td>\n",
       "      <td>True</td>\n",
       "    </tr>\n",
       "    <tr>\n",
       "      <th>8</th>\n",
       "      <td>F250138085</td>\n",
       "      <td>2025-10-05 09:57:00</td>\n",
       "      <td>2025-10-05</td>\n",
       "      <td>09:57:00</td>\n",
       "      <td>9</td>\n",
       "      <td>Sunday</td>\n",
       "      <td>10</td>\n",
       "      <td>2025</td>\n",
       "      <td>Aid Response</td>\n",
       "      <td>Medical</td>\n",
       "      <td>100 MELROSE AVE E</td>\n",
       "      <td>47.618497</td>\n",
       "      <td>-122.327854</td>\n",
       "      <td>True</td>\n",
       "      <td>100</td>\n",
       "      <td>True</td>\n",
       "    </tr>\n",
       "    <tr>\n",
       "      <th>9</th>\n",
       "      <td>F250138083</td>\n",
       "      <td>2025-10-05 09:39:00</td>\n",
       "      <td>2025-10-05</td>\n",
       "      <td>09:39:00</td>\n",
       "      <td>9</td>\n",
       "      <td>Sunday</td>\n",
       "      <td>10</td>\n",
       "      <td>2025</td>\n",
       "      <td>Automatic Fire Alarm Resd</td>\n",
       "      <td>Fire/Alarm</td>\n",
       "      <td>2628 39TH AVE W</td>\n",
       "      <td>47.643124</td>\n",
       "      <td>-122.407107</td>\n",
       "      <td>True</td>\n",
       "      <td>100</td>\n",
       "      <td>True</td>\n",
       "    </tr>\n",
       "  </tbody>\n",
       "</table>\n",
       "</div>"
      ],
      "text/plain": [
       "  incident_number            datetime        date      time  hour day_of_week  \\\n",
       "0      F250138095 2025-10-05 10:20:00  2025-10-05  10:20:00    10      Sunday   \n",
       "1      F250138094 2025-10-05 10:16:00  2025-10-05  10:16:00    10      Sunday   \n",
       "2      F250138091 2025-10-05 10:12:00  2025-10-05  10:12:00    10      Sunday   \n",
       "3      F250138089 2025-10-05 10:09:00  2025-10-05  10:09:00    10      Sunday   \n",
       "4      F250138088 2025-10-05 10:08:00  2025-10-05  10:08:00    10      Sunday   \n",
       "5      F250138090 2025-10-05 10:08:00  2025-10-05  10:08:00    10      Sunday   \n",
       "6      F250138087 2025-10-05 10:05:00  2025-10-05  10:05:00    10      Sunday   \n",
       "7      F250138086 2025-10-05 10:02:00  2025-10-05  10:02:00    10      Sunday   \n",
       "8      F250138085 2025-10-05 09:57:00  2025-10-05  09:57:00     9      Sunday   \n",
       "9      F250138083 2025-10-05 09:39:00  2025-10-05  09:39:00     9      Sunday   \n",
       "\n",
       "   month  year              incident_type incident_category  \\\n",
       "0     10  2025               Aid Response           Medical   \n",
       "1     10  2025               Aid Response           Medical   \n",
       "2     10  2025            Auto Fire Alarm        Fire/Alarm   \n",
       "3     10  2025             Medic Response           Medical   \n",
       "4     10  2025    Automatic Medical Alarm        Fire/Alarm   \n",
       "5     10  2025             Medic Response           Medical   \n",
       "6     10  2025               Aid Response           Medical   \n",
       "7     10  2025               Aid Response           Medical   \n",
       "8     10  2025               Aid Response           Medical   \n",
       "9     10  2025  Automatic Fire Alarm Resd        Fire/Alarm   \n",
       "\n",
       "            address_clean   latitude   longitude  has_coordinates  \\\n",
       "0       100 MELROSE AVE E  47.618497 -122.327854             True   \n",
       "1        6110 24TH AVE NW  47.673170 -122.387587             True   \n",
       "2        2300 ELLIOTT AVE  47.612046 -122.348232             True   \n",
       "3             715 9TH AVE  47.606371 -122.325496             True   \n",
       "4         430 MINOR AVE N  47.622312 -122.332995             True   \n",
       "5  MADISON ST / MINOR AVE  47.609802 -122.324029             True   \n",
       "6        7501 56TH AVE NE  47.683193 -122.268012             True   \n",
       "7          113 23RD AVE S  47.601601 -122.302284             True   \n",
       "8       100 MELROSE AVE E  47.618497 -122.327854             True   \n",
       "9         2628 39TH AVE W  47.643124 -122.407107             True   \n",
       "\n",
       "   quality_score  is_high_quality  \n",
       "0            100             True  \n",
       "1            100             True  \n",
       "2            100             True  \n",
       "3            100             True  \n",
       "4            100             True  \n",
       "5            100             True  \n",
       "6            100             True  \n",
       "7            100             True  \n",
       "8            100             True  \n",
       "9            100             True  "
      ]
     },
     "metadata": {},
     "output_type": "display_data"
    }
   ],
   "source": [
    "# Select final columns\n",
    "final_columns = [\n",
    "    'incident_number',\n",
    "    'datetime',\n",
    "    'date',\n",
    "    'time',\n",
    "    'hour',\n",
    "    'day_of_week',\n",
    "    'month',\n",
    "    'year',\n",
    "    'incident_type',\n",
    "    'incident_category',\n",
    "    'address_clean',\n",
    "    'latitude',\n",
    "    'longitude',\n",
    "    'has_coordinates',\n",
    "    'quality_score',\n",
    "    'is_high_quality'\n",
    "]\n",
    "\n",
    "df_final = df_clean[final_columns].copy()\n",
    "\n",
    "print(\"Final Dataset Summary:\")\n",
    "print(\"=\"*60)\n",
    "print(f\"Records: {len(df_final):,}\")\n",
    "print(f\"Columns: {len(df_final.columns)}\")\n",
    "print(f\"\\nSample:\")\n",
    "display(df_final.head(10))"
   ]
  },
  {
   "cell_type": "markdown",
   "id": "e1288d5e",
   "metadata": {},
   "source": [
    "## 7. Save Cleaned Data"
   ]
  },
  {
   "cell_type": "code",
   "execution_count": 19,
   "id": "b24e8413",
   "metadata": {},
   "outputs": [
    {
     "name": "stdout",
     "output_type": "stream",
     "text": [
      "============================================================\n",
      "✓ Data Cleaning Complete!\n",
      "============================================================\n",
      "\n",
      "Saved to: data\\staging\\seattle_police_cleaned_20251005_124242.csv\n",
      "Records: 5,000\n",
      "Size: 0.71 MB\n",
      "\n",
      "Next steps:\n",
      "1. Review the cleaned data\n",
      "2. Create dbt staging model\n",
      "3. Build analytics models\n",
      "4. Create dashboards\n"
     ]
    }
   ],
   "source": [
    "# Create staging directory if it doesn't exist\n",
    "staging_dir = Path('data/staging')\n",
    "staging_dir.mkdir(parents=True, exist_ok=True)\n",
    "\n",
    "# Save cleaned data\n",
    "timestamp = datetime.now().strftime(\"%Y%m%d_%H%M%S\")\n",
    "output_file = staging_dir / f'seattle_police_cleaned_{timestamp}.csv'\n",
    "\n",
    "df_final.to_csv(output_file, index=False)\n",
    "\n",
    "file_size = output_file.stat().st_size / (1024 * 1024)\n",
    "\n",
    "print(\"=\"*60)\n",
    "print(\"✓ Data Cleaning Complete!\")\n",
    "print(\"=\"*60)\n",
    "print(f\"\\nSaved to: {output_file}\")\n",
    "print(f\"Records: {len(df_final):,}\")\n",
    "print(f\"Size: {file_size:.2f} MB\")\n",
    "print(f\"\\nNext steps:\")\n",
    "print(\"1. Review the cleaned data\")\n",
    "print(\"2. Create dbt staging model\")\n",
    "print(\"3. Build analytics models\")\n",
    "print(\"4. Create dashboards\")"
   ]
  },
  {
   "cell_type": "markdown",
   "id": "a0028107",
   "metadata": {},
   "source": [
    "## 8. Summary Statistics"
   ]
  },
  {
   "cell_type": "code",
   "execution_count": 20,
   "id": "e3f42456",
   "metadata": {},
   "outputs": [
    {
     "name": "stdout",
     "output_type": "stream",
     "text": [
      "\n",
      "============================================================\n",
      "FINAL DATASET SUMMARY\n",
      "============================================================\n",
      "Total Records........................... 5000\n",
      "Date Range.............................. 2025-09-19 to 2025-10-05\n",
      "Unique Incidents........................ 5000\n",
      "Incident Types.......................... 74\n",
      "With Coordinates........................ 4999\n",
      "High Quality %.......................... 100.0%\n",
      "Top Category............................ Medical\n",
      "Peak Hour............................... 17\n",
      "Busiest Day............................. Friday\n",
      "============================================================\n"
     ]
    }
   ],
   "source": [
    "# Create comprehensive summary\n",
    "summary = {\n",
    "    'Total Records': len(df_final),\n",
    "    'Date Range': f\"{df_final['date'].min()} to {df_final['date'].max()}\",\n",
    "    'Unique Incidents': df_final['incident_number'].nunique(),\n",
    "    'Incident Types': df_final['incident_type'].nunique(),\n",
    "    'With Coordinates': df_final['has_coordinates'].sum(),\n",
    "    'High Quality %': f\"{df_final['is_high_quality'].sum() / len(df_final) * 100:.1f}%\",\n",
    "    'Top Category': df_final['incident_category'].mode()[0],\n",
    "    'Peak Hour': df_final['hour'].mode()[0],\n",
    "    'Busiest Day': df_final['day_of_week'].mode()[0]\n",
    "}\n",
    "\n",
    "print(\"\\n\" + \"=\"*60)\n",
    "print(\"FINAL DATASET SUMMARY\")\n",
    "print(\"=\"*60)\n",
    "for key, value in summary.items():\n",
    "    print(f\"{key:.<40} {value}\")\n",
    "print(\"=\"*60)"
   ]
  }
 ],
 "metadata": {
  "kernelspec": {
   "display_name": "Python 3",
   "language": "python",
   "name": "python3"
  },
  "language_info": {
   "codemirror_mode": {
    "name": "ipython",
    "version": 3
   },
   "file_extension": ".py",
   "mimetype": "text/x-python",
   "name": "python",
   "nbconvert_exporter": "python",
   "pygments_lexer": "ipython3",
   "version": "3.11.9"
  }
 },
 "nbformat": 4,
 "nbformat_minor": 5
}
