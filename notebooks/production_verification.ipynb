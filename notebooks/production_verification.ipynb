{
 "cells": [
  {
   "cell_type": "markdown",
   "id": "71ecb76f",
   "metadata": {},
   "source": [
    "# Production Environment Verification\n",
    "\n",
    "This notebook tests all components of the production dbt analytics environment.\n",
    "\n",
    "**Server:** 159.203.140.78  \n",
    "**Date:** October 6, 2025"
   ]
  },
  {
   "cell_type": "markdown",
   "id": "29187d5a",
   "metadata": {},
   "source": [
    "## 1. Import Required Libraries"
   ]
  },
  {
   "cell_type": "code",
   "execution_count": null,
   "id": "7d73d02f",
   "metadata": {},
   "outputs": [],
   "source": [
    "import sys\n",
    "import pandas as pd\n",
    "import numpy as np\n",
    "import matplotlib.pyplot as plt\n",
    "import seaborn as sns\n",
    "import psycopg2\n",
    "from pathlib import Path\n",
    "import os\n",
    "\n",
    "print(\"✅ All imports successful!\")\n",
    "print(f\"Python version: {sys.version}\")\n",
    "print(f\"Pandas version: {pd.__version__}\")\n",
    "print(f\"NumPy version: {np.__version__}\")"
   ]
  },
  {
   "cell_type": "markdown",
   "id": "58da46ad",
   "metadata": {},
   "source": [
    "## 2. Test Database Connection"
   ]
  },
  {
   "cell_type": "code",
   "execution_count": null,
   "id": "fd8f1611",
   "metadata": {},
   "outputs": [],
   "source": [
    "# Database connection parameters\n",
    "db_params = {\n",
    "    'host': 'postgres',\n",
    "    'port': 5432,\n",
    "    'database': 'dbt_analytics',\n",
    "    'user': 'andernet',\n",
    "    'password': 'LocalTestPassword123!'\n",
    "}\n",
    "\n",
    "try:\n",
    "    # Connect to PostgreSQL\n",
    "    conn = psycopg2.connect(**db_params)\n",
    "    cursor = conn.cursor()\n",
    "    \n",
    "    # Test query\n",
    "    cursor.execute(\"SELECT version();\")\n",
    "    db_version = cursor.fetchone()[0]\n",
    "    print(\"✅ Database connection successful!\")\n",
    "    print(f\"PostgreSQL version: {db_version}\")\n",
    "    \n",
    "    # Check schemas\n",
    "    cursor.execute(\"\"\"\n",
    "        SELECT schema_name \n",
    "        FROM information_schema.schemata \n",
    "        WHERE schema_name IN ('staging', 'marts', 'seeds', 'public')\n",
    "        ORDER BY schema_name;\n",
    "    \"\"\")\n",
    "    schemas = cursor.fetchall()\n",
    "    print(\"\\n📁 Available schemas:\")\n",
    "    for schema in schemas:\n",
    "        print(f\"  - {schema[0]}\")\n",
    "    \n",
    "    cursor.close()\n",
    "    conn.close()\n",
    "    \n",
    "except Exception as e:\n",
    "    print(f\"❌ Database connection failed: {e}\")"
   ]
  },
  {
   "cell_type": "markdown",
   "id": "66208fce",
   "metadata": {},
   "source": [
    "## 3. Check Data Files"
   ]
  },
  {
   "cell_type": "code",
   "execution_count": null,
   "id": "88447a53",
   "metadata": {},
   "outputs": [],
   "source": [
    "# Check for data files\n",
    "data_dir = Path('/app/data/processed')\n",
    "\n",
    "if data_dir.exists():\n",
    "    files = list(data_dir.glob('*.csv'))\n",
    "    print(f\"✅ Found {len(files)} CSV files:\")\n",
    "    print()\n",
    "    \n",
    "    file_info = []\n",
    "    for f in sorted(files):\n",
    "        size_mb = f.stat().st_size / (1024 * 1024)\n",
    "        file_info.append({\n",
    "            'Filename': f.name,\n",
    "            'Size (MB)': f\"{size_mb:.2f}\"\n",
    "        })\n",
    "    \n",
    "    df_files = pd.DataFrame(file_info)\n",
    "    print(df_files.to_string(index=False))\n",
    "else:\n",
    "    print(f\"❌ Data directory not found: {data_dir}\")"
   ]
  },
  {
   "cell_type": "markdown",
   "id": "b9bab84f",
   "metadata": {},
   "source": [
    "## 4. Load and Preview NYC Education Data"
   ]
  },
  {
   "cell_type": "code",
   "execution_count": null,
   "id": "2631348a",
   "metadata": {},
   "outputs": [],
   "source": [
    "# Load the main NYC education dataset\n",
    "nyc_file = data_dir / 'nyc_education_analyzed.csv'\n",
    "\n",
    "if nyc_file.exists():\n",
    "    df = pd.read_csv(nyc_file)\n",
    "    print(f\"✅ Loaded NYC Education Data: {len(df):,} rows\")\n",
    "    print(f\"\\n📊 Dataset Info:\")\n",
    "    print(df.info())\n",
    "    print(f\"\\n📈 First few rows:\")\n",
    "    display(df.head())\n",
    "    print(f\"\\n📉 Statistical Summary:\")\n",
    "    display(df.describe())\n",
    "else:\n",
    "    print(f\"❌ NYC education file not found: {nyc_file}\")"
   ]
  },
  {
   "cell_type": "markdown",
   "id": "9950de91",
   "metadata": {},
   "source": [
    "## 5. Test Visualization"
   ]
  },
  {
   "cell_type": "code",
   "execution_count": null,
   "id": "6183c1b2",
   "metadata": {},
   "outputs": [],
   "source": [
    "# Configure matplotlib\n",
    "%matplotlib inline\n",
    "plt.style.use('seaborn-v0_8-darkgrid')\n",
    "sns.set_palette('husl')\n",
    "\n",
    "# Create a simple visualization\n",
    "fig, axes = plt.subplots(1, 2, figsize=(15, 5))\n",
    "\n",
    "# Sample data visualization\n",
    "x = np.linspace(0, 10, 100)\n",
    "y1 = np.sin(x)\n",
    "y2 = np.cos(x)\n",
    "\n",
    "axes[0].plot(x, y1, label='sin(x)', linewidth=2)\n",
    "axes[0].plot(x, y2, label='cos(x)', linewidth=2)\n",
    "axes[0].set_title('Test Plot: Trigonometric Functions', fontsize=14, fontweight='bold')\n",
    "axes[0].set_xlabel('x')\n",
    "axes[0].set_ylabel('y')\n",
    "axes[0].legend()\n",
    "axes[0].grid(True, alpha=0.3)\n",
    "\n",
    "# Random data histogram\n",
    "data = np.random.randn(1000)\n",
    "axes[1].hist(data, bins=30, edgecolor='black', alpha=0.7)\n",
    "axes[1].set_title('Test Plot: Normal Distribution', fontsize=14, fontweight='bold')\n",
    "axes[1].set_xlabel('Value')\n",
    "axes[1].set_ylabel('Frequency')\n",
    "axes[1].grid(True, alpha=0.3)\n",
    "\n",
    "plt.tight_layout()\n",
    "plt.show()\n",
    "\n",
    "print(\"✅ Visualization test successful!\")"
   ]
  },
  {
   "cell_type": "markdown",
   "id": "9c3e964f",
   "metadata": {},
   "source": [
    "## 6. Environment Summary"
   ]
  },
  {
   "cell_type": "code",
   "execution_count": null,
   "id": "4a31ead0",
   "metadata": {},
   "outputs": [],
   "source": [
    "print(\"=\"*50)\n",
    "print(\"🎉 PRODUCTION ENVIRONMENT VERIFICATION COMPLETE\")\n",
    "print(\"=\"*50)\n",
    "print()\n",
    "print(\"✅ Python environment: Working\")\n",
    "print(\"✅ Database connection: Working\")\n",
    "print(\"✅ Data files: Available\")\n",
    "print(\"✅ Pandas/NumPy: Working\")\n",
    "print(\"✅ Matplotlib/Seaborn: Working\")\n",
    "print()\n",
    "print(\"🚀 Ready for data analysis and dbt development!\")\n",
    "print()\n",
    "print(\"📚 Next steps:\")\n",
    "print(\"  1. Create dbt staging models\")\n",
    "print(\"  2. Create dbt marts models\")\n",
    "print(\"  3. Run dbt transformations\")\n",
    "print(\"  4. Build analysis notebooks\")"
   ]
  }
 ],
 "metadata": {
  "language_info": {
   "name": "python"
  }
 },
 "nbformat": 4,
 "nbformat_minor": 5
}
