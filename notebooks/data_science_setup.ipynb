{
 "cells": [
  {
   "cell_type": "markdown",
   "id": "dc9f14d5",
   "metadata": {},
   "source": [
    "# Data Science Workspace Setup\n",
    "\n",
    "This notebook sets up your workspace for data science and working with datasets. It includes:\n",
    "- Essential library imports\n",
    "- Configuration settings\n",
    "- Sample data loading\n",
    "- Exploratory data analysis examples\n",
    "- Visualization demonstrations\n",
    "\n",
    "**Author:** Data Science Team  \n",
    "**Last Updated:** October 2025"
   ]
  },
  {
   "cell_type": "markdown",
   "id": "335875c3",
   "metadata": {},
   "source": [
    "## 1. Import Essential Data Science Libraries"
   ]
  },
  {
   "cell_type": "code",
   "execution_count": null,
   "id": "1df148c7",
   "metadata": {},
   "outputs": [
    {
     "name": "stdout",
     "output_type": "stream",
     "text": [
      "Library Versions:\n",
      "NumPy: 1.26.4\n",
      "Pandas: 2.1.4\n",
      "Matplotlib: 3.10.6\n",
      "Seaborn: 0.13.2\n",
      "✅ All libraries imported successfully!\n"
     ]
    }
   ],
   "source": [
    "# Core Data Science Libraries\n",
    "# System and file handling\n",
    "import os\n",
    "import sys\n",
    "import warnings\n",
    "from pathlib import Path\n",
    "\n",
    "import matplotlib.pyplot as plt\n",
    "import numpy as np\n",
    "import pandas as pd\n",
    "import plotly.express as px\n",
    "import plotly.graph_objects as go\n",
    "import seaborn as sns\n",
    "\n",
    "# Display versions\n",
    "print(\"Library Versions:\")\n",
    "print(f\"NumPy: {np.__version__}\")\n",
    "print(f\"Pandas: {pd.__version__}\")\n",
    "print(f\"Matplotlib: {plt.matplotlib.__version__}\")\n",
    "print(f\"Seaborn: {sns.__version__}\")\n",
    "print(\"✅ All libraries imported successfully!\")"
   ]
  },
  {
   "cell_type": "markdown",
   "id": "56b05dd9",
   "metadata": {},
   "source": [
    "## 2. Configure Display Settings"
   ]
  },
  {
   "cell_type": "code",
   "execution_count": 2,
   "id": "2866436e",
   "metadata": {},
   "outputs": [
    {
     "name": "stdout",
     "output_type": "stream",
     "text": [
      "✅ Display settings configured!\n"
     ]
    }
   ],
   "source": [
    "# Jupyter magic commands\n",
    "%matplotlib inline\n",
    "%load_ext autoreload\n",
    "%autoreload 2\n",
    "\n",
    "# Suppress warnings\n",
    "warnings.filterwarnings('ignore')\n",
    "\n",
    "# Set random seed for reproducibility\n",
    "np.random.seed(42)\n",
    "\n",
    "print(\"✅ Display settings configured!\")"
   ]
  },
  {
   "cell_type": "markdown",
   "id": "f27522e5",
   "metadata": {},
   "source": [
    "## 3. Set Up File Paths and Directories"
   ]
  },
  {
   "cell_type": "code",
   "execution_count": 3,
   "id": "7f48658a",
   "metadata": {},
   "outputs": [
    {
     "name": "stdout",
     "output_type": "stream",
     "text": [
      "📁 Project Directory Structure:\n",
      "  Project Root: C:\\vscode-vfs\\github\\and3rn3t\\dbt\n",
      "  Raw Data: C:\\vscode-vfs\\github\\and3rn3t\\dbt\\data\\raw\n",
      "  Processed Data: C:\\vscode-vfs\\github\\and3rn3t\\dbt\\data\\processed\n",
      "  Staging Data: C:\\vscode-vfs\\github\\and3rn3t\\dbt\\data\\staging\n",
      "  External Data: C:\\vscode-vfs\\github\\and3rn3t\\dbt\\data\\external\n",
      "\n",
      "✅ Directory structure ready!\n"
     ]
    }
   ],
   "source": [
    "# Define project structure\n",
    "PROJECT_ROOT = Path.cwd().parent\n",
    "DATA_DIR = PROJECT_ROOT / 'data'\n",
    "RAW_DATA_DIR = DATA_DIR / 'raw'\n",
    "PROCESSED_DATA_DIR = DATA_DIR / 'processed'\n",
    "STAGING_DATA_DIR = DATA_DIR / 'staging'\n",
    "EXTERNAL_DATA_DIR = DATA_DIR / 'external'\n",
    "\n",
    "# Create directories if they don't exist\n",
    "for directory in [RAW_DATA_DIR, PROCESSED_DATA_DIR, STAGING_DATA_DIR, EXTERNAL_DATA_DIR]:\n",
    "    directory.mkdir(parents=True, exist_ok=True)\n",
    "\n",
    "print(\"📁 Project Directory Structure:\")\n",
    "print(f\"  Project Root: {PROJECT_ROOT}\")\n",
    "print(f\"  Raw Data: {RAW_DATA_DIR}\")\n",
    "print(f\"  Processed Data: {PROCESSED_DATA_DIR}\")\n",
    "print(f\"  Staging Data: {STAGING_DATA_DIR}\")\n",
    "print(f\"  External Data: {EXTERNAL_DATA_DIR}\")\n",
    "print(\"\\n✅ Directory structure ready!\")"
   ]
  },
  {
   "cell_type": "markdown",
   "id": "f42a9047",
   "metadata": {},
   "source": [
    "## 4. Load Sample Dataset\n",
    "\n",
    "Let's create and load a sample dataset to demonstrate data handling capabilities."
   ]
  },
  {
   "cell_type": "code",
   "execution_count": 4,
   "id": "2bc8f9d7",
   "metadata": {},
   "outputs": [
    {
     "name": "stdout",
     "output_type": "stream",
     "text": [
      "✅ Sample dataset created and saved to: C:\\vscode-vfs\\github\\and3rn3t\\dbt\\data\\raw\\sample_sales_data.csv\n",
      "📊 Dataset shape: (1000, 8)\n"
     ]
    }
   ],
   "source": [
    "# Create a sample dataset\n",
    "np.random.seed(42)\n",
    "n_samples = 1000\n",
    "\n",
    "sample_data = {\n",
    "    'date': pd.date_range('2024-01-01', periods=n_samples, freq='H'),\n",
    "    'product_id': np.random.choice(['P001', 'P002', 'P003', 'P004', 'P005'], n_samples),\n",
    "    'category': np.random.choice(['Electronics', 'Clothing', 'Food', 'Books'], n_samples),\n",
    "    'sales': np.random.uniform(10, 500, n_samples).round(2),\n",
    "    'quantity': np.random.randint(1, 20, n_samples),\n",
    "    'customer_age': np.random.randint(18, 75, n_samples),\n",
    "    'region': np.random.choice(['North', 'South', 'East', 'West'], n_samples),\n",
    "    'satisfaction_score': np.random.uniform(1, 5, n_samples).round(1)\n",
    "}\n",
    "\n",
    "df = pd.DataFrame(sample_data)\n",
    "\n",
    "# Save to CSV\n",
    "sample_csv_path = RAW_DATA_DIR / 'sample_sales_data.csv'\n",
    "df.to_csv(sample_csv_path, index=False)\n",
    "\n",
    "print(f\"✅ Sample dataset created and saved to: {sample_csv_path}\")\n",
    "print(f\"📊 Dataset shape: {df.shape}\")"
   ]
  },
  {
   "cell_type": "markdown",
   "id": "e9e0d87c",
   "metadata": {},
   "source": [
    "## 5. Inspect Dataset Structure\n",
    "\n",
    "Let's explore the dataset using various Pandas methods."
   ]
  },
  {
   "cell_type": "code",
   "execution_count": 5,
   "id": "26d20ecb",
   "metadata": {},
   "outputs": [
    {
     "name": "stdout",
     "output_type": "stream",
     "text": [
      "📋 First 5 rows:\n",
      "                 date product_id category   sales  quantity  customer_age  \\\n",
      "0 2024-01-01 00:00:00       P004    Books   92.07         8            73   \n",
      "1 2024-01-01 01:00:00       P005    Books   61.24        11            63   \n",
      "2 2024-01-01 02:00:00       P003    Books  321.85         1            20   \n",
      "3 2024-01-01 03:00:00       P005    Books  356.17         7            27   \n",
      "4 2024-01-01 04:00:00       P005    Books   25.48        17            55   \n",
      "\n",
      "  region  satisfaction_score  \n",
      "0  North                 4.1  \n",
      "1   East                 3.6  \n",
      "2   West                 4.3  \n",
      "3  South                 4.9  \n",
      "4  North                 2.9  \n",
      "\n",
      "================================================================================\n",
      "\n",
      "ℹ️ Dataset Information:\n",
      "<class 'pandas.core.frame.DataFrame'>\n",
      "RangeIndex: 1000 entries, 0 to 999\n",
      "Data columns (total 8 columns):\n",
      " #   Column              Non-Null Count  Dtype         \n",
      "---  ------              --------------  -----         \n",
      " 0   date                1000 non-null   datetime64[ns]\n",
      " 1   product_id          1000 non-null   object        \n",
      " 2   category            1000 non-null   object        \n",
      " 3   sales               1000 non-null   float64       \n",
      " 4   quantity            1000 non-null   int32         \n",
      " 5   customer_age        1000 non-null   int32         \n",
      " 6   region              1000 non-null   object        \n",
      " 7   satisfaction_score  1000 non-null   float64       \n",
      "dtypes: datetime64[ns](1), float64(2), int32(2), object(3)\n",
      "memory usage: 54.8+ KB\n",
      "\n",
      "================================================================================\n",
      "\n",
      "📊 Statistical Summary:\n",
      "                                date        sales     quantity  customer_age  \\\n",
      "count                           1000  1000.000000  1000.000000   1000.000000   \n",
      "mean   2024-01-21 19:29:59.999999744   256.787870    10.091000     46.599000   \n",
      "min              2024-01-01 00:00:00    11.580000     1.000000     18.000000   \n",
      "25%              2024-01-11 09:45:00   131.125000     5.000000     32.000000   \n",
      "50%              2024-01-21 19:30:00   262.900000    10.000000     47.000000   \n",
      "75%              2024-02-01 05:15:00   375.697500    15.000000     61.000000   \n",
      "max              2024-02-11 15:00:00   499.710000    19.000000     74.000000   \n",
      "std                              NaN   141.294742     5.548649     16.441366   \n",
      "\n",
      "       satisfaction_score  \n",
      "count         1000.000000  \n",
      "mean             2.960700  \n",
      "min              1.000000  \n",
      "25%              2.000000  \n",
      "50%              2.900000  \n",
      "75%              4.000000  \n",
      "max              5.000000  \n",
      "std              1.145757  \n",
      "\n",
      "================================================================================\n",
      "\n",
      "🔍 Missing Values:\n",
      "date                  0\n",
      "product_id            0\n",
      "category              0\n",
      "sales                 0\n",
      "quantity              0\n",
      "customer_age          0\n",
      "region                0\n",
      "satisfaction_score    0\n",
      "dtype: int64\n",
      "\n",
      "================================================================================\n",
      "\n",
      "📝 Data Types:\n",
      "date                  datetime64[ns]\n",
      "product_id                    object\n",
      "category                      object\n",
      "sales                        float64\n",
      "quantity                       int32\n",
      "customer_age                   int32\n",
      "region                        object\n",
      "satisfaction_score           float64\n",
      "dtype: object\n"
     ]
    }
   ],
   "source": [
    "# Display first few rows\n",
    "print(\"📋 First 5 rows:\")\n",
    "print(df.head())\n",
    "print(\"\\n\" + \"=\"*80 + \"\\n\")\n",
    "\n",
    "# Dataset info\n",
    "print(\"ℹ️ Dataset Information:\")\n",
    "df.info()\n",
    "print(\"\\n\" + \"=\"*80 + \"\\n\")\n",
    "\n",
    "# Statistical summary\n",
    "print(\"📊 Statistical Summary:\")\n",
    "print(df.describe())\n",
    "print(\"\\n\" + \"=\"*80 + \"\\n\")\n",
    "\n",
    "# Check for missing values\n",
    "print(\"🔍 Missing Values:\")\n",
    "print(df.isnull().sum())\n",
    "print(\"\\n\" + \"=\"*80 + \"\\n\")\n",
    "\n",
    "# Data types\n",
    "print(\"📝 Data Types:\")\n",
    "print(df.dtypes)"
   ]
  },
  {
   "cell_type": "markdown",
   "id": "8d97c007",
   "metadata": {},
   "source": [
    "## 6. Configure Pandas Display Options\n",
    "\n",
    "Optimize how Pandas displays data in the notebook."
   ]
  },
  {
   "cell_type": "code",
   "execution_count": 6,
   "id": "ed475ed8",
   "metadata": {},
   "outputs": [
    {
     "name": "stdout",
     "output_type": "stream",
     "text": [
      "✅ Pandas display options configured!\n",
      "\n",
      "📊 Styled DataFrame Preview:\n"
     ]
    },
    {
     "data": {
      "text/html": [
       "<style type=\"text/css\">\n",
       "#T_a2736_row0_col3 {\n",
       "  background-color: #463480;\n",
       "  color: #f1f1f1;\n",
       "}\n",
       "#T_a2736_row0_col4 {\n",
       "  background-color: #26828e;\n",
       "  color: #f1f1f1;\n",
       "}\n",
       "#T_a2736_row1_col3 {\n",
       "  background-color: #481d6f;\n",
       "  color: #f1f1f1;\n",
       "}\n",
       "#T_a2736_row1_col4, #T_a2736_row6_col4 {\n",
       "  background-color: #28ae80;\n",
       "  color: #f1f1f1;\n",
       "}\n",
       "#T_a2736_row2_col3 {\n",
       "  background-color: #37b878;\n",
       "  color: #f1f1f1;\n",
       "}\n",
       "#T_a2736_row2_col4, #T_a2736_row4_col3 {\n",
       "  background-color: #440154;\n",
       "  color: #f1f1f1;\n",
       "}\n",
       "#T_a2736_row3_col3 {\n",
       "  background-color: #5ac864;\n",
       "  color: #000000;\n",
       "}\n",
       "#T_a2736_row3_col4 {\n",
       "  background-color: #2c728e;\n",
       "  color: #f1f1f1;\n",
       "}\n",
       "#T_a2736_row4_col4, #T_a2736_row5_col3 {\n",
       "  background-color: #fde725;\n",
       "  color: #000000;\n",
       "}\n",
       "#T_a2736_row5_col4, #T_a2736_row7_col3 {\n",
       "  background-color: #1fa088;\n",
       "  color: #f1f1f1;\n",
       "}\n",
       "#T_a2736_row6_col3 {\n",
       "  background-color: #46085c;\n",
       "  color: #f1f1f1;\n",
       "}\n",
       "#T_a2736_row7_col4, #T_a2736_row8_col4 {\n",
       "  background-color: #21918c;\n",
       "  color: #f1f1f1;\n",
       "}\n",
       "#T_a2736_row8_col3 {\n",
       "  background-color: #5cc863;\n",
       "  color: #000000;\n",
       "}\n",
       "#T_a2736_row9_col3 {\n",
       "  background-color: #d0e11c;\n",
       "  color: #000000;\n",
       "}\n",
       "#T_a2736_row9_col4 {\n",
       "  background-color: #3b528b;\n",
       "  color: #f1f1f1;\n",
       "}\n",
       "</style>\n",
       "<table id=\"T_a2736\">\n",
       "  <thead>\n",
       "    <tr>\n",
       "      <th class=\"blank level0\" >&nbsp;</th>\n",
       "      <th id=\"T_a2736_level0_col0\" class=\"col_heading level0 col0\" >date</th>\n",
       "      <th id=\"T_a2736_level0_col1\" class=\"col_heading level0 col1\" >product_id</th>\n",
       "      <th id=\"T_a2736_level0_col2\" class=\"col_heading level0 col2\" >category</th>\n",
       "      <th id=\"T_a2736_level0_col3\" class=\"col_heading level0 col3\" >sales</th>\n",
       "      <th id=\"T_a2736_level0_col4\" class=\"col_heading level0 col4\" >quantity</th>\n",
       "      <th id=\"T_a2736_level0_col5\" class=\"col_heading level0 col5\" >customer_age</th>\n",
       "      <th id=\"T_a2736_level0_col6\" class=\"col_heading level0 col6\" >region</th>\n",
       "      <th id=\"T_a2736_level0_col7\" class=\"col_heading level0 col7\" >satisfaction_score</th>\n",
       "    </tr>\n",
       "  </thead>\n",
       "  <tbody>\n",
       "    <tr>\n",
       "      <th id=\"T_a2736_level0_row0\" class=\"row_heading level0 row0\" >0</th>\n",
       "      <td id=\"T_a2736_row0_col0\" class=\"data row0 col0\" >2024-01-01 00:00:00</td>\n",
       "      <td id=\"T_a2736_row0_col1\" class=\"data row0 col1\" >P004</td>\n",
       "      <td id=\"T_a2736_row0_col2\" class=\"data row0 col2\" >Books</td>\n",
       "      <td id=\"T_a2736_row0_col3\" class=\"data row0 col3\" >92.070000</td>\n",
       "      <td id=\"T_a2736_row0_col4\" class=\"data row0 col4\" >8</td>\n",
       "      <td id=\"T_a2736_row0_col5\" class=\"data row0 col5\" >73</td>\n",
       "      <td id=\"T_a2736_row0_col6\" class=\"data row0 col6\" >North</td>\n",
       "      <td id=\"T_a2736_row0_col7\" class=\"data row0 col7\" >4.100000</td>\n",
       "    </tr>\n",
       "    <tr>\n",
       "      <th id=\"T_a2736_level0_row1\" class=\"row_heading level0 row1\" >1</th>\n",
       "      <td id=\"T_a2736_row1_col0\" class=\"data row1 col0\" >2024-01-01 01:00:00</td>\n",
       "      <td id=\"T_a2736_row1_col1\" class=\"data row1 col1\" >P005</td>\n",
       "      <td id=\"T_a2736_row1_col2\" class=\"data row1 col2\" >Books</td>\n",
       "      <td id=\"T_a2736_row1_col3\" class=\"data row1 col3\" >61.240000</td>\n",
       "      <td id=\"T_a2736_row1_col4\" class=\"data row1 col4\" >11</td>\n",
       "      <td id=\"T_a2736_row1_col5\" class=\"data row1 col5\" >63</td>\n",
       "      <td id=\"T_a2736_row1_col6\" class=\"data row1 col6\" >East</td>\n",
       "      <td id=\"T_a2736_row1_col7\" class=\"data row1 col7\" >3.600000</td>\n",
       "    </tr>\n",
       "    <tr>\n",
       "      <th id=\"T_a2736_level0_row2\" class=\"row_heading level0 row2\" >2</th>\n",
       "      <td id=\"T_a2736_row2_col0\" class=\"data row2 col0\" >2024-01-01 02:00:00</td>\n",
       "      <td id=\"T_a2736_row2_col1\" class=\"data row2 col1\" >P003</td>\n",
       "      <td id=\"T_a2736_row2_col2\" class=\"data row2 col2\" >Books</td>\n",
       "      <td id=\"T_a2736_row2_col3\" class=\"data row2 col3\" >321.850000</td>\n",
       "      <td id=\"T_a2736_row2_col4\" class=\"data row2 col4\" >1</td>\n",
       "      <td id=\"T_a2736_row2_col5\" class=\"data row2 col5\" >20</td>\n",
       "      <td id=\"T_a2736_row2_col6\" class=\"data row2 col6\" >West</td>\n",
       "      <td id=\"T_a2736_row2_col7\" class=\"data row2 col7\" >4.300000</td>\n",
       "    </tr>\n",
       "    <tr>\n",
       "      <th id=\"T_a2736_level0_row3\" class=\"row_heading level0 row3\" >3</th>\n",
       "      <td id=\"T_a2736_row3_col0\" class=\"data row3 col0\" >2024-01-01 03:00:00</td>\n",
       "      <td id=\"T_a2736_row3_col1\" class=\"data row3 col1\" >P005</td>\n",
       "      <td id=\"T_a2736_row3_col2\" class=\"data row3 col2\" >Books</td>\n",
       "      <td id=\"T_a2736_row3_col3\" class=\"data row3 col3\" >356.170000</td>\n",
       "      <td id=\"T_a2736_row3_col4\" class=\"data row3 col4\" >7</td>\n",
       "      <td id=\"T_a2736_row3_col5\" class=\"data row3 col5\" >27</td>\n",
       "      <td id=\"T_a2736_row3_col6\" class=\"data row3 col6\" >South</td>\n",
       "      <td id=\"T_a2736_row3_col7\" class=\"data row3 col7\" >4.900000</td>\n",
       "    </tr>\n",
       "    <tr>\n",
       "      <th id=\"T_a2736_level0_row4\" class=\"row_heading level0 row4\" >4</th>\n",
       "      <td id=\"T_a2736_row4_col0\" class=\"data row4 col0\" >2024-01-01 04:00:00</td>\n",
       "      <td id=\"T_a2736_row4_col1\" class=\"data row4 col1\" >P005</td>\n",
       "      <td id=\"T_a2736_row4_col2\" class=\"data row4 col2\" >Books</td>\n",
       "      <td id=\"T_a2736_row4_col3\" class=\"data row4 col3\" >25.480000</td>\n",
       "      <td id=\"T_a2736_row4_col4\" class=\"data row4 col4\" >17</td>\n",
       "      <td id=\"T_a2736_row4_col5\" class=\"data row4 col5\" >55</td>\n",
       "      <td id=\"T_a2736_row4_col6\" class=\"data row4 col6\" >North</td>\n",
       "      <td id=\"T_a2736_row4_col7\" class=\"data row4 col7\" >2.900000</td>\n",
       "    </tr>\n",
       "    <tr>\n",
       "      <th id=\"T_a2736_level0_row5\" class=\"row_heading level0 row5\" >5</th>\n",
       "      <td id=\"T_a2736_row5_col0\" class=\"data row5 col0\" >2024-01-01 05:00:00</td>\n",
       "      <td id=\"T_a2736_row5_col1\" class=\"data row5 col1\" >P002</td>\n",
       "      <td id=\"T_a2736_row5_col2\" class=\"data row5 col2\" >Electronics</td>\n",
       "      <td id=\"T_a2736_row5_col3\" class=\"data row5 col3\" >468.740000</td>\n",
       "      <td id=\"T_a2736_row5_col4\" class=\"data row5 col4\" >10</td>\n",
       "      <td id=\"T_a2736_row5_col5\" class=\"data row5 col5\" >18</td>\n",
       "      <td id=\"T_a2736_row5_col6\" class=\"data row5 col6\" >West</td>\n",
       "      <td id=\"T_a2736_row5_col7\" class=\"data row5 col7\" >1.300000</td>\n",
       "    </tr>\n",
       "    <tr>\n",
       "      <th id=\"T_a2736_level0_row6\" class=\"row_heading level0 row6\" >6</th>\n",
       "      <td id=\"T_a2736_row6_col0\" class=\"data row6 col0\" >2024-01-01 06:00:00</td>\n",
       "      <td id=\"T_a2736_row6_col1\" class=\"data row6 col1\" >P003</td>\n",
       "      <td id=\"T_a2736_row6_col2\" class=\"data row6 col2\" >Books</td>\n",
       "      <td id=\"T_a2736_row6_col3\" class=\"data row6 col3\" >35.470000</td>\n",
       "      <td id=\"T_a2736_row6_col4\" class=\"data row6 col4\" >11</td>\n",
       "      <td id=\"T_a2736_row6_col5\" class=\"data row6 col5\" >72</td>\n",
       "      <td id=\"T_a2736_row6_col6\" class=\"data row6 col6\" >South</td>\n",
       "      <td id=\"T_a2736_row6_col7\" class=\"data row6 col7\" >1.200000</td>\n",
       "    </tr>\n",
       "    <tr>\n",
       "      <th id=\"T_a2736_level0_row7\" class=\"row_heading level0 row7\" >7</th>\n",
       "      <td id=\"T_a2736_row7_col0\" class=\"data row7 col0\" >2024-01-01 07:00:00</td>\n",
       "      <td id=\"T_a2736_row7_col1\" class=\"data row7 col1\" >P003</td>\n",
       "      <td id=\"T_a2736_row7_col2\" class=\"data row7 col2\" >Electronics</td>\n",
       "      <td id=\"T_a2736_row7_col3\" class=\"data row7 col3\" >275.240000</td>\n",
       "      <td id=\"T_a2736_row7_col4\" class=\"data row7 col4\" >9</td>\n",
       "      <td id=\"T_a2736_row7_col5\" class=\"data row7 col5\" >73</td>\n",
       "      <td id=\"T_a2736_row7_col6\" class=\"data row7 col6\" >West</td>\n",
       "      <td id=\"T_a2736_row7_col7\" class=\"data row7 col7\" >2.200000</td>\n",
       "    </tr>\n",
       "    <tr>\n",
       "      <th id=\"T_a2736_level0_row8\" class=\"row_heading level0 row8\" >8</th>\n",
       "      <td id=\"T_a2736_row8_col0\" class=\"data row8 col0\" >2024-01-01 08:00:00</td>\n",
       "      <td id=\"T_a2736_row8_col1\" class=\"data row8 col1\" >P003</td>\n",
       "      <td id=\"T_a2736_row8_col2\" class=\"data row8 col2\" >Books</td>\n",
       "      <td id=\"T_a2736_row8_col3\" class=\"data row8 col3\" >357.440000</td>\n",
       "      <td id=\"T_a2736_row8_col4\" class=\"data row8 col4\" >9</td>\n",
       "      <td id=\"T_a2736_row8_col5\" class=\"data row8 col5\" >44</td>\n",
       "      <td id=\"T_a2736_row8_col6\" class=\"data row8 col6\" >North</td>\n",
       "      <td id=\"T_a2736_row8_col7\" class=\"data row8 col7\" >4.700000</td>\n",
       "    </tr>\n",
       "    <tr>\n",
       "      <th id=\"T_a2736_level0_row9\" class=\"row_heading level0 row9\" >9</th>\n",
       "      <td id=\"T_a2736_row9_col0\" class=\"data row9 col0\" >2024-01-01 09:00:00</td>\n",
       "      <td id=\"T_a2736_row9_col1\" class=\"data row9 col1\" >P005</td>\n",
       "      <td id=\"T_a2736_row9_col2\" class=\"data row9 col2\" >Food</td>\n",
       "      <td id=\"T_a2736_row9_col3\" class=\"data row9 col3\" >436.770000</td>\n",
       "      <td id=\"T_a2736_row9_col4\" class=\"data row9 col4\" >5</td>\n",
       "      <td id=\"T_a2736_row9_col5\" class=\"data row9 col5\" >63</td>\n",
       "      <td id=\"T_a2736_row9_col6\" class=\"data row9 col6\" >North</td>\n",
       "      <td id=\"T_a2736_row9_col7\" class=\"data row9 col7\" >3.100000</td>\n",
       "    </tr>\n",
       "  </tbody>\n",
       "</table>\n"
      ],
      "text/plain": [
       "<pandas.io.formats.style.Styler at 0x1e60c0ce3d0>"
      ]
     },
     "execution_count": 6,
     "metadata": {},
     "output_type": "execute_result"
    }
   ],
   "source": [
    "# Configure Pandas display options\n",
    "pd.set_option('display.max_rows', 100)\n",
    "pd.set_option('display.max_columns', None)\n",
    "pd.set_option('display.width', None)\n",
    "pd.set_option('display.max_colwidth', 50)\n",
    "pd.set_option('display.precision', 2)\n",
    "pd.set_option('display.float_format', '{:.2f}'.format)\n",
    "\n",
    "# Display styled dataframe\n",
    "print(\"✅ Pandas display options configured!\")\n",
    "print(\"\\n📊 Styled DataFrame Preview:\")\n",
    "df.head(10).style.background_gradient(cmap='viridis', subset=['sales', 'quantity'])"
   ]
  },
  {
   "cell_type": "markdown",
   "id": "7ff2a5bc",
   "metadata": {},
   "source": [
    "## 7. Set Up Visualization Preferences\n",
    "\n",
    "Configure default settings for matplotlib and seaborn visualizations."
   ]
  },
  {
   "cell_type": "code",
   "execution_count": 7,
   "id": "b27d6162",
   "metadata": {},
   "outputs": [
    {
     "name": "stdout",
     "output_type": "stream",
     "text": [
      "✅ Visualization preferences configured!\n",
      "\n",
      "🎨 Available color palettes:\n",
      "  - Default: 'husl'\n",
      "  - Alternatives: 'deep', 'muted', 'pastel', 'bright', 'dark', 'colorblind'\n",
      "\n",
      "📐 Default figure size: 12x6 inches\n"
     ]
    }
   ],
   "source": [
    "# Set matplotlib style\n",
    "plt.style.use('seaborn-v0_8-darkgrid')\n",
    "\n",
    "# Configure default figure size\n",
    "plt.rcParams['figure.figsize'] = (12, 6)\n",
    "plt.rcParams['figure.dpi'] = 100\n",
    "plt.rcParams['font.size'] = 10\n",
    "\n",
    "# Set seaborn style and color palette\n",
    "sns.set_style('whitegrid')\n",
    "sns.set_palette('husl')\n",
    "\n",
    "print(\"✅ Visualization preferences configured!\")\n",
    "print(\"\\n🎨 Available color palettes:\")\n",
    "print(\"  - Default: 'husl'\")\n",
    "print(\"  - Alternatives: 'deep', 'muted', 'pastel', 'bright', 'dark', 'colorblind'\")\n",
    "print(\"\\n📐 Default figure size: 12x6 inches\")"
   ]
  },
  {
   "cell_type": "markdown",
   "id": "007fa7b7",
   "metadata": {},
   "source": [
    "## 8. Example Visualizations\n",
    "\n",
    "Let's create some example visualizations with our sample data."
   ]
  },
  {
   "cell_type": "code",
   "execution_count": 8,
   "id": "e55e7b54",
   "metadata": {},
   "outputs": [
    {
     "data": {
      "image/png": "[encoded data removed]",
      "text/plain": [
       "<Figure size 1400x1000 with 4 Axes>"
      ]
     },
     "metadata": {},
     "output_type": "display_data"
    },
    {
     "name": "stdout",
     "output_type": "stream",
     "text": [
      "✅ Visualizations created successfully!\n"
     ]
    }
   ],
   "source": [
    "# Create a figure with multiple subplots\n",
    "fig, axes = plt.subplots(2, 2, figsize=(14, 10))\n",
    "fig.suptitle('Sample Sales Data Analysis', fontsize=16, fontweight='bold')\n",
    "\n",
    "# 1. Sales distribution by category\n",
    "df.groupby('category')['sales'].sum().plot(kind='bar', ax=axes[0, 0], color='skyblue')\n",
    "axes[0, 0].set_title('Total Sales by Category')\n",
    "axes[0, 0].set_xlabel('Category')\n",
    "axes[0, 0].set_ylabel('Total Sales ($)')\n",
    "axes[0, 0].tick_params(axis='x', rotation=45)\n",
    "\n",
    "# 2. Sales over time\n",
    "daily_sales = df.groupby(df['date'].dt.date)['sales'].sum()\n",
    "axes[0, 1].plot(daily_sales.index, daily_sales.values, color='green', linewidth=2)\n",
    "axes[0, 1].set_title('Daily Sales Trend')\n",
    "axes[0, 1].set_xlabel('Date')\n",
    "axes[0, 1].set_ylabel('Sales ($)')\n",
    "axes[0, 1].tick_params(axis='x', rotation=45)\n",
    "\n",
    "# 3. Satisfaction score distribution\n",
    "axes[1, 0].hist(df['satisfaction_score'], bins=20, color='coral', edgecolor='black')\n",
    "axes[1, 0].set_title('Customer Satisfaction Score Distribution')\n",
    "axes[1, 0].set_xlabel('Satisfaction Score')\n",
    "axes[1, 0].set_ylabel('Frequency')\n",
    "\n",
    "# 4. Sales by region\n",
    "df.groupby('region')['sales'].mean().plot(kind='barh', ax=axes[1, 1], color='purple')\n",
    "axes[1, 1].set_title('Average Sales by Region')\n",
    "axes[1, 1].set_xlabel('Average Sales ($)')\n",
    "axes[1, 1].set_ylabel('Region')\n",
    "\n",
    "plt.tight_layout()\n",
    "plt.show()\n",
    "\n",
    "print(\"✅ Visualizations created successfully!\")"
   ]
  },
  {
   "cell_type": "code",
   "execution_count": 9,
   "id": "886e57bf",
   "metadata": {},
   "outputs": [
    {
     "data": {
      "image/png": "[encoded data removed]",
      "text/plain": [
       "<Figure size 1400x500 with 2 Axes>"
      ]
     },
     "metadata": {},
     "output_type": "display_data"
    }
   ],
   "source": [
    "# Seaborn advanced visualizations\n",
    "fig, axes = plt.subplots(1, 2, figsize=(14, 5))\n",
    "\n",
    "# 1. Box plot for sales by category\n",
    "sns.boxplot(data=df, x='category', y='sales', ax=axes[0])\n",
    "axes[0].set_title('Sales Distribution by Category')\n",
    "axes[0].tick_params(axis='x', rotation=45)\n",
    "\n",
    "# 2. Scatter plot with regression line\n",
    "sns.regplot(data=df, x='customer_age', y='sales', ax=axes[1], scatter_kws={'alpha':0.3})\n",
    "axes[1].set_title('Sales vs Customer Age')\n",
    "axes[1].set_xlabel('Customer Age')\n",
    "axes[1].set_ylabel('Sales ($)')\n",
    "\n",
    "plt.tight_layout()\n",
    "plt.show()"
   ]
  },
  {
   "cell_type": "code",
   "execution_count": 10,
   "id": "9d481039",
   "metadata": {},
   "outputs": [
    {
     "data": {
      "application/vnd.plotly.v1+json": {
       "config": {
        "plotlyServerURL": "https://plot.ly"
       },
       "data": [
        {
         "customdata": [
          [
           "North",
           4.1
          ],
          [
           "East",
           3.6
          ],
          [
           "West",
           4.3
          ],
          [
           "South",
           4.9
          ],
          [
           "North",
           2.9
          ],
          [
           "South",
           1.2
          ],
          [
           "North",
           4.7
          ],
          [
           "West",
           3.4
          ],
          [
           "West",
           4.6
          ],
          [
           "West",
           2.2
          ],
          [
           "East",
           2.3
          ],
          [
           "North",
           3
          ],
          [
           "South",
           1
          ],
          [
           "North",
           3.1
          ],
          [
           "East",
           2.2
          ],
          [
           "East",
           3.5
          ],
          [
           "North",
           1.2
          ],
          [
           "East",
           1.5
          ],
          [
           "West",
           4.5
          ],
          [
           "South",
           2.3
          ],
          [
           "South",
           1.8
          ],
          [
           "North",
           4.7
          ],
          [
           "North",
           1.8
          ],
          [
           "South",
           2.3
          ],
          [
           "East",
           5
          ],
          [
           "South",
           1.6
          ],
          [
           "North",
           3.3
          ],
          [
           "South",
           2.4
          ],
          [
           "East",
           1.8
          ],
          [
           "East",
           4.7
          ],
          [
           "East",
           2.8
          ],
          [
           "West",
           2.7
          ],
          [
           "West",
           4.2
          ],
          [
           "North",
           2.5
          ],
          [
           "East",
           3.5
          ],
          [
           "North",
           2
          ],
          [
           "East",
           4.5
          ],
          [
           "West",
           1.1
          ],
          [
           "South",
           4.1
          ],
          [
           "East",
           4.6
          ],
          [
           "West",
           2.3
          ],
          [
           "North",
           3.4
          ],
          [
           "South",
           2.8
          ],
          [
           "West",
           4.7
          ],
          [
           "North",
           4
          ],
          [
           "East",
           3.7
          ],
          [
           "East",
           1.7
          ],
          [
           "East",
           2.1
          ],
          [
           "East",
           1.1
          ],
          [
           "North",
           4.9
          ],
          [
           "South",
           4.9
          ],
          [
           "South",
           1.8
          ],
          [
           "North",
           4.4
          ],
          [
           "North",
           2.3
          ],
          [
           "North",
           3
          ],
          [
           "North",
           1.8
          ],
          [
           "East",
           2.1
          ],
          [
           "East",
           3.1
          ],
          [
           "West",
           1.3
          ],
          [
           "North",
           3.6
          ],
          [
           "East",
           3.3
          ],
          [
           "North",
           1.2
          ],
          [
           "South",
           2.7
          ],
          [
           "South",
           2
          ],
          [
           "North",
           2.3
          ],
          [
           "West",
           1.8
          ],
          [
           "North",
           2.3
          ],
          [
           "West",
           3.9
          ],
          [
           "North",
           1.5
          ],
          [
           "South",
           3.4
          ],
          [
           "North",
           1.7
          ],
          [
           "East",
           4.2
          ],
          [
           "West",
           4.3
          ],
          [
           "South",
           1.1
          ],
          [
           "West",
           3.4
          ],
          [
           "North",
           2.5
          ],
          [
           "South",
           2.1
          ],
          [
           "North",
           4.5
          ],
          [
           "West",
           1.8
          ],
          [
           "West",
           2.3
          ],
          [
           "East",
           1.6
          ],
          [
           "North",
           1.1
          ],
          [
           "East",
           4.5
          ],
          [
           "South",
           4.9
          ],
          [
           "East",
           3.5
          ],
          [
           "South",
           2.6
          ],
          [
           "West",
           4.3
          ],
          [
           "North",
           4.1
          ],
          [
           "East",
           2.9
          ],
          [
           "North",
           4.7
          ],
          [
           "West",
           4.5
          ],
          [
           "East",
           2.1
          ],
          [
           "South",
           1.9
          ],
          [
           "South",
           2.2
          ],
          [
           "West",
           2.8
          ],
          [
           "East",
           4.2
          ],
          [
           "West",
           3.4
          ],
          [
           "North",
           3.3
          ],
          [
           "East",
           2.2
          ],
          [
           "North",
           3.8
          ],
          [
           "South",
           4.4
          ],
          [
           "East",
           3.8
          ],
          [
           "East",
           3.5
          ],
          [
           "West",
           4.6
          ],
          [
           "East",
           3.1
          ],
          [
           "North",
           2.9
          ],
          [
           "North",
           1.5
          ],
          [
           "South",
           3.1
          ],
          [
           "South",
           4.3
          ],
          [
           "West",
           1
          ],
          [
           "South",
           2.5
          ],
          [
           "East",
           3.2
          ],
          [
           "East",
           3.9
          ],
          [
           "South",
           3.8
          ],
          [
           "South",
           2.2
          ],
          [
           "East",
           2
          ],
          [
           "East",
           1.9
          ],
          [
           "South",
           4.3
          ],
          [
           "East",
           3.7
          ],
          [
           "North",
           2.3
          ],
          [
           "East",
           4.4
          ],
          [
           "West",
           2.3
          ],
          [
           "North",
           4.8
          ],
          [
           "North",
           1.5
          ],
          [
           "North",
           2.7
          ],
          [
           "East",
           2.5
          ],
          [
           "North",
           2.4
          ],
          [
           "South",
           3.8
          ],
          [
           "West",
           2.3
          ],
          [
           "North",
           3.7
          ],
          [
           "West",
           1.8
          ],
          [
           "North",
           4.8
          ],
          [
           "South",
           1.5
          ],
          [
           "West",
           4.2
          ],
          [
           "West",
           1.8
          ],
          [
           "South",
           4.4
          ],
          [
           "North",
           3.5
          ],
          [
           "West",
           4.1
          ],
          [
           "North",
           4.3
          ],
          [
           "West",
           3.2
          ],
          [
           "East",
           3.2
          ],
          [
           "North",
           2
          ],
          [
           "East",
           3.6
          ],
          [
           "North",
           3.3
          ],
          [
           "South",
           2.9
          ],
          [
           "South",
           2.9
          ],
          [
           "West",
           3.1
          ],
          [
           "West",
           3.3
          ],
          [
           "East",
           3.9
          ],
          [
           "East",
           3.2
          ],
          [
           "East",
           1.9
          ],
          [
           "West",
           2.6
          ],
          [
           "East",
           3.3
          ],
          [
           "North",
           2
          ],
          [
           "East",
           2.8
          ],
          [
           "West",
           2.1
          ],
          [
           "West",
           2.2
          ],
          [
           "West",
           3.3
          ],
          [
           "West",
           1.9
          ],
          [
           "South",
           2.7
          ],
          [
           "West",
           3.4
          ],
          [
           "North",
           2.8
          ],
          [
           "South",
           2.5
          ],
          [
           "South",
           1.5
          ],
          [
           "South",
           1.1
          ],
          [
           "West",
           2.5
          ],
          [
           "North",
           1.4
          ],
          [
           "West",
           3.5
          ],
          [
           "West",
           3.7
          ],
          [
           "South",
           1.2
          ],
          [
           "West",
           1.1
          ],
          [
           "South",
           4.4
          ],
          [
           "West",
           4.8
          ],
          [
           "North",
           3
          ],
          [
           "South",
           3.8
          ],
          [
           "West",
           2.7
          ],
          [
           "West",
           4.7
          ],
          [
           "North",
           3
          ],
          [
           "East",
           3.3
          ],
          [
           "East",
           3.7
          ],
          [
           "West",
           4
          ],
          [
           "West",
           4.2
          ],
          [
           "West",
           2.1
          ],
          [
           "South",
           4
          ],
          [
           "West",
           1.8
          ],
          [
           "South",
           3.8
          ],
          [
           "West",
           2
          ],
          [
           "South",
           2.6
          ],
          [
           "West",
           4.3
          ],
          [
           "North",
           4.2
          ],
          [
           "West",
           1.5
          ],
          [
           "East",
           1.3
          ],
          [
           "South",
           3.9
          ],
          [
           "West",
           2.3
          ],
          [
           "East",
           1.7
          ],
          [
           "West",
           2.8
          ],
          [
           "North",
           2
          ],
          [
           "East",
           4.3
          ],
          [
           "West",
           2.9
          ],
          [
           "West",
           4.2
          ],
          [
           "South",
           2.7
          ],
          [
           "East",
           2.5
          ],
          [
           "North",
           2.6
          ],
          [
           "South",
           2.4
          ],
          [
           "North",
           2.6
          ],
          [
           "East",
           5
          ],
          [
           "East",
           3.3
          ],
          [
           "North",
           3.1
          ],
          [
           "South",
           4.4
          ],
          [
           "East",
           1.7
          ],
          [
           "North",
           3.2
          ],
          [
           "West",
           1.7
          ],
          [
           "West",
           1.9
          ],
          [
           "East",
           1.4
          ],
          [
           "East",
           1
          ],
          [
           "North",
           2.6
          ],
          [
           "South",
           2.4
          ],
          [
           "West",
           4.2
          ],
          [
           "East",
           3.9
          ],
          [
           "South",
           2.6
          ],
          [
           "North",
           1.8
          ],
          [
           "North",
           5
          ],
          [
           "North",
           4.4
          ],
          [
           "West",
           2.4
          ],
          [
           "West",
           4.2
          ],
          [
           "East",
           1
          ],
          [
           "South",
           1.1
          ],
          [
           "East",
           3
          ],
          [
           "North",
           3.5
          ],
          [
           "East",
           1.5
          ],
          [
           "North",
           1.7
          ],
          [
           "East",
           5
          ]
         ],
         "hovertemplate": "category=Books<br>Customer Age=%{x}<br>Sales ($)=%{y}<br>quantity=%{marker.size}<br>region=%{customdata[0]}<br>satisfaction_score=%{customdata[1]}<extra></extra>",
         "legendgroup": "Books",
         "marker": {
          "color": "#636efa",
          "size": {
           "bdata": "CAAAAAsAAAABAAAABwAAABEAAAALAAAACQAAABEAAAATAAAACAAAAA4AAAAEAAAACAAAABMAAAAKAAAACQAAAAYAAAADAAAACwAAAAYAAAAEAAAACQAAAAIAAAAPAAAAAQAAAAUAAAATAAAACgAAAAgAAAARAAAAEgAAAAQAAAAGAAAABQAAAAoAAAAEAAAADwAAAAUAAAADAAAAAgAAABEAAAAOAAAADAAAAAsAAAATAAAAAQAAAAMAAAARAAAAEQAAABMAAAALAAAABQAAABMAAAAQAAAABAAAAAsAAAASAAAADgAAABIAAAAEAAAAEAAAAAkAAAAIAAAACwAAABMAAAARAAAADwAAAAgAAAACAAAADQAAABMAAAAQAAAAEAAAAAIAAAADAAAACAAAAAEAAAARAAAACAAAABIAAAAPAAAACAAAAAYAAAAFAAAADAAAAAQAAAANAAAABgAAAAUAAAAMAAAACwAAAAQAAAAKAAAABQAAAAMAAAAHAAAADQAAAA0AAAACAAAADAAAAAwAAAAKAAAADgAAAAQAAAADAAAAEQAAAAsAAAAIAAAADwAAAA0AAAAHAAAACwAAAAMAAAACAAAAAgAAAA0AAAALAAAADQAAAA0AAAALAAAAEgAAABEAAAASAAAAAgAAAAUAAAASAAAACAAAAAwAAAALAAAADAAAAAUAAAARAAAADwAAAAsAAAAMAAAABQAAAAgAAAADAAAACQAAAAcAAAAHAAAADgAAAA0AAAABAAAACwAAAAkAAAAFAAAACQAAAAUAAAATAAAADQAAAA8AAAAKAAAAEgAAAA0AAAAIAAAAEAAAAAEAAAAEAAAACgAAAA8AAAAEAAAABQAAABAAAAAHAAAAEAAAAAgAAAAKAAAAEQAAAA8AAAAFAAAAEQAAAAkAAAACAAAACAAAAAcAAAABAAAABwAAAAMAAAAPAAAAEQAAAAMAAAAEAAAAEQAAAAIAAAAQAAAABAAAAAwAAAAIAAAAEwAAABIAAAAQAAAADAAAAAwAAAAQAAAABwAAAA0AAAAHAAAAEwAAABIAAAAJAAAACAAAAAkAAAARAAAACgAAAAIAAAAQAAAAAgAAAAsAAAACAAAAAgAAAAMAAAAKAAAAAQAAAAEAAAATAAAADwAAAAQAAAARAAAABAAAAAkAAAAKAAAAEQAAABIAAAAPAAAACQAAAAsAAAAJAAAADQAAAAgAAAARAAAACwAAAA==",
           "dtype": "i4"
          },
          "sizemode": "area",
          "sizeref": 0.0475,
          "symbol": "circle"
         },
         "mode": "markers",
         "name": "Books",
         "orientation": "v",
         "showlegend": true,
         "type": "scatter",
         "x": {
          "bdata": "SQAAAD8AAAAUAAAAGwAAADcAAABIAAAALAAAAD8AAABCAAAANwAAADMAAAA8AAAASAAAABYAAAAtAAAAFAAAACUAAAAVAAAAKAAAAD4AAAAxAAAAFgAAADsAAAAhAAAARAAAADgAAAAiAAAAHQAAADYAAABBAAAAPgAAABMAAAAnAAAAIgAAADwAAAAfAAAAMwAAAB8AAAAtAAAAGQAAAEAAAAAyAAAAJAAAABQAAABAAAAAOwAAABIAAAASAAAALgAAACsAAAAYAAAAGAAAACoAAAAUAAAAPAAAAEcAAAAaAAAAEgAAAC4AAAA6AAAARwAAADoAAAA6AAAAIwAAADkAAAAtAAAARwAAADkAAAAVAAAAQgAAADMAAAAgAAAANgAAACIAAAA2AAAAJAAAAC0AAAAhAAAAJgAAADsAAABGAAAAHQAAAB0AAAAiAAAAIwAAADEAAAAUAAAALwAAABgAAAAbAAAAOAAAACAAAAApAAAANgAAAC0AAAA0AAAAFgAAADcAAAAjAAAALAAAACwAAAAwAAAAIAAAABwAAAAcAAAARgAAACcAAAAxAAAASAAAACQAAAA8AAAAJQAAADMAAAAtAAAAFgAAABYAAAA7AAAAIwAAAEcAAAAmAAAAJwAAACQAAAASAAAAJwAAAEAAAAA/AAAASAAAADwAAAAdAAAAOQAAADUAAAAZAAAAPAAAACEAAABBAAAAGgAAACIAAABIAAAALwAAAEYAAAAvAAAALgAAABwAAAAYAAAANwAAACkAAAAxAAAAFAAAAEoAAAAoAAAAOQAAAD8AAAA4AAAAQgAAADUAAAAeAAAAKwAAACgAAABIAAAAPQAAADAAAABGAAAAGgAAAB0AAAAgAAAAOwAAACAAAAA4AAAAKwAAACMAAAAeAAAAJAAAABgAAABKAAAANAAAACMAAABIAAAAFQAAADYAAAArAAAARwAAABUAAAAqAAAAMQAAAC0AAABIAAAAMAAAAC4AAAA6AAAAHgAAAD4AAAA7AAAARQAAAEcAAABDAAAAGQAAAB4AAAA4AAAALQAAACoAAABIAAAAEwAAAB4AAAAvAAAAJgAAAC8AAABBAAAASAAAACQAAAAoAAAARQAAAC8AAABFAAAARwAAACEAAAAaAAAAIAAAAD4AAAAZAAAAOQAAADwAAAAyAAAAJgAAAEkAAABDAAAANgAAAEcAAAAZAAAANAAAAEQAAAApAAAAFwAAAA==",
          "dtype": "i4"
         },
         "xaxis": "x",
         "y": {
          "bdata": "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",
          "dtype": "f8"
         },
         "yaxis": "y"
        },
        {
         "customdata": [
          [
           "West",
           1.3
          ],
          [
           "West",
           2.2
          ],
          [
           "East",
           2.6
          ],
          [
           "South",
           4.9
          ],
          [
           "South",
           4.6
          ],
          [
           "East",
           5
          ],
          [
           "South",
           4.8
          ],
          [
           "West",
           3.9
          ],
          [
           "North",
           4.7
          ],
          [
           "South",
           4.7
          ],
          [
           "West",
           3.7
          ],
          [
           "West",
           2.4
          ],
          [
           "East",
           2.9
          ],
          [
           "West",
           1.3
          ],
          [
           "East",
           1.7
          ],
          [
           "North",
           1.4
          ],
          [
           "East",
           1.5
          ],
          [
           "East",
           4.5
          ],
          [
           "South",
           3.5
          ],
          [
           "West",
           2
          ],
          [
           "West",
           3.8
          ],
          [
           "South",
           1.4
          ],
          [
           "South",
           2
          ],
          [
           "East",
           2.2
          ],
          [
           "East",
           3.1
          ],
          [
           "West",
           4.5
          ],
          [
           "East",
           2.5
          ],
          [
           "North",
           3.1
          ],
          [
           "North",
           2.9
          ],
          [
           "South",
           3
          ],
          [
           "West",
           2.2
          ],
          [
           "West",
           3.7
          ],
          [
           "North",
           5
          ],
          [
           "North",
           2.6
          ],
          [
           "East",
           3.5
          ],
          [
           "South",
           2.4
          ],
          [
           "North",
           4.5
          ],
          [
           "North",
           1.1
          ],
          [
           "North",
           1.5
          ],
          [
           "South",
           2.8
          ],
          [
           "West",
           2.9
          ],
          [
           "West",
           1.1
          ],
          [
           "North",
           2.1
          ],
          [
           "East",
           4
          ],
          [
           "South",
           3.4
          ],
          [
           "North",
           2.5
          ],
          [
           "West",
           1
          ],
          [
           "South",
           3.1
          ],
          [
           "West",
           1.8
          ],
          [
           "East",
           4.7
          ],
          [
           "South",
           1.2
          ],
          [
           "West",
           3.9
          ],
          [
           "East",
           4.1
          ],
          [
           "West",
           3.6
          ],
          [
           "North",
           5
          ],
          [
           "East",
           3.2
          ],
          [
           "North",
           1.7
          ],
          [
           "North",
           3.5
          ],
          [
           "South",
           3.7
          ],
          [
           "South",
           4.8
          ],
          [
           "North",
           4
          ],
          [
           "South",
           1.1
          ],
          [
           "North",
           1.7
          ],
          [
           "West",
           3.5
          ],
          [
           "South",
           1
          ],
          [
           "South",
           3.3
          ],
          [
           "East",
           2.6
          ],
          [
           "North",
           2.4
          ],
          [
           "South",
           3.9
          ],
          [
           "West",
           2.3
          ],
          [
           "South",
           1.9
          ],
          [
           "North",
           2
          ],
          [
           "East",
           4
          ],
          [
           "East",
           3.1
          ],
          [
           "East",
           2.3
          ],
          [
           "East",
           4.6
          ],
          [
           "East",
           1.2
          ],
          [
           "East",
           4.6
          ],
          [
           "East",
           2.3
          ],
          [
           "South",
           1.5
          ],
          [
           "North",
           2
          ],
          [
           "East",
           3.6
          ],
          [
           "East",
           2.1
          ],
          [
           "East",
           3.4
          ],
          [
           "West",
           2.3
          ],
          [
           "North",
           4.2
          ],
          [
           "West",
           3.4
          ],
          [
           "East",
           1.3
          ],
          [
           "South",
           4.1
          ],
          [
           "West",
           3.9
          ],
          [
           "South",
           4.5
          ],
          [
           "South",
           3.9
          ],
          [
           "East",
           1.5
          ],
          [
           "East",
           2.7
          ],
          [
           "South",
           1.2
          ],
          [
           "North",
           4.7
          ],
          [
           "East",
           1.3
          ],
          [
           "West",
           2.5
          ],
          [
           "South",
           2.5
          ],
          [
           "South",
           1.6
          ],
          [
           "North",
           1.6
          ],
          [
           "East",
           2.3
          ],
          [
           "North",
           1.2
          ],
          [
           "South",
           3.5
          ],
          [
           "North",
           2.3
          ],
          [
           "West",
           2.3
          ],
          [
           "West",
           3.6
          ],
          [
           "South",
           1.1
          ],
          [
           "West",
           4.2
          ],
          [
           "East",
           2.1
          ],
          [
           "East",
           1.3
          ],
          [
           "North",
           1.4
          ],
          [
           "North",
           4.4
          ],
          [
           "North",
           1.2
          ],
          [
           "East",
           1.3
          ],
          [
           "North",
           1
          ],
          [
           "East",
           4.8
          ],
          [
           "North",
           4.5
          ],
          [
           "East",
           3.6
          ],
          [
           "South",
           2.2
          ],
          [
           "South",
           4.3
          ],
          [
           "North",
           3.5
          ],
          [
           "South",
           4.7
          ],
          [
           "South",
           2.3
          ],
          [
           "North",
           4.5
          ],
          [
           "East",
           3.3
          ],
          [
           "South",
           1.1
          ],
          [
           "East",
           2.7
          ],
          [
           "North",
           2.6
          ],
          [
           "West",
           2.9
          ],
          [
           "West",
           4.5
          ],
          [
           "West",
           2.9
          ],
          [
           "North",
           2.2
          ],
          [
           "East",
           4.4
          ],
          [
           "West",
           3.1
          ],
          [
           "West",
           4.3
          ],
          [
           "West",
           4
          ],
          [
           "West",
           4.5
          ],
          [
           "South",
           1.9
          ],
          [
           "East",
           4
          ],
          [
           "West",
           4
          ],
          [
           "East",
           4
          ],
          [
           "South",
           2.1
          ],
          [
           "West",
           1.3
          ],
          [
           "West",
           4
          ],
          [
           "West",
           1.2
          ],
          [
           "West",
           4.2
          ],
          [
           "West",
           3.2
          ],
          [
           "North",
           2.1
          ],
          [
           "West",
           2.6
          ],
          [
           "South",
           2.1
          ],
          [
           "North",
           3.1
          ],
          [
           "West",
           4.6
          ],
          [
           "South",
           1.3
          ],
          [
           "South",
           5
          ],
          [
           "East",
           4.2
          ],
          [
           "West",
           3.1
          ],
          [
           "East",
           4.4
          ],
          [
           "North",
           2.1
          ],
          [
           "North",
           1.1
          ],
          [
           "South",
           1.7
          ],
          [
           "West",
           4
          ],
          [
           "South",
           1.6
          ],
          [
           "North",
           4.3
          ],
          [
           "East",
           3
          ],
          [
           "East",
           3.4
          ],
          [
           "South",
           3
          ],
          [
           "South",
           2.8
          ],
          [
           "West",
           3.4
          ],
          [
           "East",
           3.7
          ],
          [
           "North",
           4.8
          ],
          [
           "North",
           2
          ],
          [
           "West",
           3.9
          ],
          [
           "South",
           3.8
          ],
          [
           "West",
           3.8
          ],
          [
           "East",
           3
          ],
          [
           "North",
           3.5
          ],
          [
           "West",
           3.5
          ],
          [
           "North",
           3.1
          ],
          [
           "East",
           4.7
          ],
          [
           "East",
           3.7
          ],
          [
           "South",
           4.7
          ],
          [
           "East",
           4.7
          ],
          [
           "West",
           1.8
          ],
          [
           "South",
           2.5
          ],
          [
           "West",
           2.7
          ],
          [
           "North",
           1.8
          ],
          [
           "West",
           2.6
          ],
          [
           "South",
           4.4
          ],
          [
           "East",
           1.3
          ],
          [
           "South",
           4.2
          ],
          [
           "East",
           2.4
          ],
          [
           "South",
           1.4
          ],
          [
           "West",
           1.3
          ],
          [
           "North",
           3.4
          ],
          [
           "South",
           1.8
          ],
          [
           "South",
           1.5
          ],
          [
           "South",
           1
          ],
          [
           "West",
           3
          ],
          [
           "East",
           1.3
          ],
          [
           "North",
           3.8
          ],
          [
           "West",
           3.5
          ],
          [
           "West",
           3.9
          ],
          [
           "North",
           1.2
          ],
          [
           "West",
           4
          ],
          [
           "West",
           3.3
          ],
          [
           "West",
           2.9
          ],
          [
           "North",
           3.6
          ],
          [
           "South",
           1.9
          ],
          [
           "South",
           3.1
          ],
          [
           "South",
           3.7
          ],
          [
           "West",
           2.6
          ],
          [
           "South",
           1.6
          ],
          [
           "South",
           3.1
          ],
          [
           "West",
           1.4
          ],
          [
           "South",
           2.3
          ],
          [
           "North",
           4.3
          ],
          [
           "North",
           3.1
          ],
          [
           "South",
           3.8
          ],
          [
           "South",
           4
          ],
          [
           "South",
           1.7
          ],
          [
           "East",
           3.8
          ],
          [
           "North",
           3.3
          ],
          [
           "West",
           1.5
          ],
          [
           "North",
           2.3
          ],
          [
           "North",
           2.9
          ],
          [
           "North",
           4.4
          ],
          [
           "South",
           4.6
          ],
          [
           "East",
           2.6
          ],
          [
           "South",
           4.3
          ],
          [
           "East",
           1.2
          ],
          [
           "South",
           3.5
          ],
          [
           "South",
           3.7
          ],
          [
           "South",
           4.1
          ],
          [
           "South",
           4.4
          ],
          [
           "North",
           1.5
          ],
          [
           "North",
           3.2
          ],
          [
           "North",
           4.8
          ],
          [
           "East",
           2
          ],
          [
           "East",
           1.4
          ],
          [
           "West",
           1.9
          ],
          [
           "West",
           4.5
          ],
          [
           "East",
           1.8
          ],
          [
           "North",
           2.7
          ],
          [
           "East",
           1.3
          ],
          [
           "West",
           3.1
          ],
          [
           "East",
           3.1
          ],
          [
           "South",
           4.4
          ],
          [
           "West",
           1.1
          ],
          [
           "East",
           4
          ],
          [
           "South",
           1.6
          ],
          [
           "West",
           3.5
          ],
          [
           "South",
           1.6
          ],
          [
           "West",
           2.5
          ],
          [
           "East",
           4.8
          ],
          [
           "East",
           1.8
          ],
          [
           "West",
           4.8
          ],
          [
           "West",
           4.9
          ],
          [
           "South",
           2.6
          ],
          [
           "West",
           2.8
          ],
          [
           "South",
           4.3
          ],
          [
           "West",
           1.4
          ],
          [
           "West",
           2.7
          ],
          [
           "East",
           3.5
          ],
          [
           "North",
           3.5
          ],
          [
           "South",
           4.7
          ]
         ],
         "hovertemplate": "category=Electronics<br>Customer Age=%{x}<br>Sales ($)=%{y}<br>quantity=%{marker.size}<br>region=%{customdata[0]}<br>satisfaction_score=%{customdata[1]}<extra></extra>",
         "legendgroup": "Electronics",
         "marker": {
          "color": "#EF553B",
          "size": {
           "bdata": "CgAAAAkAAAAJAAAACQAAAAsAAAALAAAAAQAAAAwAAAATAAAAEAAAAAEAAAAPAAAADwAAABIAAAASAAAAAQAAAAQAAAAFAAAAEQAAAAIAAAAHAAAABgAAABAAAAAIAAAAAgAAAA0AAAAPAAAAEQAAAAsAAAASAAAADAAAAAMAAAAMAAAACQAAAAQAAAAFAAAAAQAAAAEAAAALAAAAAgAAAA0AAAAFAAAADwAAAAYAAAASAAAACQAAAAQAAAAJAAAADQAAABMAAAANAAAAAgAAAAUAAAAIAAAABQAAAAIAAAAMAAAABwAAAAwAAAAMAAAACwAAAA8AAAATAAAACAAAABEAAAABAAAABgAAAAMAAAANAAAACgAAABAAAAAJAAAAEgAAAAgAAAADAAAAAQAAAAQAAAANAAAABQAAAAEAAAAOAAAADgAAAAQAAAADAAAACAAAAA4AAAARAAAACgAAAAIAAAANAAAADgAAAAQAAAASAAAADAAAABIAAAAJAAAADwAAABEAAAASAAAAEQAAABIAAAAIAAAACQAAAAsAAAACAAAAEQAAABMAAAAFAAAAEQAAAAoAAAALAAAACQAAABMAAAAMAAAAEAAAAAkAAAAOAAAAAwAAAAUAAAACAAAAAQAAAA0AAAAEAAAADQAAAA0AAAACAAAADAAAAAQAAAABAAAAEAAAABEAAAAMAAAAEAAAAAsAAAAIAAAACAAAAA0AAAAIAAAACQAAAAwAAAAJAAAADwAAAAkAAAAMAAAACgAAAAQAAAAPAAAACwAAAAEAAAAGAAAACQAAAA4AAAALAAAAAQAAABIAAAAOAAAAAwAAAAEAAAALAAAAEgAAABAAAAADAAAAEAAAABMAAAAGAAAADAAAABMAAAALAAAAEAAAAAQAAAASAAAACQAAAAoAAAAEAAAACwAAAAIAAAAMAAAADQAAAAoAAAATAAAAEQAAAAMAAAAEAAAACgAAAAkAAAABAAAAEQAAAAIAAAAEAAAAEwAAAAgAAAAFAAAADgAAAAkAAAAHAAAADgAAAAQAAAAPAAAAAwAAAAoAAAADAAAAEQAAAAcAAAAGAAAAEwAAAA0AAAAQAAAAEwAAAA4AAAARAAAACgAAAAEAAAATAAAADwAAAAIAAAANAAAAAQAAABIAAAALAAAACAAAAAUAAAAGAAAADQAAABAAAAAQAAAACwAAABAAAAAIAAAAAQAAAAsAAAABAAAABQAAAAEAAAACAAAABAAAAAEAAAARAAAAAgAAAAYAAAAFAAAAAwAAAAMAAAAGAAAAAwAAAAYAAAAJAAAABAAAAAIAAAATAAAAEAAAAAIAAAABAAAACgAAAAQAAAAOAAAACgAAABIAAAADAAAACgAAAA8AAAABAAAADgAAAAUAAAALAAAAAgAAAAgAAAA=",
           "dtype": "i4"
          },
          "sizemode": "area",
          "sizeref": 0.0475,
          "symbol": "circle"
         },
         "mode": "markers",
         "name": "Electronics",
         "orientation": "v",
         "showlegend": true,
         "type": "scatter",
         "x": {
          "bdata": "EgAAAEkAAABEAAAAGgAAACoAAAAtAAAAGgAAAEkAAAAmAAAAQwAAADwAAAAcAAAAHgAAABUAAAAnAAAARwAAACkAAAAtAAAAFAAAAC4AAAA+AAAANAAAABYAAAASAAAAFQAAACYAAABFAAAAKgAAAEgAAAA/AAAAPwAAAEIAAAA4AAAAMgAAADoAAABHAAAAFgAAADsAAAAUAAAAKAAAACgAAAAiAAAARwAAAEQAAAAbAAAAQAAAABwAAABIAAAARwAAACAAAAAuAAAAMwAAAB4AAABCAAAAOAAAACIAAAArAAAAFAAAACAAAAAuAAAAKwAAACoAAABKAAAAGAAAACQAAAATAAAAIAAAABQAAABGAAAAEwAAADEAAAAXAAAANQAAAEUAAAA+AAAAIwAAABMAAAAlAAAALgAAACQAAABFAAAAHAAAADAAAAAsAAAALwAAABMAAAA1AAAAGgAAADgAAAAxAAAAPQAAABQAAAArAAAAHgAAACEAAABKAAAAEwAAAC8AAAAvAAAAGwAAAD0AAAAcAAAAIAAAABMAAAAoAAAAFAAAAD4AAAAxAAAALQAAAD8AAAAsAAAAFQAAADEAAABIAAAAJQAAADIAAAAnAAAAFwAAAD8AAAAXAAAALgAAADkAAAAyAAAAGwAAACEAAAA0AAAANAAAADcAAAAfAAAAKQAAAEIAAAA1AAAAKgAAABUAAABBAAAAKAAAACkAAAA/AAAASAAAACYAAAAVAAAAJQAAADcAAAAfAAAAMQAAACgAAAAcAAAAPQAAABYAAAAqAAAARwAAABsAAAASAAAAIAAAADkAAAAlAAAAQQAAAEcAAAA3AAAALQAAAB4AAAA2AAAAQgAAACsAAAAcAAAAPAAAACcAAAA5AAAAKwAAAD8AAABJAAAALAAAACgAAAApAAAARAAAADsAAABKAAAAGQAAADAAAAAlAAAASAAAAB0AAABDAAAAQwAAABsAAABFAAAAIAAAADYAAAA2AAAAGQAAAC4AAAAvAAAASQAAADEAAAAnAAAAFQAAACMAAAA3AAAAKQAAAC0AAAAxAAAANwAAACgAAABIAAAAOwAAACcAAABBAAAAIwAAAEQAAAAgAAAAJQAAAB0AAAA9AAAAOAAAADEAAAA+AAAAMAAAAB4AAAA3AAAALQAAABkAAAAZAAAAFwAAAB8AAAAUAAAAHQAAACcAAABDAAAAQgAAAB4AAAASAAAAIAAAACkAAAA/AAAAKwAAAEAAAAAjAAAAIgAAAC8AAAA4AAAAPAAAACYAAAAaAAAAMAAAADIAAAAaAAAANAAAABwAAAAdAAAAMgAAAB8AAABEAAAAHAAAADgAAAAiAAAAOQAAACgAAAAXAAAAOgAAAEIAAABEAAAAEwAAADkAAAAkAAAALQAAACIAAAA=",
          "dtype": "i4"
         },
         "xaxis": "x",
         "y": {
          "bdata": "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",
          "dtype": "f8"
         },
         "yaxis": "y"
        },
        {
         "customdata": [
          [
           "North",
           3.1
          ],
          [
           "South",
           3.6
          ],
          [
           "East",
           1.5
          ],
          [
           "North",
           4.1
          ],
          [
           "South",
           2.3
          ],
          [
           "West",
           3.5
          ],
          [
           "South",
           2.2
          ],
          [
           "East",
           3.2
          ],
          [
           "North",
           4.2
          ],
          [
           "West",
           3.3
          ],
          [
           "West",
           4.3
          ],
          [
           "South",
           2.8
          ],
          [
           "West",
           4.9
          ],
          [
           "North",
           2.8
          ],
          [
           "West",
           2.7
          ],
          [
           "South",
           1.5
          ],
          [
           "East",
           1.7
          ],
          [
           "East",
           1.4
          ],
          [
           "South",
           4.5
          ],
          [
           "West",
           1.7
          ],
          [
           "North",
           3.7
          ],
          [
           "North",
           1.9
          ],
          [
           "South",
           3.7
          ],
          [
           "West",
           3.4
          ],
          [
           "West",
           3.5
          ],
          [
           "North",
           2.4
          ],
          [
           "South",
           2.3
          ],
          [
           "West",
           4.2
          ],
          [
           "South",
           2.9
          ],
          [
           "North",
           2.7
          ],
          [
           "South",
           1
          ],
          [
           "North",
           3.4
          ],
          [
           "West",
           1.8
          ],
          [
           "West",
           2.8
          ],
          [
           "South",
           1.3
          ],
          [
           "West",
           1.9
          ],
          [
           "South",
           2
          ],
          [
           "South",
           4.5
          ],
          [
           "North",
           1.7
          ],
          [
           "East",
           1.1
          ],
          [
           "South",
           4.3
          ],
          [
           "North",
           3.2
          ],
          [
           "West",
           1.6
          ],
          [
           "North",
           4.4
          ],
          [
           "North",
           4.8
          ],
          [
           "West",
           2.1
          ],
          [
           "South",
           1.8
          ],
          [
           "North",
           2.9
          ],
          [
           "East",
           5
          ],
          [
           "West",
           2
          ],
          [
           "West",
           1.5
          ],
          [
           "North",
           4.3
          ],
          [
           "East",
           2.8
          ],
          [
           "South",
           4.2
          ],
          [
           "South",
           4.7
          ],
          [
           "East",
           1.4
          ],
          [
           "North",
           1.7
          ],
          [
           "North",
           2.3
          ],
          [
           "South",
           2.7
          ],
          [
           "North",
           3.3
          ],
          [
           "North",
           1.2
          ],
          [
           "East",
           1.2
          ],
          [
           "South",
           3.4
          ],
          [
           "North",
           2.3
          ],
          [
           "West",
           2.7
          ],
          [
           "South",
           3.5
          ],
          [
           "East",
           3.6
          ],
          [
           "South",
           4.2
          ],
          [
           "East",
           2.8
          ],
          [
           "North",
           3.5
          ],
          [
           "West",
           5
          ],
          [
           "South",
           2.2
          ],
          [
           "South",
           4.8
          ],
          [
           "West",
           4.3
          ],
          [
           "North",
           2.9
          ],
          [
           "East",
           2.7
          ],
          [
           "West",
           1.4
          ],
          [
           "West",
           3.3
          ],
          [
           "West",
           1.1
          ],
          [
           "South",
           3
          ],
          [
           "South",
           2.7
          ],
          [
           "West",
           3.4
          ],
          [
           "West",
           1.7
          ],
          [
           "North",
           3.3
          ],
          [
           "West",
           2.4
          ],
          [
           "East",
           2.2
          ],
          [
           "East",
           2.2
          ],
          [
           "West",
           2.3
          ],
          [
           "East",
           3.7
          ],
          [
           "East",
           4.2
          ],
          [
           "East",
           1.2
          ],
          [
           "South",
           1
          ],
          [
           "North",
           4.6
          ],
          [
           "West",
           1.8
          ],
          [
           "South",
           4.6
          ],
          [
           "South",
           3
          ],
          [
           "South",
           1.7
          ],
          [
           "North",
           3.9
          ],
          [
           "South",
           2.5
          ],
          [
           "West",
           1.6
          ],
          [
           "West",
           1
          ],
          [
           "South",
           4.2
          ],
          [
           "North",
           1.6
          ],
          [
           "South",
           3.6
          ],
          [
           "East",
           4.2
          ],
          [
           "South",
           3.4
          ],
          [
           "West",
           4.1
          ],
          [
           "West",
           4.6
          ],
          [
           "East",
           2.3
          ],
          [
           "South",
           1.3
          ],
          [
           "West",
           3.7
          ],
          [
           "South",
           4.1
          ],
          [
           "West",
           1.3
          ],
          [
           "South",
           3.5
          ],
          [
           "North",
           1.9
          ],
          [
           "East",
           1.8
          ],
          [
           "East",
           3.7
          ],
          [
           "East",
           2.6
          ],
          [
           "West",
           4.2
          ],
          [
           "East",
           4.9
          ],
          [
           "West",
           2.6
          ],
          [
           "West",
           4.7
          ],
          [
           "West",
           1.6
          ],
          [
           "North",
           1.6
          ],
          [
           "South",
           2.2
          ],
          [
           "South",
           2.4
          ],
          [
           "South",
           1.9
          ],
          [
           "South",
           4.9
          ],
          [
           "West",
           5
          ],
          [
           "South",
           1.2
          ],
          [
           "East",
           2
          ],
          [
           "East",
           1.7
          ],
          [
           "North",
           1.7
          ],
          [
           "East",
           3.7
          ],
          [
           "East",
           1.5
          ],
          [
           "South",
           3.6
          ],
          [
           "East",
           4
          ],
          [
           "North",
           3.3
          ],
          [
           "West",
           2.9
          ],
          [
           "East",
           4.4
          ],
          [
           "East",
           1.3
          ],
          [
           "East",
           4.7
          ],
          [
           "East",
           1.4
          ],
          [
           "West",
           2.8
          ],
          [
           "West",
           4.5
          ],
          [
           "West",
           4.5
          ],
          [
           "South",
           1.5
          ],
          [
           "East",
           4.8
          ],
          [
           "West",
           1.7
          ],
          [
           "North",
           1.2
          ],
          [
           "East",
           2.8
          ],
          [
           "East",
           4.4
          ],
          [
           "North",
           5
          ],
          [
           "East",
           4.7
          ],
          [
           "West",
           2.3
          ],
          [
           "West",
           4.5
          ],
          [
           "South",
           2.9
          ],
          [
           "South",
           4.2
          ],
          [
           "North",
           4.9
          ],
          [
           "South",
           4.5
          ],
          [
           "West",
           3.8
          ],
          [
           "West",
           2.8
          ],
          [
           "South",
           2.6
          ],
          [
           "East",
           1.9
          ],
          [
           "West",
           4.9
          ],
          [
           "South",
           4.3
          ],
          [
           "South",
           2.9
          ],
          [
           "South",
           2.9
          ],
          [
           "South",
           2.8
          ],
          [
           "East",
           4.3
          ],
          [
           "South",
           3.5
          ],
          [
           "East",
           4.3
          ],
          [
           "North",
           2.7
          ],
          [
           "East",
           3.3
          ],
          [
           "East",
           1.8
          ],
          [
           "North",
           1.8
          ],
          [
           "East",
           2
          ],
          [
           "North",
           3.9
          ],
          [
           "North",
           4.5
          ],
          [
           "East",
           3.9
          ],
          [
           "East",
           4.6
          ],
          [
           "East",
           1.2
          ],
          [
           "South",
           2.3
          ],
          [
           "South",
           4.5
          ],
          [
           "East",
           2.9
          ],
          [
           "East",
           4.3
          ],
          [
           "South",
           1.8
          ],
          [
           "East",
           4.7
          ],
          [
           "North",
           2.2
          ],
          [
           "West",
           4.3
          ],
          [
           "South",
           4.9
          ],
          [
           "South",
           1.1
          ],
          [
           "North",
           3.5
          ],
          [
           "East",
           3.4
          ],
          [
           "North",
           2.6
          ],
          [
           "East",
           2.2
          ],
          [
           "North",
           3.1
          ],
          [
           "North",
           2.7
          ],
          [
           "West",
           2.4
          ],
          [
           "East",
           2.2
          ],
          [
           "North",
           1.8
          ],
          [
           "West",
           2.1
          ],
          [
           "North",
           1.5
          ],
          [
           "East",
           1.6
          ],
          [
           "South",
           4.3
          ],
          [
           "North",
           4.7
          ],
          [
           "South",
           2.1
          ],
          [
           "South",
           3.8
          ],
          [
           "South",
           1.4
          ],
          [
           "West",
           3.1
          ],
          [
           "West",
           1.4
          ],
          [
           "West",
           4.6
          ],
          [
           "West",
           1.5
          ],
          [
           "North",
           3.9
          ],
          [
           "West",
           1.7
          ],
          [
           "West",
           1.1
          ],
          [
           "East",
           1.5
          ],
          [
           "East",
           4.1
          ],
          [
           "West",
           2.5
          ],
          [
           "East",
           3
          ],
          [
           "East",
           2.2
          ],
          [
           "West",
           4.4
          ],
          [
           "North",
           1.2
          ],
          [
           "North",
           1.3
          ],
          [
           "East",
           2.3
          ],
          [
           "North",
           2.8
          ],
          [
           "East",
           4
          ],
          [
           "East",
           4.9
          ],
          [
           "East",
           2.6
          ],
          [
           "West",
           3.5
          ],
          [
           "East",
           4.4
          ],
          [
           "East",
           3.5
          ],
          [
           "West",
           4.5
          ],
          [
           "North",
           3.1
          ],
          [
           "North",
           2.2
          ],
          [
           "North",
           1.4
          ],
          [
           "West",
           4
          ],
          [
           "South",
           4.4
          ],
          [
           "East",
           4.4
          ],
          [
           "North",
           2.9
          ],
          [
           "North",
           2.2
          ],
          [
           "East",
           2.8
          ],
          [
           "East",
           2.8
          ],
          [
           "North",
           2.3
          ],
          [
           "West",
           2.2
          ],
          [
           "South",
           1.8
          ],
          [
           "East",
           2.6
          ]
         ],
         "hovertemplate": "category=Food<br>Customer Age=%{x}<br>Sales ($)=%{y}<br>quantity=%{marker.size}<br>region=%{customdata[0]}<br>satisfaction_score=%{customdata[1]}<extra></extra>",
         "legendgroup": "Food",
         "marker": {
          "color": "#00cc96",
          "size": {
           "bdata": "BQAAABMAAAANAAAADgAAAA0AAAAMAAAADQAAAAUAAAAIAAAADQAAABEAAAATAAAADwAAAAwAAAAJAAAAAgAAAAoAAAALAAAADQAAAA4AAAASAAAAAwAAABEAAAAJAAAABQAAAAYAAAADAAAACwAAABAAAAAEAAAABwAAABIAAAALAAAAEQAAAAEAAAAEAAAAAwAAAAsAAAANAAAACgAAAAoAAAAFAAAAAwAAABEAAAANAAAAEQAAAA0AAAAQAAAAEQAAAAIAAAANAAAACgAAABMAAAAEAAAABAAAABMAAAASAAAAEwAAAAcAAAAFAAAABAAAAAsAAAARAAAADgAAAAYAAAARAAAAEwAAABMAAAAHAAAAAwAAABEAAAAFAAAAEAAAAAIAAAADAAAABQAAAAkAAAAEAAAAAgAAAAYAAAAIAAAAAgAAAAYAAAAPAAAABwAAAAcAAAAHAAAAEQAAABMAAAATAAAADgAAAAQAAAANAAAAEgAAAAIAAAACAAAABgAAAAEAAAALAAAAEwAAAAQAAAATAAAAEAAAAAwAAAAPAAAADQAAABEAAAAPAAAAEwAAAA8AAAAQAAAACQAAABIAAAANAAAACQAAAAsAAAAEAAAADQAAAAgAAAAHAAAAAwAAAAwAAAAIAAAABAAAAAMAAAAKAAAADwAAAAYAAAARAAAACgAAAAMAAAAPAAAABgAAAAUAAAAGAAAADAAAABAAAAAEAAAADwAAABMAAAAPAAAABQAAABIAAAAHAAAADwAAAA8AAAAFAAAABgAAAA4AAAAGAAAADgAAAAYAAAANAAAAEQAAAA0AAAAGAAAACwAAAAYAAAAEAAAAAgAAAAIAAAAIAAAAAQAAAAcAAAAFAAAACAAAABAAAAAFAAAADQAAAAEAAAADAAAAAwAAABEAAAASAAAAAwAAABMAAAAHAAAADwAAABAAAAATAAAADgAAAAMAAAAPAAAAAgAAAAQAAAANAAAABQAAAAkAAAAIAAAABgAAAAMAAAAPAAAABQAAAA8AAAAQAAAAAgAAABEAAAAQAAAABgAAAAYAAAARAAAADQAAAA8AAAAEAAAAEwAAAAMAAAABAAAADgAAAAQAAAATAAAAAQAAAAgAAAADAAAAEwAAAAwAAAAKAAAAEwAAAA4AAAADAAAAEgAAABEAAAAFAAAABgAAAA4AAAAFAAAAEwAAAA8AAAAOAAAACgAAAAUAAAASAAAADAAAAAcAAAAGAAAADwAAABMAAAAQAAAACgAAAAcAAAARAAAAEwAAAAYAAAAGAAAABAAAAAEAAAASAAAAEwAAAA==",
           "dtype": "i4"
          },
          "sizemode": "area",
          "sizeref": 0.0475,
          "symbol": "circle"
         },
         "mode": "markers",
         "name": "Food",
         "orientation": "v",
         "showlegend": true,
         "type": "scatter",
         "x": {
          "bdata": "PwAAADsAAAA8AAAARwAAADYAAAA1AAAANgAAAC0AAAAjAAAAJwAAAEoAAAAgAAAAEgAAADcAAAASAAAANwAAAEEAAABCAAAAGwAAACYAAABDAAAAQAAAAB0AAAAsAAAAKQAAADUAAAA7AAAAJgAAABoAAAAXAAAAPgAAACgAAABKAAAAJwAAAEUAAABAAAAASAAAADkAAAAmAAAAPQAAADIAAAAvAAAAOwAAAEQAAAA1AAAAGgAAADsAAAAtAAAAQAAAACQAAABHAAAAKQAAABoAAAA5AAAAHgAAAEcAAAAuAAAAQAAAAEEAAABGAAAAKQAAAEIAAABCAAAARgAAAEIAAAAiAAAAPAAAAC0AAABEAAAARAAAAC4AAAAcAAAASgAAACcAAAAdAAAAIAAAABQAAAAUAAAAHwAAADwAAAAqAAAAGQAAAEEAAABFAAAANAAAAC4AAAAYAAAAGgAAAC4AAAAiAAAANgAAACcAAAA7AAAAOwAAAEcAAAAZAAAAIQAAAEMAAAAdAAAARAAAAEIAAAA3AAAAEgAAAC8AAAAeAAAANQAAAEYAAAAgAAAAKAAAABkAAAASAAAAMQAAAEkAAABDAAAAPwAAADkAAAAYAAAAHgAAABkAAAAcAAAANwAAACUAAAAdAAAAMAAAADEAAAA+AAAANAAAAEIAAABFAAAARAAAAEcAAAAvAAAAQQAAADQAAAAUAAAAGwAAACQAAAATAAAAGwAAADwAAABEAAAARwAAAEIAAAAcAAAAOgAAADoAAAAYAAAAHQAAAEMAAAAiAAAAHwAAADIAAAAgAAAAJQAAABQAAAAvAAAAEwAAAD0AAAA5AAAAJQAAAC8AAAAlAAAAGAAAAD4AAABGAAAANgAAAEAAAAAwAAAAIAAAADgAAABCAAAAIgAAACQAAAAzAAAAOQAAAEkAAAAZAAAALQAAADUAAAA2AAAAMAAAACcAAAATAAAAHAAAAD8AAAAbAAAAOQAAAD8AAABBAAAAEgAAAEgAAABJAAAAKgAAADkAAABIAAAAIgAAABoAAAAmAAAAIQAAACEAAAAXAAAAHwAAADgAAAAZAAAANwAAAEkAAAAvAAAAFAAAABQAAAA+AAAAMwAAAEoAAAAxAAAANAAAABsAAABCAAAARQAAACYAAAAlAAAAOAAAACUAAAAiAAAAMgAAAB4AAAAiAAAAPgAAABkAAABCAAAAIQAAADEAAABDAAAAIwAAAB4AAAA5AAAAIAAAAD0AAABAAAAAMQAAAB0AAAASAAAAOwAAADEAAAAmAAAANwAAADcAAAA3AAAAFQAAAA==",
          "dtype": "i4"
         },
         "xaxis": "x",
         "y": {
          "bdata": "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",
          "dtype": "f8"
         },
         "yaxis": "y"
        },
        {
         "customdata": [
          [
           "West",
           2.1
          ],
          [
           "East",
           1.6
          ],
          [
           "West",
           3.2
          ],
          [
           "West",
           1.3
          ],
          [
           "West",
           3.8
          ],
          [
           "West",
           3.1
          ],
          [
           "East",
           4.9
          ],
          [
           "West",
           4.3
          ],
          [
           "West",
           4.9
          ],
          [
           "West",
           2.5
          ],
          [
           "South",
           1.2
          ],
          [
           "South",
           4.8
          ],
          [
           "South",
           3.5
          ],
          [
           "South",
           2.6
          ],
          [
           "West",
           2.8
          ],
          [
           "West",
           3.9
          ],
          [
           "East",
           1.8
          ],
          [
           "East",
           1.2
          ],
          [
           "West",
           2.5
          ],
          [
           "West",
           1.6
          ],
          [
           "East",
           1.7
          ],
          [
           "East",
           3.2
          ],
          [
           "East",
           2.3
          ],
          [
           "South",
           4.2
          ],
          [
           "North",
           3.4
          ],
          [
           "South",
           4.6
          ],
          [
           "West",
           4.1
          ],
          [
           "West",
           1.9
          ],
          [
           "South",
           1.1
          ],
          [
           "East",
           1.5
          ],
          [
           "East",
           4
          ],
          [
           "East",
           4.6
          ],
          [
           "West",
           4.3
          ],
          [
           "North",
           1.8
          ],
          [
           "West",
           2.1
          ],
          [
           "East",
           3
          ],
          [
           "North",
           1.1
          ],
          [
           "West",
           2.9
          ],
          [
           "East",
           4.3
          ],
          [
           "North",
           4.3
          ],
          [
           "North",
           1
          ],
          [
           "East",
           3.2
          ],
          [
           "West",
           3.1
          ],
          [
           "North",
           2.8
          ],
          [
           "South",
           4.9
          ],
          [
           "North",
           3.8
          ],
          [
           "East",
           1.2
          ],
          [
           "West",
           3.7
          ],
          [
           "West",
           1.2
          ],
          [
           "South",
           1.5
          ],
          [
           "South",
           3
          ],
          [
           "East",
           1.4
          ],
          [
           "West",
           4.1
          ],
          [
           "North",
           3.9
          ],
          [
           "South",
           3.5
          ],
          [
           "West",
           3.4
          ],
          [
           "South",
           3.9
          ],
          [
           "South",
           2.5
          ],
          [
           "East",
           4.8
          ],
          [
           "South",
           4.6
          ],
          [
           "North",
           3.7
          ],
          [
           "East",
           4.1
          ],
          [
           "North",
           3.9
          ],
          [
           "North",
           1.5
          ],
          [
           "East",
           3.8
          ],
          [
           "North",
           3.4
          ],
          [
           "West",
           2.4
          ],
          [
           "South",
           3.6
          ],
          [
           "East",
           1.8
          ],
          [
           "South",
           1.3
          ],
          [
           "South",
           1.2
          ],
          [
           "South",
           3.8
          ],
          [
           "West",
           2.6
          ],
          [
           "East",
           1.5
          ],
          [
           "East",
           2.8
          ],
          [
           "West",
           3.8
          ],
          [
           "East",
           1.7
          ],
          [
           "West",
           2
          ],
          [
           "West",
           1.4
          ],
          [
           "West",
           1.2
          ],
          [
           "North",
           2.4
          ],
          [
           "North",
           1.5
          ],
          [
           "West",
           3.5
          ],
          [
           "South",
           2.2
          ],
          [
           "West",
           2
          ],
          [
           "South",
           2.3
          ],
          [
           "West",
           1.7
          ],
          [
           "East",
           2.5
          ],
          [
           "West",
           3.9
          ],
          [
           "West",
           3.2
          ],
          [
           "East",
           3.8
          ],
          [
           "East",
           4.3
          ],
          [
           "North",
           1.1
          ],
          [
           "West",
           3.6
          ],
          [
           "South",
           2.4
          ],
          [
           "South",
           3.7
          ],
          [
           "North",
           3.5
          ],
          [
           "North",
           4.2
          ],
          [
           "West",
           2.7
          ],
          [
           "West",
           1.8
          ],
          [
           "South",
           3.1
          ],
          [
           "South",
           4.7
          ],
          [
           "East",
           4.2
          ],
          [
           "West",
           4.6
          ],
          [
           "East",
           3.2
          ],
          [
           "West",
           3.7
          ],
          [
           "West",
           2
          ],
          [
           "South",
           1.7
          ],
          [
           "East",
           1.9
          ],
          [
           "East",
           2.2
          ],
          [
           "North",
           4.9
          ],
          [
           "North",
           3.6
          ],
          [
           "North",
           4.4
          ],
          [
           "East",
           4.8
          ],
          [
           "North",
           1.4
          ],
          [
           "West",
           2.9
          ],
          [
           "North",
           4.7
          ],
          [
           "South",
           2.9
          ],
          [
           "East",
           2.2
          ],
          [
           "South",
           3.4
          ],
          [
           "North",
           1.3
          ],
          [
           "North",
           1.5
          ],
          [
           "South",
           1.9
          ],
          [
           "East",
           1.3
          ],
          [
           "South",
           2.8
          ],
          [
           "North",
           2.6
          ],
          [
           "South",
           4.6
          ],
          [
           "South",
           4.4
          ],
          [
           "West",
           2.1
          ],
          [
           "North",
           1.2
          ],
          [
           "East",
           4.7
          ],
          [
           "South",
           2
          ],
          [
           "East",
           1.4
          ],
          [
           "South",
           2.1
          ],
          [
           "North",
           3.9
          ],
          [
           "East",
           3.8
          ],
          [
           "East",
           1.9
          ],
          [
           "East",
           3.5
          ],
          [
           "North",
           3.7
          ],
          [
           "East",
           4.5
          ],
          [
           "North",
           4.1
          ],
          [
           "North",
           1.1
          ],
          [
           "North",
           3.1
          ],
          [
           "South",
           4.1
          ],
          [
           "East",
           1.1
          ],
          [
           "West",
           3.2
          ],
          [
           "North",
           1.9
          ],
          [
           "West",
           4.9
          ],
          [
           "South",
           3.9
          ],
          [
           "West",
           3.9
          ],
          [
           "South",
           4
          ],
          [
           "East",
           1.2
          ],
          [
           "South",
           1.5
          ],
          [
           "West",
           2.9
          ],
          [
           "North",
           2.8
          ],
          [
           "South",
           1.5
          ],
          [
           "East",
           1.1
          ],
          [
           "West",
           4
          ],
          [
           "East",
           1.8
          ],
          [
           "North",
           4.3
          ],
          [
           "East",
           3.6
          ],
          [
           "East",
           2.6
          ],
          [
           "East",
           1.7
          ],
          [
           "North",
           1.5
          ],
          [
           "East",
           3
          ],
          [
           "South",
           4
          ],
          [
           "South",
           3.8
          ],
          [
           "West",
           3.8
          ],
          [
           "North",
           4.9
          ],
          [
           "West",
           3.1
          ],
          [
           "South",
           4
          ],
          [
           "East",
           3.9
          ],
          [
           "West",
           1.3
          ],
          [
           "North",
           2.4
          ],
          [
           "West",
           3.2
          ],
          [
           "North",
           4.4
          ],
          [
           "West",
           3.3
          ],
          [
           "West",
           3.3
          ],
          [
           "East",
           3
          ],
          [
           "East",
           2
          ],
          [
           "North",
           3.2
          ],
          [
           "South",
           2.2
          ],
          [
           "South",
           4.2
          ],
          [
           "South",
           4.2
          ],
          [
           "South",
           2.4
          ],
          [
           "West",
           3.2
          ],
          [
           "West",
           1.3
          ],
          [
           "North",
           2.9
          ],
          [
           "North",
           2.9
          ],
          [
           "South",
           4.2
          ],
          [
           "East",
           4.8
          ],
          [
           "West",
           3.5
          ],
          [
           "South",
           3
          ],
          [
           "North",
           2.3
          ],
          [
           "North",
           4
          ],
          [
           "West",
           4.4
          ],
          [
           "East",
           1.7
          ],
          [
           "West",
           4.4
          ],
          [
           "West",
           3.5
          ],
          [
           "East",
           1.8
          ],
          [
           "South",
           3.2
          ],
          [
           "South",
           4.4
          ],
          [
           "South",
           1.3
          ],
          [
           "North",
           2.4
          ],
          [
           "West",
           2.2
          ],
          [
           "South",
           4.3
          ],
          [
           "South",
           4.2
          ],
          [
           "West",
           4.2
          ],
          [
           "North",
           2.9
          ],
          [
           "West",
           1.2
          ],
          [
           "South",
           2.1
          ],
          [
           "East",
           3.9
          ],
          [
           "North",
           2
          ],
          [
           "West",
           4
          ],
          [
           "North",
           4.4
          ],
          [
           "West",
           2.3
          ],
          [
           "West",
           2.1
          ],
          [
           "North",
           2.9
          ],
          [
           "West",
           2.5
          ],
          [
           "East",
           3.9
          ],
          [
           "South",
           2.4
          ],
          [
           "South",
           3.6
          ],
          [
           "North",
           2.1
          ],
          [
           "East",
           3.7
          ],
          [
           "South",
           2.1
          ],
          [
           "South",
           1.7
          ],
          [
           "West",
           1.5
          ],
          [
           "North",
           2.3
          ],
          [
           "East",
           4.6
          ],
          [
           "East",
           4
          ],
          [
           "West",
           3.8
          ],
          [
           "East",
           3.1
          ],
          [
           "North",
           1.8
          ],
          [
           "South",
           2.1
          ],
          [
           "North",
           2.3
          ],
          [
           "North",
           3.7
          ],
          [
           "West",
           3.8
          ],
          [
           "West",
           2
          ],
          [
           "North",
           4.4
          ],
          [
           "West",
           2.5
          ],
          [
           "East",
           2.2
          ],
          [
           "East",
           3.5
          ],
          [
           "North",
           4.9
          ],
          [
           "North",
           3
          ],
          [
           "North",
           1.9
          ],
          [
           "East",
           1.1
          ],
          [
           "West",
           1.9
          ],
          [
           "West",
           2.6
          ],
          [
           "South",
           2
          ],
          [
           "West",
           4.8
          ],
          [
           "East",
           4.7
          ],
          [
           "South",
           1.2
          ],
          [
           "East",
           2.4
          ],
          [
           "North",
           2
          ],
          [
           "West",
           3.5
          ]
         ],
         "hovertemplate": "category=Clothing<br>Customer Age=%{x}<br>Sales ($)=%{y}<br>quantity=%{marker.size}<br>region=%{customdata[0]}<br>satisfaction_score=%{customdata[1]}<extra></extra>",
         "legendgroup": "Clothing",
         "marker": {
          "color": "#ab63fa",
          "size": {
           "bdata": "EQAAAAcAAAAHAAAADgAAAA0AAAAIAAAADAAAAAgAAAANAAAABwAAAAIAAAASAAAAAQAAABMAAAAPAAAABwAAAAkAAAATAAAAAgAAAAwAAAADAAAAAQAAAAMAAAANAAAACAAAAAIAAAAHAAAADwAAAAMAAAAPAAAAEQAAAAYAAAAFAAAAEAAAAAwAAAAGAAAADgAAAAsAAAATAAAAEgAAAAUAAAAFAAAADQAAAAwAAAAHAAAADwAAAAsAAAADAAAACAAAAA0AAAAPAAAACQAAAAwAAAAGAAAABgAAAAEAAAARAAAAEwAAAA8AAAAPAAAADQAAAA0AAAARAAAAEwAAAA8AAAAOAAAAEgAAAAMAAAAKAAAADAAAAA8AAAADAAAACAAAAAcAAAAHAAAABQAAAAEAAAAIAAAACAAAAAMAAAAJAAAACwAAAAMAAAANAAAAAgAAAA0AAAAGAAAAAgAAAAIAAAAJAAAADQAAAAoAAAAKAAAADgAAAA4AAAALAAAADAAAABEAAAAMAAAACQAAABIAAAAPAAAAEwAAAAEAAAABAAAABQAAABEAAAAHAAAAEgAAAAwAAAAJAAAABAAAABAAAAAJAAAABgAAAAkAAAASAAAABgAAAAEAAAALAAAAEQAAAAUAAAAOAAAABgAAAA8AAAAKAAAACQAAAAIAAAAHAAAAAQAAAAcAAAAEAAAACQAAAAEAAAAEAAAABAAAAAgAAAARAAAACgAAABMAAAALAAAACAAAAAgAAAARAAAACQAAAA8AAAAGAAAACgAAAA0AAAAQAAAACwAAAAwAAAAJAAAABAAAAAwAAAASAAAAEgAAAAsAAAACAAAADQAAAAoAAAAIAAAAEQAAAAoAAAAKAAAABAAAAAIAAAARAAAAEgAAABIAAAABAAAADQAAAA0AAAALAAAADAAAAAcAAAAEAAAABQAAAAgAAAACAAAABgAAAAUAAAAHAAAAEwAAAAQAAAAMAAAACQAAABIAAAAEAAAACgAAAAkAAAALAAAABAAAABEAAAAEAAAADwAAABEAAAAJAAAACQAAAAYAAAAGAAAAEQAAAAwAAAAQAAAADgAAAAYAAAARAAAACAAAABMAAAABAAAAAgAAAAUAAAAHAAAAEwAAABEAAAASAAAACQAAAAUAAAAPAAAACgAAAAkAAAARAAAACgAAAAcAAAAJAAAADAAAAA8AAAAPAAAABgAAAAkAAAAEAAAADQAAAAEAAAANAAAABAAAAAkAAAANAAAAEAAAAA8AAAATAAAAEQAAABIAAAAHAAAADwAAABAAAAASAAAAAwAAAAsAAAAQAAAAEAAAAAoAAAASAAAABgAAAAQAAAANAAAA",
           "dtype": "i4"
          },
          "sizemode": "area",
          "sizeref": 0.0475,
          "symbol": "circle"
         },
         "mode": "markers",
         "name": "Clothing",
         "orientation": "v",
         "showlegend": true,
         "type": "scatter",
         "x": {
          "bdata": "GQAAACIAAAAXAAAAOAAAADIAAAAjAAAAEwAAADwAAAA5AAAAIAAAABgAAAAVAAAAHwAAAEMAAABKAAAANwAAACYAAAAYAAAAJAAAAEkAAAA7AAAAKgAAAEgAAAAxAAAAQgAAADQAAAAnAAAAKAAAACEAAAAvAAAAGgAAAC4AAABAAAAAHgAAADEAAAA/AAAANgAAABcAAAAjAAAALwAAADEAAAA4AAAAPAAAADIAAAAbAAAAQwAAAEQAAAAzAAAAQQAAAB4AAAAWAAAAOAAAABIAAABGAAAAMQAAACEAAABJAAAASQAAACcAAAAhAAAAPQAAAB8AAAAkAAAAPgAAAD8AAAAvAAAAOQAAAEQAAABBAAAAGQAAAEAAAABKAAAAIAAAAEoAAABCAAAAHgAAAD4AAAAuAAAAOwAAAEcAAABIAAAAMQAAADwAAAAaAAAALQAAADAAAABJAAAAQQAAAD4AAAAtAAAAFwAAACgAAAAwAAAANQAAABwAAAA5AAAAOQAAAD4AAAArAAAAKwAAADcAAABKAAAAQAAAACYAAAAnAAAAFwAAACUAAAAdAAAANgAAACYAAAAgAAAAQQAAACoAAABJAAAASQAAABMAAABHAAAAQQAAADwAAAAsAAAAFAAAAB4AAAAmAAAAMAAAAEMAAAAxAAAAIAAAADwAAAAhAAAAFgAAACYAAAAuAAAAKgAAACQAAAAcAAAAHQAAAEMAAAAqAAAAHAAAACwAAABIAAAAIwAAAEkAAAAoAAAAFQAAACcAAAAuAAAAQwAAAEMAAAAvAAAASQAAACsAAAAeAAAAEwAAADcAAABHAAAAGQAAAC4AAAAiAAAARQAAAEgAAAAhAAAAQAAAADQAAAAlAAAARgAAAD8AAAA7AAAAPwAAAD0AAAAzAAAAJQAAACUAAAA5AAAAPQAAABwAAAAbAAAASQAAADAAAAAWAAAAKQAAADQAAAAiAAAAMAAAADsAAABKAAAAMwAAAB4AAAAiAAAAHgAAADEAAAA5AAAALAAAABoAAAA3AAAAQQAAACoAAAA5AAAAHgAAACIAAABCAAAAJAAAAB4AAABKAAAARgAAAEcAAAAhAAAAJwAAADEAAAA3AAAAFgAAACoAAAAwAAAAFQAAADUAAAAZAAAALAAAACgAAAA2AAAARwAAAC4AAAA/AAAAIgAAAEUAAABFAAAAGwAAAEYAAABKAAAAEgAAAD0AAAAzAAAASgAAAEoAAAAZAAAALAAAADwAAAAwAAAALgAAACcAAAA+AAAARAAAAEIAAAAcAAAAJgAAADgAAAAkAAAASQAAAC0AAAATAAAASAAAADYAAABEAAAARQAAACcAAAArAAAA",
          "dtype": "i4"
         },
         "xaxis": "x",
         "y": {
          "bdata": "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",
          "dtype": "f8"
         },
         "yaxis": "y"
        }
       ],
       "layout": {
        "height": 500,
        "legend": {
         "itemsizing": "constant",
         "title": {
          "text": "category"
         },
         "tracegroupgap": 0
        },
        "template": {
         "data": {
          "bar": [
           {
            "error_x": {
             "color": "#2a3f5f"
            },
            "error_y": {
             "color": "#2a3f5f"
            },
            "marker": {
             "line": {
              "color": "white",
              "width": 0.5
             },
             "pattern": {
              "fillmode": "overlay",
              "size": 10,
              "solidity": 0.2
             }
            },
            "type": "bar"
           }
          ],
          "barpolar": [
           {
            "marker": {
             "line": {
              "color": "white",
              "width": 0.5
             },
             "pattern": {
              "fillmode": "overlay",
              "size": 10,
              "solidity": 0.2
             }
            },
            "type": "barpolar"
           }
          ],
          "carpet": [
           {
            "aaxis": {
             "endlinecolor": "#2a3f5f",
             "gridcolor": "#C8D4E3",
             "linecolor": "#C8D4E3",
             "minorgridcolor": "#C8D4E3",
             "startlinecolor": "#2a3f5f"
            },
            "baxis": {
             "endlinecolor": "#2a3f5f",
             "gridcolor": "#C8D4E3",
             "linecolor": "#C8D4E3",
             "minorgridcolor": "#C8D4E3",
             "startlinecolor": "#2a3f5f"
            },
            "type": "carpet"
           }
          ],
          "choropleth": [
           {
            "colorbar": {
             "outlinewidth": 0,
             "ticks": ""
            },
            "type": "choropleth"
           }
          ],
          "contour": [
           {
            "colorbar": {
             "outlinewidth": 0,
             "ticks": ""
            },
            "colorscale": [
             [
              0,
              "#0d0887"
             ],
             [
              0.1111111111111111,
              "#46039f"
             ],
             [
              0.2222222222222222,
              "#7201a8"
             ],
             [
              0.3333333333333333,
              "#9c179e"
             ],
             [
              0.4444444444444444,
              "#bd3786"
             ],
             [
              0.5555555555555556,
              "#d8576b"
             ],
             [
              0.6666666666666666,
              "#ed7953"
             ],
             [
              0.7777777777777778,
              "#fb9f3a"
             ],
             [
              0.8888888888888888,
              "#fdca26"
             ],
             [
              1,
              "#f0f921"
             ]
            ],
            "type": "contour"
           }
          ],
          "contourcarpet": [
           {
            "colorbar": {
             "outlinewidth": 0,
             "ticks": ""
            },
            "type": "contourcarpet"
           }
          ],
          "heatmap": [
           {
            "colorbar": {
             "outlinewidth": 0,
             "ticks": ""
            },
            "colorscale": [
             [
              0,
              "#0d0887"
             ],
             [
              0.1111111111111111,
              "#46039f"
             ],
             [
              0.2222222222222222,
              "#7201a8"
             ],
             [
              0.3333333333333333,
              "#9c179e"
             ],
             [
              0.4444444444444444,
              "#bd3786"
             ],
             [
              0.5555555555555556,
              "#d8576b"
             ],
             [
              0.6666666666666666,
              "#ed7953"
             ],
             [
              0.7777777777777778,
              "#fb9f3a"
             ],
             [
              0.8888888888888888,
              "#fdca26"
             ],
             [
              1,
              "#f0f921"
             ]
            ],
            "type": "heatmap"
           }
          ],
          "histogram": [
           {
            "marker": {
             "pattern": {
              "fillmode": "overlay",
              "size": 10,
              "solidity": 0.2
             }
            },
            "type": "histogram"
           }
          ],
          "histogram2d": [
           {
            "colorbar": {
             "outlinewidth": 0,
             "ticks": ""
            },
            "colorscale": [
             [
              0,
              "#0d0887"
             ],
             [
              0.1111111111111111,
              "#46039f"
             ],
             [
              0.2222222222222222,
              "#7201a8"
             ],
             [
              0.3333333333333333,
              "#9c179e"
             ],
             [
              0.4444444444444444,
              "#bd3786"
             ],
             [
              0.5555555555555556,
              "#d8576b"
             ],
             [
              0.6666666666666666,
              "#ed7953"
             ],
             [
              0.7777777777777778,
              "#fb9f3a"
             ],
             [
              0.8888888888888888,
              "#fdca26"
             ],
             [
              1,
              "#f0f921"
             ]
            ],
            "type": "histogram2d"
           }
          ],
          "histogram2dcontour": [
           {
            "colorbar": {
             "outlinewidth": 0,
             "ticks": ""
            },
            "colorscale": [
             [
              0,
              "#0d0887"
             ],
             [
              0.1111111111111111,
              "#46039f"
             ],
             [
              0.2222222222222222,
              "#7201a8"
             ],
             [
              0.3333333333333333,
              "#9c179e"
             ],
             [
              0.4444444444444444,
              "#bd3786"
             ],
             [
              0.5555555555555556,
              "#d8576b"
             ],
             [
              0.6666666666666666,
              "#ed7953"
             ],
             [
              0.7777777777777778,
              "#fb9f3a"
             ],
             [
              0.8888888888888888,
              "#fdca26"
             ],
             [
              1,
              "#f0f921"
             ]
            ],
            "type": "histogram2dcontour"
           }
          ],
          "mesh3d": [
           {
            "colorbar": {
             "outlinewidth": 0,
             "ticks": ""
            },
            "type": "mesh3d"
           }
          ],
          "parcoords": [
           {
            "line": {
             "colorbar": {
              "outlinewidth": 0,
              "ticks": ""
             }
            },
            "type": "parcoords"
           }
          ],
          "pie": [
           {
            "automargin": true,
            "type": "pie"
           }
          ],
          "scatter": [
           {
            "fillpattern": {
             "fillmode": "overlay",
             "size": 10,
             "solidity": 0.2
            },
            "type": "scatter"
           }
          ],
          "scatter3d": [
           {
            "line": {
             "colorbar": {
              "outlinewidth": 0,
              "ticks": ""
             }
            },
            "marker": {
             "colorbar": {
              "outlinewidth": 0,
              "ticks": ""
             }
            },
            "type": "scatter3d"
           }
          ],
          "scattercarpet": [
           {
            "marker": {
             "colorbar": {
              "outlinewidth": 0,
              "ticks": ""
             }
            },
            "type": "scattercarpet"
           }
          ],
          "scattergeo": [
           {
            "marker": {
             "colorbar": {
              "outlinewidth": 0,
              "ticks": ""
             }
            },
            "type": "scattergeo"
           }
          ],
          "scattergl": [
           {
            "marker": {
             "colorbar": {
              "outlinewidth": 0,
              "ticks": ""
             }
            },
            "type": "scattergl"
           }
          ],
          "scattermap": [
           {
            "marker": {
             "colorbar": {
              "outlinewidth": 0,
              "ticks": ""
             }
            },
            "type": "scattermap"
           }
          ],
          "scattermapbox": [
           {
            "marker": {
             "colorbar": {
              "outlinewidth": 0,
              "ticks": ""
             }
            },
            "type": "scattermapbox"
           }
          ],
          "scatterpolar": [
           {
            "marker": {
             "colorbar": {
              "outlinewidth": 0,
              "ticks": ""
             }
            },
            "type": "scatterpolar"
           }
          ],
          "scatterpolargl": [
           {
            "marker": {
             "colorbar": {
              "outlinewidth": 0,
              "ticks": ""
             }
            },
            "type": "scatterpolargl"
           }
          ],
          "scatterternary": [
           {
            "marker": {
             "colorbar": {
              "outlinewidth": 0,
              "ticks": ""
             }
            },
            "type": "scatterternary"
           }
          ],
          "surface": [
           {
            "colorbar": {
             "outlinewidth": 0,
             "ticks": ""
            },
            "colorscale": [
             [
              0,
              "#0d0887"
             ],
             [
              0.1111111111111111,
              "#46039f"
             ],
             [
              0.2222222222222222,
              "#7201a8"
             ],
             [
              0.3333333333333333,
              "#9c179e"
             ],
             [
              0.4444444444444444,
              "#bd3786"
             ],
             [
              0.5555555555555556,
              "#d8576b"
             ],
             [
              0.6666666666666666,
              "#ed7953"
             ],
             [
              0.7777777777777778,
              "#fb9f3a"
             ],
             [
              0.8888888888888888,
              "#fdca26"
             ],
             [
              1,
              "#f0f921"
             ]
            ],
            "type": "surface"
           }
          ],
          "table": [
           {
            "cells": {
             "fill": {
              "color": "#EBF0F8"
             },
             "line": {
              "color": "white"
             }
            },
            "header": {
             "fill": {
              "color": "#C8D4E3"
             },
             "line": {
              "color": "white"
             }
            },
            "type": "table"
           }
          ]
         },
         "layout": {
          "annotationdefaults": {
           "arrowcolor": "#2a3f5f",
           "arrowhead": 0,
           "arrowwidth": 1
          },
          "autotypenumbers": "strict",
          "coloraxis": {
           "colorbar": {
            "outlinewidth": 0,
            "ticks": ""
           }
          },
          "colorscale": {
           "diverging": [
            [
             0,
             "#8e0152"
            ],
            [
             0.1,
             "#c51b7d"
            ],
            [
             0.2,
             "#de77ae"
            ],
            [
             0.3,
             "#f1b6da"
            ],
            [
             0.4,
             "#fde0ef"
            ],
            [
             0.5,
             "#f7f7f7"
            ],
            [
             0.6,
             "#e6f5d0"
            ],
            [
             0.7,
             "#b8e186"
            ],
            [
             0.8,
             "#7fbc41"
            ],
            [
             0.9,
             "#4d9221"
            ],
            [
             1,
             "#276419"
            ]
           ],
           "sequential": [
            [
             0,
             "#0d0887"
            ],
            [
             0.1111111111111111,
             "#46039f"
            ],
            [
             0.2222222222222222,
             "#7201a8"
            ],
            [
             0.3333333333333333,
             "#9c179e"
            ],
            [
             0.4444444444444444,
             "#bd3786"
            ],
            [
             0.5555555555555556,
             "#d8576b"
            ],
            [
             0.6666666666666666,
             "#ed7953"
            ],
            [
             0.7777777777777778,
             "#fb9f3a"
            ],
            [
             0.8888888888888888,
             "#fdca26"
            ],
            [
             1,
             "#f0f921"
            ]
           ],
           "sequentialminus": [
            [
             0,
             "#0d0887"
            ],
            [
             0.1111111111111111,
             "#46039f"
            ],
            [
             0.2222222222222222,
             "#7201a8"
            ],
            [
             0.3333333333333333,
             "#9c179e"
            ],
            [
             0.4444444444444444,
             "#bd3786"
            ],
            [
             0.5555555555555556,
             "#d8576b"
            ],
            [
             0.6666666666666666,
             "#ed7953"
            ],
            [
             0.7777777777777778,
             "#fb9f3a"
            ],
            [
             0.8888888888888888,
             "#fdca26"
            ],
            [
             1,
             "#f0f921"
            ]
           ]
          },
          "colorway": [
           "#636efa",
           "#EF553B",
           "#00cc96",
           "#ab63fa",
           "#FFA15A",
           "#19d3f3",
           "#FF6692",
           "#B6E880",
           "#FF97FF",
           "#FECB52"
          ],
          "font": {
           "color": "#2a3f5f"
          },
          "geo": {
           "bgcolor": "white",
           "lakecolor": "white",
           "landcolor": "white",
           "showlakes": true,
           "showland": true,
           "subunitcolor": "#C8D4E3"
          },
          "hoverlabel": {
           "align": "left"
          },
          "hovermode": "closest",
          "mapbox": {
           "style": "light"
          },
          "paper_bgcolor": "white",
          "plot_bgcolor": "white",
          "polar": {
           "angularaxis": {
            "gridcolor": "#EBF0F8",
            "linecolor": "#EBF0F8",
            "ticks": ""
           },
           "bgcolor": "white",
           "radialaxis": {
            "gridcolor": "#EBF0F8",
            "linecolor": "#EBF0F8",
            "ticks": ""
           }
          },
          "scene": {
           "xaxis": {
            "backgroundcolor": "white",
            "gridcolor": "#DFE8F3",
            "gridwidth": 2,
            "linecolor": "#EBF0F8",
            "showbackground": true,
            "ticks": "",
            "zerolinecolor": "#EBF0F8"
           },
           "yaxis": {
            "backgroundcolor": "white",
            "gridcolor": "#DFE8F3",
            "gridwidth": 2,
            "linecolor": "#EBF0F8",
            "showbackground": true,
            "ticks": "",
            "zerolinecolor": "#EBF0F8"
           },
           "zaxis": {
            "backgroundcolor": "white",
            "gridcolor": "#DFE8F3",
            "gridwidth": 2,
            "linecolor": "#EBF0F8",
            "showbackground": true,
            "ticks": "",
            "zerolinecolor": "#EBF0F8"
           }
          },
          "shapedefaults": {
           "line": {
            "color": "#2a3f5f"
           }
          },
          "ternary": {
           "aaxis": {
            "gridcolor": "#DFE8F3",
            "linecolor": "#A2B1C6",
            "ticks": ""
           },
           "baxis": {
            "gridcolor": "#DFE8F3",
            "linecolor": "#A2B1C6",
            "ticks": ""
           },
           "bgcolor": "white",
           "caxis": {
            "gridcolor": "#DFE8F3",
            "linecolor": "#A2B1C6",
            "ticks": ""
           }
          },
          "title": {
           "x": 0.05
          },
          "xaxis": {
           "automargin": true,
           "gridcolor": "#EBF0F8",
           "linecolor": "#EBF0F8",
           "ticks": "",
           "title": {
            "standoff": 15
           },
           "zerolinecolor": "#EBF0F8",
           "zerolinewidth": 2
          },
          "yaxis": {
           "automargin": true,
           "gridcolor": "#EBF0F8",
           "linecolor": "#EBF0F8",
           "ticks": "",
           "title": {
            "standoff": 15
           },
           "zerolinecolor": "#EBF0F8",
           "zerolinewidth": 2
          }
         }
        },
        "title": {
         "text": "Interactive Sales Analysis"
        },
        "xaxis": {
         "anchor": "y",
         "domain": [
          0,
          1
         ],
         "title": {
          "text": "Customer Age"
         }
        },
        "yaxis": {
         "anchor": "x",
         "domain": [
          0,
          1
         ],
         "title": {
          "text": "Sales ($)"
         }
        }
       }
      }
     },
     "metadata": {},
     "output_type": "display_data"
    },
    {
     "name": "stdout",
     "output_type": "stream",
     "text": [
      "✅ Interactive visualization created!\n"
     ]
    }
   ],
   "source": [
    "# Interactive Plotly visualization\n",
    "fig = px.scatter(df, \n",
    "                 x='customer_age', \n",
    "                 y='sales', \n",
    "                 color='category',\n",
    "                 size='quantity',\n",
    "                 hover_data=['region', 'satisfaction_score'],\n",
    "                 title='Interactive Sales Analysis',\n",
    "                 labels={'customer_age': 'Customer Age', 'sales': 'Sales ($)'},\n",
    "                 template='plotly_white')\n",
    "\n",
    "fig.update_layout(height=500)\n",
    "fig.show()\n",
    "\n",
    "print(\"✅ Interactive visualization created!\")"
   ]
  },
  {
   "cell_type": "markdown",
   "id": "0a876034",
   "metadata": {},
   "source": [
    "## 9. Data Aggregation & Analysis\n",
    "\n",
    "Perform common data analysis operations."
   ]
  },
  {
   "cell_type": "code",
   "execution_count": 11,
   "id": "aacfc09a",
   "metadata": {},
   "outputs": [
    {
     "name": "stdout",
     "output_type": "stream",
     "text": [
      "📊 Summary by Category and Region:\n",
      "                      sales              quantity satisfaction_score\n",
      "                        sum   mean count      sum               mean\n",
      "category    region                                                  \n",
      "Books       East   15181.00 253.02    60      606               3.00\n",
      "            North  16549.46 271.30    61      660               2.99\n",
      "            South  13032.49 260.65    50      469               2.82\n",
      "            West   17065.52 279.76    61      610               3.02\n",
      "Clothing    East   15287.55 242.66    63      625               2.87\n",
      "            North  14344.32 247.32    58      629               2.92\n",
      "            South  15270.95 254.52    60      614               3.03\n",
      "            West   20570.00 277.97    74      740               2.97\n",
      "Electronics East   16859.23 263.43    64      564               2.98\n",
      "            North  13562.91 233.84    58      597               2.91\n",
      "            South  20349.89 278.77    73      708               2.96\n",
      "            West   18416.54 259.39    71      699               3.01\n",
      "Food        East   15175.96 229.94    66      734               2.98\n",
      "            North  13984.33 254.26    55      621               2.87\n",
      "            South  15438.05 245.05    63      601               3.01\n",
      "            West   15699.67 249.20    63      614               2.97\n",
      "\n",
      "================================================================================\n",
      "\n",
      "🏆 Top 5 Products by Sales:\n",
      "product_id\n",
      "P001   54271.87\n",
      "P005   52605.27\n",
      "P004   52143.86\n",
      "P002   49103.08\n",
      "P003   48663.79\n",
      "Name: sales, dtype: float64\n",
      "\n",
      "================================================================================\n",
      "\n",
      "🔗 Correlation Matrix:\n",
      "                    sales  quantity  customer_age  satisfaction_score\n",
      "sales                1.00      0.00         -0.02                0.03\n",
      "quantity             0.00      1.00          0.03                0.04\n",
      "customer_age        -0.02      0.03          1.00                0.00\n",
      "satisfaction_score   0.03      0.04          0.00                1.00\n"
     ]
    }
   ],
   "source": [
    "# Group by category and region\n",
    "summary = df.groupby(['category', 'region']).agg({\n",
    "    'sales': ['sum', 'mean', 'count'],\n",
    "    'quantity': 'sum',\n",
    "    'satisfaction_score': 'mean'\n",
    "}).round(2)\n",
    "\n",
    "print(\"📊 Summary by Category and Region:\")\n",
    "print(summary)\n",
    "print(\"\\n\" + \"=\"*80 + \"\\n\")\n",
    "\n",
    "# Top 5 products by sales\n",
    "top_products = df.groupby('product_id')['sales'].sum().sort_values(ascending=False).head()\n",
    "print(\"🏆 Top 5 Products by Sales:\")\n",
    "print(top_products)\n",
    "print(\"\\n\" + \"=\"*80 + \"\\n\")\n",
    "\n",
    "# Correlation analysis\n",
    "numeric_cols = ['sales', 'quantity', 'customer_age', 'satisfaction_score']\n",
    "correlation = df[numeric_cols].corr()\n",
    "print(\"🔗 Correlation Matrix:\")\n",
    "print(correlation)"
   ]
  },
  {
   "cell_type": "code",
   "execution_count": 12,
   "id": "1af61081",
   "metadata": {},
   "outputs": [
    {
     "data": {
      "image/png": "[encoded data removed]",
      "text/plain": [
       "<Figure size 1000x800 with 2 Axes>"
      ]
     },
     "metadata": {},
     "output_type": "display_data"
    }
   ],
   "source": [
    "# Visualize correlation matrix\n",
    "plt.figure(figsize=(10, 8))\n",
    "sns.heatmap(correlation, annot=True, cmap='coolwarm', center=0, \n",
    "            square=True, linewidths=1, cbar_kws={\"shrink\": 0.8})\n",
    "plt.title('Correlation Heatmap', fontsize=14, fontweight='bold')\n",
    "plt.tight_layout()\n",
    "plt.show()"
   ]
  },
  {
   "cell_type": "markdown",
   "id": "40b34211",
   "metadata": {},
   "source": [
    "## 10. Summary & Next Steps\n",
    "\n",
    "Your data science workspace is now fully configured! 🎉\n",
    "\n",
    "### What's Set Up:\n",
    "- ✅ Essential libraries imported (NumPy, Pandas, Matplotlib, Seaborn, Plotly)\n",
    "- ✅ Directory structure created\n",
    "- ✅ Display and visualization settings configured\n",
    "- ✅ Sample dataset created and analyzed\n",
    "- ✅ Example visualizations and analysis completed\n",
    "\n",
    "### Next Steps:\n",
    "1. **Import Your Own Data**: Replace the sample data with your actual datasets\n",
    "2. **Explore Data Wrangler**: Right-click on CSV files to open with Data Wrangler extension\n",
    "3. **Create Analysis Notebooks**: Copy this notebook as a template for your analyses\n",
    "4. **Install Additional Packages**: Add packages to `requirements-datascience.txt` as needed\n",
    "5. **Integrate with DBT**: Use processed data in your DBT models\n",
    "\n",
    "### Useful Commands:\n",
    "```python\n",
    "# Load CSV file\n",
    "df = pd.read_csv('path/to/your/file.csv')\n",
    "\n",
    "# Load Excel file\n",
    "df = pd.read_excel('path/to/your/file.xlsx')\n",
    "\n",
    "# Save processed data\n",
    "df.to_csv(PROCESSED_DATA_DIR / 'cleaned_data.csv', index=False)\n",
    "```\n",
    "\n",
    "### Resources:\n",
    "- [Pandas Documentation](https://pandas.pydata.org/docs/)\n",
    "- [Matplotlib Gallery](https://matplotlib.org/stable/gallery/index.html)\n",
    "- [Seaborn Tutorial](https://seaborn.pydata.org/tutorial.html)\n",
    "- [Plotly Documentation](https://plotly.com/python/)"
   ]
  }
 ],
 "metadata": {
  "kernelspec": {
   "display_name": "Python 3",
   "language": "python",
   "name": "python3"
  },
  "language_info": {
   "codemirror_mode": {
    "name": "ipython",
    "version": 3
   },
   "file_extension": ".py",
   "mimetype": "text/x-python",
   "name": "python",
   "nbconvert_exporter": "python",
   "pygments_lexer": "ipython3",
   "version": "3.11.9"
  }
 },
 "nbformat": 4,
 "nbformat_minor": 5
}
