{
 "cells": [
  {
   "cell_type": "markdown",
   "id": "dae38880",
   "metadata": {},
   "source": [
    "# NYC School Demographics Deep Dive 🏫\n",
    "\n",
    "**Dataset:** 440 schools with 343 demographic columns  \n",
    "**Goal:** Discover what factors correlate with school performance  \n",
    "**Created:** October 6, 2025\n",
    "\n",
    "## What We'll Explore\n",
    "1. What's in the 343 columns?\n",
    "2. Programs and offerings\n",
    "3. School characteristics\n",
    "4. Diversity and enrollment\n",
    "5. Facilities and resources\n",
    "6. **Correlations with SAT scores**"
   ]
  },
  {
   "cell_type": "code",
   "execution_count": 1,
   "id": "171d29ec",
   "metadata": {},
   "outputs": [
    {
     "name": "stdout",
     "output_type": "stream",
     "text": [
      "✅ Setup complete!\n"
     ]
    }
   ],
   "source": [
    "# Setup\n",
    "import sys\n",
    "from pathlib import Path\n",
    "\n",
    "project_root = Path.cwd().parent if Path.cwd().name == 'notebooks' else Path.cwd()\n",
    "sys.path.append(str(project_root))\n",
    "\n",
    "import warnings\n",
    "\n",
    "import matplotlib.pyplot as plt\n",
    "import numpy as np\n",
    "import pandas as pd\n",
    "import seaborn as sns\n",
    "\n",
    "from scripts.utils import load_csv\n",
    "\n",
    "%matplotlib inline\n",
    "warnings.filterwarnings('ignore')\n",
    "pd.set_option('display.max_columns', 100)\n",
    "pd.set_option('display.max_rows', 100)\n",
    "pd.set_option('display.max_colwidth', 50)\n",
    "sns.set_style('whitegrid')\n",
    "\n",
    "print(\"✅ Setup complete!\")"
   ]
  },
  {
   "cell_type": "markdown",
   "id": "f4546b59",
   "metadata": {},
   "source": [
    "## 1. Load Data"
   ]
  },
  {
   "cell_type": "code",
   "execution_count": 2,
   "id": "b3a49726",
   "metadata": {},
   "outputs": [
    {
     "name": "stdout",
     "output_type": "stream",
     "text": [
      "📊 Demographics: (440, 343)\n",
      "📊 SAT Scores: (460, 7)\n",
      "\n",
      "✅ Total columns to explore: 343\n"
     ]
    }
   ],
   "source": [
    "# Load demographics\n",
    "demo = load_csv(\"s3k6-pzi2_20251006_114239.csv\")\n",
    "\n",
    "# Load SAT scores\n",
    "sat = load_csv(\"zt9s-n5aj_20251006_114228.csv\")\n",
    "\n",
    "# Convert SAT scores to numeric\n",
    "for col in ['mathematics_mean', 'critical_reading_mean', 'writing_mean', 'number_of_test_takers']:\n",
    "    sat[col] = pd.to_numeric(sat[col], errors='coerce')\n",
    "sat['total_score'] = sat['mathematics_mean'] + sat['critical_reading_mean'] + sat['writing_mean']\n",
    "\n",
    "print(f\"📊 Demographics: {demo.shape}\")\n",
    "print(f\"📊 SAT Scores: {sat.shape}\")\n",
    "print(f\"\\n✅ Total columns to explore: {len(demo.columns)}\")"
   ]
  },
  {
   "cell_type": "markdown",
   "id": "a645ee40",
   "metadata": {},
   "source": [
    "## 2. Column Discovery - What's in the 343 Columns?"
   ]
  },
  {
   "cell_type": "code",
   "execution_count": 3,
   "id": "c26e569b",
   "metadata": {},
   "outputs": [
    {
     "name": "stdout",
     "output_type": "stream",
     "text": [
      "📋 ALL 343 COLUMNS:\n",
      "\n",
      "['dbn', 'school_name', 'boro', 'overview_paragraph', 'school_10th_seats', 'academicopportunities1', 'academicopportunities2', 'ell_programs', 'neighborhood', 'building_code', 'location', 'phone_number', 'fax_number', 'school_email', 'website', 'subway', 'bus', 'grades2018', 'finalgrades', 'total_students', 'extracurricular_activities', 'school_sports', 'attendance_rate', 'pct_stu_enough_variety', 'pct_stu_safe', 'school_accessibility_description', 'directions1', 'requirement1_1', 'requirement2_1', 'requirement3_1', 'requirement4_1', 'requirement5_1', 'offer_rate1', 'program1', 'code1', 'interest1', 'method1', 'seats9ge1', 'grade9gefilledflag1', 'grade9geapplicants1', 'seats9swd1', 'grade9swdfilledflag1', 'grade9swdapplicants1', 'seats101', 'admissionspriority11', 'admissionspriority21', 'admissionspriority31', 'grade9geapplicantsperseat1', 'grade9swdapplicantsperseat1', 'primary_address_line_1', 'city', 'zip', 'state_code', 'latitude', 'longitude', 'community_board', 'council_district', 'census_tract', 'bin', 'bbl', 'nta', 'borough', 'academicopportunities3', 'language_classes', 'addtl_info1', 'transfer', 'eligibility1', 'academicopportunities4', 'academicopportunities5', 'diplomaendorsements', 'shared_space', 'start_time', 'end_time', 'psal_sports_boys', 'psal_sports_girls', 'psal_sports_coed', 'graduation_rate', 'college_career_rate', 'girls', 'advancedplacement_courses', 'campus_name', 'prgdesc1', 'admissionspriority41', 'pbat', 'international', 'program2', 'code2', 'interest2', 'method2', 'seats9ge2', 'grade9gefilledflag2', 'grade9geapplicants2', 'seats9swd2', 'grade9swdfilledflag2', 'grade9swdapplicants2', 'seats102', 'eligibility2', 'grade9geapplicantsperseat2', 'grade9swdapplicantsperseat2', 'prgdesc2', 'prgdesc3', 'requirement1_2', 'requirement2_2', 'requirement3_2', 'offer_rate2', 'program3', 'code3', 'interest3', 'method3', 'seats9ge3', 'grade9gefilledflag3', 'grade9geapplicants3', 'seats9swd3', 'grade9swdfilledflag3', 'grade9swdapplicants3', 'seats103', 'admissionspriority12', 'admissionspriority13', 'admissionspriority22', 'grade9geapplicantsperseat3', 'grade9swdapplicantsperseat3', 'admissionspriority32', 'prgdesc4', 'prgdesc5', 'prgdesc6', 'requirement1_3', 'requirement1_4', 'requirement1_5', 'requirement1_6', 'requirement2_3', 'requirement2_4', 'requirement2_5', 'requirement2_6', 'requirement3_3', 'requirement3_4', 'requirement3_5', 'requirement3_6', 'requirement4_2', 'requirement4_3', 'requirement4_4', 'requirement4_5', 'requirement4_6', 'program4', 'program5', 'program6', 'code4', 'code5', 'code6', 'interest4', 'interest5', 'interest6', 'method4', 'method5', 'method6', 'seats9ge4', 'seats9ge5', 'seats9ge6', 'grade9gefilledflag4', 'grade9gefilledflag5', 'grade9gefilledflag6', 'grade9geapplicants4', 'grade9geapplicants5', 'grade9geapplicants6', 'seats9swd4', 'seats9swd5', 'seats9swd6', 'grade9swdfilledflag4', 'grade9swdfilledflag5', 'grade9swdfilledflag6', 'grade9swdapplicants4', 'grade9swdapplicants5', 'grade9swdapplicants6', 'seats104', 'seats105', 'seats106', 'admissionspriority14', 'admissionspriority15', 'admissionspriority16', 'auditioninformation1', 'auditioninformation2', 'auditioninformation3', 'auditioninformation4', 'auditioninformation5', 'auditioninformation6', 'grade9geapplicantsperseat4', 'grade9geapplicantsperseat5', 'grade9geapplicantsperseat6', 'grade9swdapplicantsperseat4', 'grade9swdapplicantsperseat5', 'grade9swdapplicantsperseat6', 'earlycollege', 'admissionspriority51', 'admissionspriority61', 'offer_rate3', 'offer_rate4', 'admissionspriority23', 'admissionspriority24', 'ptech', 'offer_rate5', 'offer_rate6', 'program7', 'code7', 'interest7', 'method7', 'seats9ge7', 'grade9gefilledflag7', 'grade9geapplicants7', 'seats9swd7', 'grade9swdfilledflag7', 'grade9swdapplicants7', 'seats107', 'admissionspriority17', 'admissionspriority25', 'admissionspriority26', 'admissionspriority34', 'admissionspriority44', 'grade9geapplicantsperseat7', 'grade9swdapplicantsperseat7', 'boys', 'directions2', 'requirement5_2', 'prgdesc7', 'directions7', 'requirement1_7', 'program8', 'code8', 'interest8', 'method8', 'seats9ge8', 'grade9gefilledflag8', 'grade9geapplicants8', 'seats9swd8', 'grade9swdfilledflag8', 'grade9swdapplicants8', 'seats108', 'admissionspriority18', 'grade9geapplicantsperseat8', 'grade9swdapplicantsperseat8', 'common_audition1', 'geoeligibility', 'specialized', 'seats1specialized', 'applicants1specialized', 'appperseat1specialized', 'admissionspriority42', 'admissionspriority52', 'common_audition4', 'common_audition5', 'requirement5_3', 'requirement6_3', 'requirement2_7', 'requirement3_7', 'admissionspriority71', 'eligibility3', 'admissionspriority35', 'requirement6_2', 'requirement5_4', 'common_audition2', 'directions3', 'directions4', 'admissionspriority33', 'admissionspriority36', 'admissionspriority46', 'admissionspriority56', 'common_audition3', 'prgdesc8', 'admissionspriority27', 'admissionspriority37', 'admissionspriority54', 'admissionspriority64', 'admissionspriority74', 'requirement6_1', 'eligibility4', 'requirement4_7', 'requirement5_5', 'eligibility5', 'eligibility6', 'eligibility7', 'auditioninformation7', 'common_audition6', 'common_audition7', 'prgdesc9', 'prgdesc10', 'requirement1_8', 'requirement2_8', 'requirement3_8', 'offer_rate7', 'offer_rate8', 'offer_rate9', 'program9', 'program10', 'code9', 'code10', 'interest9', 'interest10', 'method9', 'method10', 'seats9ge9', 'seats9ge10', 'grade9gefilledflag9', 'grade9gefilledflag10', 'grade9geapplicants9', 'grade9geapplicants10', 'seats9swd9', 'seats9swd10', 'grade9swdfilledflag9', 'grade9swdfilledflag10', 'grade9swdapplicants9', 'grade9swdapplicants10', 'seats109', 'seats1010', 'admissionspriority19', 'admissionspriority110', 'admissionspriority28', 'admissionspriority29', 'grade9geapplicantsperseat9', 'grade9geapplicantsperseat10', 'grade9swdapplicantsperseat9', 'grade9swdapplicantsperseat10', 'admissionspriority43', 'directions5', 'directions6', 'requirement5_6', 'seats2specialized', 'seats3specialized', 'seats4specialized', 'seats5specialized', 'seats6specialized', 'applicants2specialized', 'applicants3specialized', 'applicants4specialized', 'applicants5specialized', 'applicants6specialized', 'appperseat2specialized', 'appperseat3specialized', 'appperseat4specialized', 'appperseat5specialized', 'appperseat6specialized', 'admissionspriority53', 'admissionspriority62', 'admissionspriority63', 'requirement5_7', 'requirement6_7']\n"
     ]
    }
   ],
   "source": [
    "# Categorize columns by type\n",
    "print(\"📋 ALL 343 COLUMNS:\\n\")\n",
    "print(demo.columns.tolist())"
   ]
  },
  {
   "cell_type": "code",
   "execution_count": 4,
   "id": "208bdca3",
   "metadata": {},
   "outputs": [
    {
     "name": "stdout",
     "output_type": "stream",
     "text": [
      "🗂️ COLUMNS BY CATEGORY:\n",
      "\n",
      "\n",
      "Programs (72 columns):\n",
      "  • overview_paragraph\n",
      "  • ell_programs\n",
      "  • program1\n",
      "  • grade9geapplicants1\n",
      "  • grade9swdapplicants1\n",
      "  • grade9geapplicantsperseat1\n",
      "  • grade9swdapplicantsperseat1\n",
      "  • language_classes\n",
      "  • program2\n",
      "  • grade9geapplicants2\n",
      "  ... and 62 more\n",
      "\n",
      "Enrollment (63 columns):\n",
      "  • grades2018\n",
      "  • finalgrades\n",
      "  • total_students\n",
      "  • grade9gefilledflag1\n",
      "  • grade9geapplicants1\n",
      "  • grade9swdfilledflag1\n",
      "  • grade9swdapplicants1\n",
      "  • grade9geapplicantsperseat1\n",
      "  • grade9swdapplicantsperseat1\n",
      "  • grade9gefilledflag2\n",
      "  ... and 53 more\n",
      "\n",
      "Location (6 columns):\n",
      "  • boro\n",
      "  • neighborhood\n",
      "  • location\n",
      "  • primary_address_line_1\n",
      "  • zip\n",
      "  • borough\n",
      "\n",
      "Contact (4 columns):\n",
      "  • phone_number\n",
      "  • fax_number\n",
      "  • school_email\n",
      "  • website\n",
      "\n",
      "Academic (6 columns):\n",
      "  • academicopportunities1\n",
      "  • academicopportunities2\n",
      "  • academicopportunities3\n",
      "  • academicopportunities4\n",
      "  • academicopportunities5\n",
      "  • graduation_rate\n",
      "\n",
      "Activities (5 columns):\n",
      "  • extracurricular_activities\n",
      "  • school_sports\n",
      "  • psal_sports_boys\n",
      "  • psal_sports_girls\n",
      "  • psal_sports_coed\n",
      "\n",
      "Overview (44 columns):\n",
      "  • overview_paragraph\n",
      "  • school_accessibility_description\n",
      "  • admissionspriority11\n",
      "  • admissionspriority21\n",
      "  • admissionspriority31\n",
      "  • admissionspriority41\n",
      "  • admissionspriority12\n",
      "  • admissionspriority13\n",
      "  • admissionspriority22\n",
      "  • admissionspriority32\n",
      "  ... and 34 more\n"
     ]
    }
   ],
   "source": [
    "# Find interesting column groups\n",
    "column_keywords = {\n",
    "    'Programs': ['program', 'language', 'ap', 'ell', 'gifted', 'special'],\n",
    "    'Facilities': ['facility', 'library', 'gym', 'lab', 'classroom'],\n",
    "    'Demographics': ['race', 'ethnicity', 'gender', 'poverty', 'economic'],\n",
    "    'Enrollment': ['enrollment', 'student', 'grade', 'capacity'],\n",
    "    'Location': ['address', 'borough', 'zip', 'neighborhood', 'location', 'boro'],\n",
    "    'Contact': ['phone', 'email', 'website', 'fax'],\n",
    "    'Academic': ['academic', 'performance', 'regents', 'test', 'graduation'],\n",
    "    'Activities': ['sport', 'athletic', 'club', 'extracurricular', 'activity'],\n",
    "    'Staff': ['teacher', 'principal', 'staff', 'admin'],\n",
    "    'Overview': ['overview', 'description', 'about', 'mission']\n",
    "}\n",
    "\n",
    "categorized_columns = {}\n",
    "for category, keywords in column_keywords.items():\n",
    "    cols = [col for col in demo.columns if any(kw in col.lower() for kw in keywords)]\n",
    "    if cols:\n",
    "        categorized_columns[category] = cols\n",
    "\n",
    "print(\"🗂️ COLUMNS BY CATEGORY:\\n\")\n",
    "for category, cols in categorized_columns.items():\n",
    "    print(f\"\\n{category} ({len(cols)} columns):\")\n",
    "    for col in cols[:10]:  # Show first 10\n",
    "        print(f\"  • {col}\")\n",
    "    if len(cols) > 10:\n",
    "        print(f\"  ... and {len(cols) - 10} more\")"
   ]
  },
  {
   "cell_type": "markdown",
   "id": "fd21c92c",
   "metadata": {},
   "source": [
    "## 3. Merge with SAT Scores"
   ]
  },
  {
   "cell_type": "code",
   "execution_count": 5,
   "id": "ee0dadd6",
   "metadata": {},
   "outputs": [
    {
     "name": "stdout",
     "output_type": "stream",
     "text": [
      "✅ Merged dataset: (335, 349)\n",
      "   Schools with both SAT and demographics: 335\n",
      "   Total columns available: 349\n"
     ]
    }
   ],
   "source": [
    "# Merge datasets\n",
    "merged = sat.merge(demo, on='dbn', how='inner', suffixes=('_sat', '_demo'))\n",
    "\n",
    "print(f\"✅ Merged dataset: {merged.shape}\")\n",
    "print(f\"   Schools with both SAT and demographics: {len(merged)}\")\n",
    "print(f\"   Total columns available: {len(merged.columns)}\")"
   ]
  },
  {
   "cell_type": "markdown",
   "id": "8d8cc9e3",
   "metadata": {},
   "source": [
    "## 4. Explore Key Demographics"
   ]
  },
  {
   "cell_type": "code",
   "execution_count": 6,
   "id": "06f1f8b1",
   "metadata": {},
   "outputs": [
    {
     "name": "stdout",
     "output_type": "stream",
     "text": [
      "📝 SCHOOL OVERVIEWS (sample):\n",
      "\n",
      "\n",
      "============================================================\n",
      "School: Clinton School Writers & Artists, M.S. 260\n",
      "============================================================\n",
      "Students who are prepared for college must have an education that encourages them to take risks as they produce and perform. Our college preparatory curriculum develops writers and has built a tight-knit community. Our school develops students who can think analytically and write creatively. Our arts programming builds on our 25 years of experience in visual, performing arts and music on a middle school level. We partner with New Audience and the Whitney Museum as cultural partners. We are a Int\n",
      "...\n",
      "\n",
      "============================================================\n",
      "School: Liberation Diploma Plus High School\n",
      "============================================================\n",
      "The mission of Liberation Diploma Plus High School, in partnership with CAMBA, is to develop the student academically, socially, and emotionally. We will equip students with the skills needed to evaluate their options so that they can make informed and appropriate choices and create personal goals for success. Our year-round model (trimesters plus summer school) provides students the opportunity to gain credits and attain required graduation competencies at an accelerated rate. Our partners offe\n",
      "...\n",
      "\n",
      "============================================================\n",
      "School: Women's Academy of Excellence\n",
      "============================================================\n",
      "The WomenÂ’s Academy of Excellence is an all-girls public high school, serving grades 9-12. Our mission is to create a community of lifelong learners, to nurture the intellectual curiosity and creativity of young women and to address their developmental needs. The school community cultivates dynamic, participatory learning, enabling students to achieve academic success at many levels, especially in the fields of math, science, and civic responsibility. Our scholars are exposed to a challenging c\n",
      "...\n"
     ]
    }
   ],
   "source": [
    "# Check overview paragraph\n",
    "if 'overview_paragraph' in demo.columns:\n",
    "    print(\"📝 SCHOOL OVERVIEWS (sample):\\n\")\n",
    "    for idx, row in demo.head(3).iterrows():\n",
    "        print(f\"\\n{'='*60}\")\n",
    "        print(f\"School: {row['school_name']}\")\n",
    "        print(f\"{'='*60}\")\n",
    "        overview = str(row['overview_paragraph'])[:500]\n",
    "        print(overview)\n",
    "        if len(str(row['overview_paragraph'])) > 500:\n",
    "            print(\"...\")"
   ]
  },
  {
   "cell_type": "code",
   "execution_count": 7,
   "id": "685ce010",
   "metadata": {},
   "outputs": [
    {
     "name": "stdout",
     "output_type": "stream",
     "text": [
      "🎓 PROGRAMS DATA (72 columns):\n",
      "\n",
      "\n",
      "overview_paragraph:\n",
      "  • Founded by the Asia Society, our school helps students acquire the knowledge and skills needed to pr\n",
      "  • We are a small, inclusive school guided by 4 pillars: Honor, Excellence, Curiosity, and Celebration.\n",
      "  • We are a small college preparatory school that takes pride in our engaging and challenging curriculu\n",
      "\n",
      "ell_programs:\n",
      "  • English as a New Language\n",
      "  • English as a New Language\n",
      "  • English as a New Language\n",
      "\n",
      "program1:\n",
      "  • Orchard Collegiate Academy\n",
      "  • University Neighborhood High School\n",
      "  • East Side Community\n",
      "\n",
      "grade9geapplicants1:\n",
      "  Mean: 825.14\n",
      "  Range: 46 - 5899\n",
      "\n",
      "grade9swdapplicants1:\n",
      "  Mean: 120.64\n",
      "  Range: 9 - 625\n"
     ]
    }
   ],
   "source": [
    "# Explore programs\n",
    "program_cols = [col for col in categorized_columns.get('Programs', []) if col in merged.columns]\n",
    "\n",
    "if program_cols:\n",
    "    print(f\"🎓 PROGRAMS DATA ({len(program_cols)} columns):\\n\")\n",
    "    for col in program_cols[:5]:\n",
    "        print(f\"\\n{col}:\")\n",
    "        if merged[col].dtype == 'object':\n",
    "            # Show sample text data\n",
    "            sample = merged[col].dropna().head(3)\n",
    "            for val in sample:\n",
    "                print(f\"  • {str(val)[:100]}\")\n",
    "        else:\n",
    "            # Show numeric summary\n",
    "            print(f\"  Mean: {merged[col].mean():.2f}\")\n",
    "            print(f\"  Range: {merged[col].min():.0f} - {merged[col].max():.0f}\")"
   ]
  },
  {
   "cell_type": "markdown",
   "id": "e750be8f",
   "metadata": {},
   "source": [
    "## 5. Numeric Columns - Find Correlations with SAT Scores"
   ]
  },
  {
   "cell_type": "code",
   "execution_count": 8,
   "id": "15f3238f",
   "metadata": {},
   "outputs": [
    {
     "name": "stdout",
     "output_type": "stream",
     "text": [
      "🔢 Found 111 numeric columns (excluding SAT scores)\n",
      "\n",
      "🔝 TOP 20 FACTORS POSITIVELY CORRELATED WITH SAT SCORES:\n",
      "\n",
      "grade9swdapplicants8                                        : +1.000\n",
      "grade9geapplicantsperseat8                                  : +1.000\n",
      "grade9swdapplicantsperseat8                                 : +1.000\n",
      "grade9geapplicants8                                         : +1.000\n",
      "college_career_rate                                         : +0.729\n",
      "grade9geapplicants1                                         : +0.681\n",
      "grade9geapplicantsperseat3                                  : +0.618\n",
      "grade9geapplicantsperseat7                                  : +0.613\n",
      "graduation_rate                                             : +0.606\n",
      "grade9geapplicants3                                         : +0.593\n",
      "grade9swdapplicantsperseat5                                 : +0.586\n",
      "grade9geapplicantsperseat6                                  : +0.585\n",
      "attendance_rate                                             : +0.574\n",
      "grade9geapplicantsperseat1                                  : +0.559\n",
      "grade9swdapplicantsperseat6                                 : +0.534\n",
      "grade9geapplicantsperseat5                                  : +0.526\n",
      "grade9geapplicantsperseat2                                  : +0.519\n",
      "grade9geapplicants2                                         : +0.519\n",
      "applicants1specialized                                      : +0.507\n",
      "grade9geapplicantsperseat4                                  : +0.495\n",
      "\n",
      "🔻 TOP 20 FACTORS NEGATIVELY CORRELATED WITH SAT SCORES:\n",
      "\n",
      "grade9swdapplicants4                                        : +0.153\n",
      "grade9swdapplicantsperseat1                                 : +0.141\n",
      "seats9ge4                                                   : +0.106\n",
      "census_tract                                                : +0.077\n",
      "seats9ge6                                                   : +0.070\n",
      "bin                                                         : +0.061\n",
      "bbl                                                         : +0.051\n",
      "seats9swd6                                                  : -0.031\n",
      "community_board                                             : -0.047\n",
      "council_district                                            : -0.050\n",
      "seats9swd4                                                  : -0.051\n",
      "zip                                                         : -0.063\n",
      "longitude                                                   : -0.158\n",
      "latitude                                                    : -0.168\n",
      "appperseat1specialized                                      : -0.222\n",
      "seats9swd7                                                  : -0.336\n",
      "seats9ge7                                                   : -0.340\n",
      "grade9swdapplicants7                                        : -0.419\n",
      "seats9swd8                                                  : -1.000\n",
      "seats9ge8                                                   : -1.000\n"
     ]
    }
   ],
   "source": [
    "# Get all numeric columns\n",
    "numeric_cols = merged.select_dtypes(include=[np.number]).columns.tolist()\n",
    "\n",
    "# Remove SAT score columns from correlation analysis\n",
    "exclude_cols = ['mathematics_mean', 'critical_reading_mean', 'writing_mean', 'total_score', 'number_of_test_takers']\n",
    "numeric_cols = [col for col in numeric_cols if col not in exclude_cols]\n",
    "\n",
    "print(f\"🔢 Found {len(numeric_cols)} numeric columns (excluding SAT scores)\")\n",
    "\n",
    "# Calculate correlations with total_score\n",
    "if numeric_cols:\n",
    "    correlations = merged[numeric_cols].corrwith(merged['total_score']).sort_values(ascending=False)\n",
    "    \n",
    "    # Remove NaN values\n",
    "    correlations = correlations.dropna()\n",
    "    \n",
    "    print(f\"\\n🔝 TOP 20 FACTORS POSITIVELY CORRELATED WITH SAT SCORES:\\n\")\n",
    "    for col, corr in correlations.head(20).items():\n",
    "        print(f\"{col[:60]:60s}: {corr:+.3f}\")\n",
    "    \n",
    "    print(f\"\\n🔻 TOP 20 FACTORS NEGATIVELY CORRELATED WITH SAT SCORES:\\n\")\n",
    "    for col, corr in correlations.tail(20).items():\n",
    "        print(f\"{col[:60]:60s}: {corr:+.3f}\")"
   ]
  },
  {
   "cell_type": "code",
   "execution_count": 9,
   "id": "e881636e",
   "metadata": {},
   "outputs": [
    {
     "data": {
      "image/png": "[encoded data removed]",
      "text/plain": [
       "<Figure size 1600x800 with 2 Axes>"
      ]
     },
     "metadata": {},
     "output_type": "display_data"
    },
    {
     "name": "stdout",
     "output_type": "stream",
     "text": [
      "\n",
      "✅ Visualization complete!\n"
     ]
    }
   ],
   "source": [
    "# Visualize top correlations\n",
    "if len(correlations) > 0:\n",
    "    fig, axes = plt.subplots(1, 2, figsize=(16, 8))\n",
    "    \n",
    "    # Top 15 positive correlations\n",
    "    top_positive = correlations.head(15)\n",
    "    axes[0].barh(range(len(top_positive)), top_positive.values, color='green', alpha=0.7)\n",
    "    axes[0].set_yticks(range(len(top_positive)))\n",
    "    axes[0].set_yticklabels([col[:40] for col in top_positive.index], fontsize=9)\n",
    "    axes[0].set_xlabel('Correlation with SAT Score', fontsize=12)\n",
    "    axes[0].set_title('Top 15 Positive Correlations', fontsize=14, fontweight='bold')\n",
    "    axes[0].grid(axis='x', alpha=0.3)\n",
    "    axes[0].invert_yaxis()\n",
    "    \n",
    "    # Top 15 negative correlations\n",
    "    top_negative = correlations.tail(15)\n",
    "    axes[1].barh(range(len(top_negative)), top_negative.values, color='red', alpha=0.7)\n",
    "    axes[1].set_yticks(range(len(top_negative)))\n",
    "    axes[1].set_yticklabels([col[:40] for col in top_negative.index], fontsize=9)\n",
    "    axes[1].set_xlabel('Correlation with SAT Score', fontsize=12)\n",
    "    axes[1].set_title('Top 15 Negative Correlations', fontsize=14, fontweight='bold')\n",
    "    axes[1].grid(axis='x', alpha=0.3)\n",
    "    axes[1].invert_yaxis()\n",
    "    \n",
    "    plt.tight_layout()\n",
    "    plt.show()\n",
    "    \n",
    "    print(\"\\n✅ Visualization complete!\")"
   ]
  },
  {
   "cell_type": "markdown",
   "id": "369ac6d1",
   "metadata": {},
   "source": [
    "## 6. Text Analysis - Programs and Offerings"
   ]
  },
  {
   "cell_type": "code",
   "execution_count": 10,
   "id": "3aeafeaf",
   "metadata": {},
   "outputs": [
    {
     "name": "stdout",
     "output_type": "stream",
     "text": [
      "📚 TEXT COLUMNS ABOUT PROGRAMS (22 columns):\n",
      "\n",
      "\n",
      "ell_programs:\n",
      "  Schools with data: 335/335 (100.0%)\n",
      "  Sample: English as a New Language...\n",
      "  Sample: English as a New Language...\n",
      "\n",
      "offer_rate1:\n",
      "  Schools with data: 231/335 (69.0%)\n",
      "  Sample: Â—5% of offers went to this group...\n",
      "  Sample: Â—63% of offers went to this group...\n",
      "\n",
      "program1:\n",
      "  Schools with data: 335/335 (100.0%)\n",
      "  Sample: Orchard Collegiate Academy...\n",
      "  Sample: University Neighborhood High School...\n",
      "\n",
      "language_classes:\n",
      "  Schools with data: 331/335 (98.8%)\n",
      "  Sample: Spanish...\n",
      "  Sample: Chinese (Mandarin), Spanish...\n",
      "\n",
      "advancedplacement_courses:\n",
      "  Schools with data: 266/335 (79.4%)\n",
      "  Sample: AP US History...\n",
      "  Sample: AP Calculus, AP Chinese, AP English, AP Spanish, AP Studio Art, AP US Government and Politics...\n",
      "\n",
      "program2:\n",
      "  Schools with data: 120/335 (35.8%)\n",
      "  Sample: Bilingual Mandarin...\n",
      "  Sample: The Urban Assembly School of Business for Young Women...\n",
      "\n",
      "offer_rate2:\n",
      "  Schools with data: 53/335 (15.8%)\n",
      "  Sample: Â—15% of offers went to this group...\n",
      "  Sample: Â—23% of offers went to this group...\n",
      "\n",
      "program3:\n",
      "  Schools with data: 70/335 (20.9%)\n",
      "  Sample: University Neighborhood Early College...\n",
      "  Sample: Classical Vocal Music...\n",
      "\n",
      "program4:\n",
      "  Schools with data: 53/335 (15.8%)\n",
      "  Sample: Dance...\n",
      "  Sample: Drama...\n",
      "\n",
      "program5:\n",
      "  Schools with data: 38/335 (11.3%)\n",
      "  Sample: Instrumental Music...\n",
      "  Sample: Vocal Music...\n"
     ]
    }
   ],
   "source": [
    "# Analyze text columns for common keywords\n",
    "text_cols = merged.select_dtypes(include=['object']).columns.tolist()\n",
    "\n",
    "# Look for program-related text columns\n",
    "program_text_cols = [col for col in text_cols if any(kw in col.lower() for kw in ['program', 'language', 'course', 'offer'])]\n",
    "\n",
    "if program_text_cols:\n",
    "    print(f\"📚 TEXT COLUMNS ABOUT PROGRAMS ({len(program_text_cols)} columns):\\n\")\n",
    "    for col in program_text_cols[:10]:\n",
    "        print(f\"\\n{col}:\")\n",
    "        # Count non-null values\n",
    "        non_null = merged[col].notna().sum()\n",
    "        print(f\"  Schools with data: {non_null}/{len(merged)} ({non_null/len(merged)*100:.1f}%)\")\n",
    "        \n",
    "        # Show sample\n",
    "        sample = merged[col].dropna().head(2)\n",
    "        for val in sample:\n",
    "            print(f\"  Sample: {str(val)[:150]}...\")"
   ]
  },
  {
   "cell_type": "markdown",
   "id": "46341d4d",
   "metadata": {},
   "source": [
    "## 7. School Size Analysis"
   ]
  },
  {
   "cell_type": "code",
   "execution_count": 11,
   "id": "2778db6f",
   "metadata": {},
   "outputs": [
    {
     "name": "stdout",
     "output_type": "stream",
     "text": [
      "👥 ENROLLMENT DATA (1 columns):\n",
      "\n",
      "\n",
      "total_students:\n",
      "  Mean: 774\n",
      "  Median: 482\n",
      "  Range: 77 - 5534\n",
      "  Correlation with SAT: +0.418\n"
     ]
    }
   ],
   "source": [
    "# Find enrollment/size columns\n",
    "enrollment_cols = [col for col in numeric_cols if 'enroll' in col.lower() or 'student' in col.lower() or 'total' in col.lower()]\n",
    "\n",
    "if enrollment_cols:\n",
    "    print(f\"👥 ENROLLMENT DATA ({len(enrollment_cols)} columns):\\n\")\n",
    "    for col in enrollment_cols[:10]:\n",
    "        if col in merged.columns:\n",
    "            print(f\"\\n{col}:\")\n",
    "            print(f\"  Mean: {merged[col].mean():.0f}\")\n",
    "            print(f\"  Median: {merged[col].median():.0f}\")\n",
    "            print(f\"  Range: {merged[col].min():.0f} - {merged[col].max():.0f}\")\n",
    "            \n",
    "            # Correlation with SAT\n",
    "            if col in correlations.index:\n",
    "                print(f\"  Correlation with SAT: {correlations[col]:+.3f}\")"
   ]
  },
  {
   "cell_type": "markdown",
   "id": "75f7ef1d",
   "metadata": {},
   "source": [
    "## 8. Create Feature Dataset for ML"
   ]
  },
  {
   "cell_type": "code",
   "execution_count": 12,
   "id": "f6db4801",
   "metadata": {},
   "outputs": [
    {
     "name": "stdout",
     "output_type": "stream",
     "text": [
      "✅ ML-ready dataset created!\n",
      "   Shape: (294, 43)\n",
      "   Schools: 294\n",
      "   Features: 40\n",
      "\n",
      "📁 Saved to: data/processed/ml_features_dataset.csv\n",
      "\n",
      "🎯 TOP FEATURES FOR MODELING:\n",
      "\n",
      "  • grade9swdapplicants8\n",
      "  • grade9geapplicantsperseat8\n",
      "  • grade9swdapplicantsperseat8\n",
      "  • grade9geapplicants8\n",
      "  • college_career_rate\n",
      "  • grade9geapplicants1\n",
      "  • grade9geapplicantsperseat3\n",
      "  • grade9geapplicantsperseat7\n",
      "  • graduation_rate\n",
      "  • grade9geapplicants3\n",
      "  • grade9swdapplicantsperseat5\n",
      "  • grade9geapplicantsperseat6\n",
      "  • attendance_rate\n",
      "  • grade9geapplicantsperseat1\n",
      "  • grade9swdapplicantsperseat6\n"
     ]
    }
   ],
   "source": [
    "# Select top correlated features for machine learning\n",
    "if len(correlations) > 0:\n",
    "    # Get top 20 positive and negative correlations\n",
    "    top_features = list(correlations.head(20).index) + list(correlations.tail(20).index)\n",
    "    \n",
    "    # Create ML-ready dataset\n",
    "    ml_data = merged[['dbn', 'school_name_sat', 'total_score'] + top_features].copy()\n",
    "    \n",
    "    # Remove rows with missing SAT scores\n",
    "    ml_data = ml_data.dropna(subset=['total_score'])\n",
    "    \n",
    "    # Save for ML notebook\n",
    "    from scripts.utils import save_csv\n",
    "    save_csv(ml_data, \"ml_features_dataset.csv\", subfolder=\"processed\", index=False)\n",
    "    \n",
    "    print(f\"✅ ML-ready dataset created!\")\n",
    "    print(f\"   Shape: {ml_data.shape}\")\n",
    "    print(f\"   Schools: {len(ml_data)}\")\n",
    "    print(f\"   Features: {len(top_features)}\")\n",
    "    print(f\"\\n📁 Saved to: data/processed/ml_features_dataset.csv\")\n",
    "    \n",
    "    print(f\"\\n🎯 TOP FEATURES FOR MODELING:\\n\")\n",
    "    for feat in top_features[:15]:\n",
    "        print(f\"  • {feat}\")"
   ]
  },
  {
   "cell_type": "markdown",
   "id": "9010a34a",
   "metadata": {},
   "source": [
    "## 9. Key Insights Summary"
   ]
  },
  {
   "cell_type": "code",
   "execution_count": 13,
   "id": "96b29fde",
   "metadata": {},
   "outputs": [
    {
     "name": "stdout",
     "output_type": "stream",
     "text": [
      "======================================================================\n",
      "🎓 DEMOGRAPHICS EXPLORATION - KEY FINDINGS\n",
      "======================================================================\n",
      "\n",
      "📊 Dataset Overview:\n",
      "   • Total columns explored: 343\n",
      "   • Schools with demographics: 440\n",
      "   • Schools with SAT scores: 460\n",
      "   • Schools with both: 335\n",
      "\n",
      "🔢 Numeric Features:\n",
      "   • Numeric columns found: 111\n",
      "   • Columns with correlations: 65\n",
      "\n",
      "🔝 Strongest Positive Correlation:\n",
      "   • grade9swdapplicants8\n",
      "   • Correlation: +1.000\n",
      "\n",
      "🔻 Strongest Negative Correlation:\n",
      "   • seats9ge8\n",
      "   • Correlation: -1.000\n",
      "\n",
      "📚 Column Categories Found:\n",
      "   • Programs: 72 columns\n",
      "   • Enrollment: 63 columns\n",
      "   • Location: 6 columns\n",
      "   • Contact: 4 columns\n",
      "   • Academic: 6 columns\n",
      "   • Activities: 5 columns\n",
      "   • Overview: 44 columns\n",
      "\n",
      "💡 Next Steps:\n",
      "   1. Use ml_features_dataset.csv for predictive modeling\n",
      "   2. Investigate top correlated features in detail\n",
      "   3. Explore text columns for qualitative insights\n",
      "   4. Build visualizations for top factors\n",
      "\n",
      "======================================================================\n",
      "✅ Demographics Exploration Complete!\n",
      "======================================================================\n"
     ]
    }
   ],
   "source": [
    "print(\"=\"*70)\n",
    "print(\"🎓 DEMOGRAPHICS EXPLORATION - KEY FINDINGS\")\n",
    "print(\"=\"*70)\n",
    "\n",
    "print(f\"\\n📊 Dataset Overview:\")\n",
    "print(f\"   • Total columns explored: {len(demo.columns)}\")\n",
    "print(f\"   • Schools with demographics: {len(demo)}\")\n",
    "print(f\"   • Schools with SAT scores: {len(sat)}\")\n",
    "print(f\"   • Schools with both: {len(merged)}\")\n",
    "\n",
    "print(f\"\\n🔢 Numeric Features:\")\n",
    "print(f\"   • Numeric columns found: {len(numeric_cols)}\")\n",
    "print(f\"   • Columns with correlations: {len(correlations)}\")\n",
    "\n",
    "if len(correlations) > 0:\n",
    "    print(f\"\\n🔝 Strongest Positive Correlation:\")\n",
    "    top_pos = correlations.iloc[0]\n",
    "    print(f\"   • {correlations.index[0]}\")\n",
    "    print(f\"   • Correlation: {top_pos:+.3f}\")\n",
    "    \n",
    "    print(f\"\\n🔻 Strongest Negative Correlation:\")\n",
    "    top_neg = correlations.iloc[-1]\n",
    "    print(f\"   • {correlations.index[-1]}\")\n",
    "    print(f\"   • Correlation: {top_neg:+.3f}\")\n",
    "\n",
    "print(f\"\\n📚 Column Categories Found:\")\n",
    "for category, cols in categorized_columns.items():\n",
    "    print(f\"   • {category}: {len(cols)} columns\")\n",
    "\n",
    "print(f\"\\n💡 Next Steps:\")\n",
    "print(f\"   1. Use ml_features_dataset.csv for predictive modeling\")\n",
    "print(f\"   2. Investigate top correlated features in detail\")\n",
    "print(f\"   3. Explore text columns for qualitative insights\")\n",
    "print(f\"   4. Build visualizations for top factors\")\n",
    "\n",
    "print(\"\\n\" + \"=\"*70)\n",
    "print(\"✅ Demographics Exploration Complete!\")\n",
    "print(\"=\"*70)"
   ]
  },
  {
   "cell_type": "markdown",
   "id": "d098ce0d",
   "metadata": {},
   "source": [
    "## 🎯 Next: Predictive Modeling\n",
    "\n",
    "Now that we've identified key features, we can:\n",
    "1. Build a model to predict SAT scores\n",
    "2. Identify which factors matter most\n",
    "3. Find schools that under/over-perform expectations\n",
    "\n",
    "**Continue to:** `notebooks/predictive_modeling.ipynb`"
   ]
  }
 ],
 "metadata": {
  "kernelspec": {
   "display_name": ".venv",
   "language": "python",
   "name": "python3"
  },
  "language_info": {
   "codemirror_mode": {
    "name": "ipython",
    "version": 3
   },
   "file_extension": ".py",
   "mimetype": "text/x-python",
   "name": "python",
   "nbconvert_exporter": "python",
   "pygments_lexer": "ipython3",
   "version": "3.11.9"
  }
 },
 "nbformat": 4,
 "nbformat_minor": 5
}
